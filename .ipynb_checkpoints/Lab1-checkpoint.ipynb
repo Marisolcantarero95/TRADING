{
 "cells": [
  {
   "cell_type": "markdown",
   "metadata": {},
   "source": [
    "___\n",
    "<img style=\"float: right; margin: 0px 0px 15px 15px;\" src=\"https://www.carrerasenlinea.mx/logos/original/logo-instituto-tecnologico-y-de-estudios-superiores-de-occidente.png\" width=\"150px\" height=\"100px\" />\n",
    "\n",
    "# Microestructuras y Sistema de Trading\n",
    "## Laboratorio 1\n",
    "\n",
    "### EQUIPO:\n",
    "#### - Tere\n",
    "#### - Ana Laura Correa\n",
    "#### - Gaspar Benitez\n",
    "#### - Marysol Cantarero"
   ]
  },
  {
   "cell_type": "markdown",
   "metadata": {},
   "source": [
    "##### Situación: \n",
    "Acabas de entrar a trabajar a una operadora de fondos de inversión como analista financiero dentro de la mesa de análisis del mercado de renta variable. En la junta trimestral se plantea la posibilidad de crear un fondo propio con exposición al mercado de valores de USA tratando de replicar a los ETFs conocidos como ishares que la empresa BlackRock ofrece. \n",
    "\n",
    "La idea es replicar un ETF con posiciones en directo. Te han asignado la tarea de hacer un ejercicio simple de replicar la construcción de un portafolio de inversión y un criterio de rebalanceo lo más parecido a un ETF de ishares que tu selecciones. Esto con la finalidad de comparar los resultados de haber rebalanceado periódicamente el portafolio, ó, no haberlo hecho y continuar todo un año con las mismas posiciones.\n"
   ]
  },
  {
   "cell_type": "markdown",
   "metadata": {},
   "source": [
    "##### Características mínimas de solución: \n",
    "Debido a tu formación, te piden que este proceso que construyas sea repetible para cualquier ETF y también incluir 3 medidas de atribución al desempeño, tanto para el caso que el ETF nunca hubiese sido rebalanceado como para los casos donde sí. \n",
    "\n",
    "En la mesa de análisis están interesados en conocer el proceso que sigues para adquirir, limpiar, dar formato y utilizar los datos, y a pesar que el equipo senior de análisis está compuesto por personal altamente calificado en temas de economía y finanzas, ellos no saben programar por lo que te piden que incluyas el código utilizado, y que sea de manera ordenada y explicando el sentido de las funciones y paqueterías que requeriste. \n",
    "\n",
    "Comparar con 1 año de información: 1.8.18 al 1.8.19 \n",
    "\n",
    "Utilizar un ETF de Ishares para el mercado de renta varialbe de USA \n",
    "\n",
    "Entregar un Jupyter Notebook con explicación y comentarios en el código \n",
    "\n",
    "Crear y actualizar continuamente un repositorio en GitHub para el proyecto."
   ]
  },
  {
   "cell_type": "markdown",
   "metadata": {},
   "source": [
    "##### RESOLUCIÓN DE PROBLEMA\n",
    "\n",
    "Los ETF(Exchange Trade Funds) son fondos o instrumentos de inversión cuyos títulos cotizan en la bolsa, al igual que una acción bursátil,pudiendose comprar y vender en cualquier momento, sin necesidad de esperar al cierre del mercado. Su objetivo es replicar el comportamiento de los activos que componen un índice bursátil, ya sea de renta fija, variable, divisas o materias primas u otros activos financieros.\n",
    "\n",
    "Para este problema se analizara el ETF \"iShares U.S. Financials ETF (IYF)\" para el mercado de renta variable de USA con posiciones en directo tomando información del 01/Agosto/2018 al 01/Agosto/2019. Sin embargo, el código a realizar debe ser repetible para cualquier ETF.\n",
    "\n",
    "Las 3 medidas de atribución al desempeño que se eligieron para la comparación de los resultados son: Rendimiento, volatilidad y medidas de desempeño."
   ]
  },
  {
   "cell_type": "code",
   "execution_count": 1,
   "metadata": {},
   "outputs": [],
   "source": [
    "# DESCARGA DE LIBRERIAS\n",
    "import quandl\n",
    "import datetime\n",
    "import numpy as np\n",
    "import pandas as pd\n",
    "import scipy.stats as stats\n",
    "import matplotlib.pyplot as plt"
   ]
  },
  {
   "cell_type": "code",
   "execution_count": 14,
   "metadata": {},
   "outputs": [],
   "source": [
    "# FUNCIÓN PARA DESCARGA DE ARCHIVOS CON DATOS ETF (ISHARES)\n",
    "def holdings_csv(narch,name):\n",
    "    data = []\n",
    "    for i in range(narch):\n",
    "        r = name+str(i)+\".csv\"\n",
    "        info = pd.read_csv(r,header=10, index_col= 0)\n",
    "        info = info.dropna() # quitando los datos vacios.\n",
    "        info = info.drop(columns = ['Name', 'Asset Class', \"Market Value\", 'Notional Value', 'Sector', 'SEDOL', 'ISIN', 'Exchange'])\n",
    "        data2 = data.append(info)\n",
    "    return (data)\n",
    "holdings = holdings_csv(13,\"IYF_holdings\")"
   ]
  },
  {
   "cell_type": "code",
   "execution_count": null,
   "metadata": {},
   "outputs": [],
   "source": [
    "# FUNCIÓN PARA DESCARGA DE DATOS HISTÓRICOS (QUANDL)\n",
    "quandl.ApiConfig.api_key = \"My9ygJsz7yTDx_9jcneH\"  # Quandl API key\n",
    "fechas = list(['2018-07-31', '2018-08-31', '2018-09-28', '2018-10-31', '2018-11-30',\n",
    "                 '2018-12-31', '2019-01-31', '2019-02-28', '2019-03-29', '2019-04-30',\n",
    "                 '2019-05-31', '2019-06-28', '2019-07-31'])"
   ]
  },
  {
   "cell_type": "code",
   "execution_count": null,
   "metadata": {},
   "outputs": [],
   "source": [
    "index= holdings[0].index\n",
    "q, h = holdings[0].shape"
   ]
  },
  {
   "cell_type": "code",
   "execution_count": null,
   "metadata": {},
   "outputs": [],
   "source": [
    "# Functions for the Model\n",
    "def download_quandl(dates, num_files):\n",
    "    \"\"\"\n",
    "    Function to Download data from Quandl\n",
    "    :param dates: list of Dates to download\n",
    "    :param num_files: number of archives\n",
    "    :return: DF dictionary of Data\n",
    "    \"\"\"\n",
    "    d2 = {}  # Empty dictionary\n",
    "    for i in range(num_files):  # Loop to Download data from Quandl\n",
    "        index= holdings[i].index\n",
    "        q, h = holdings[i].shape\n",
    "        ticker_r = list(index)  # ticker = 'WIKI/AAPL'\n",
    "        date = {'gte': fechas[i], 'lte': fechas[i] }\n",
    "        column = {'columns': ['ticker', 'date', 'Adj_close']}\n",
    "        data = quandl.get_table('WIKI/PRICES', qopts=column, ticker=ticker_r, date=date, paginate=True)\n",
    "        d2[\"Data_{0}\".format(i+1)] = data.set_index('ticker')\n",
    "        d[nom] = d[nom].set_index('Ticker')  # Ticker is set as index\n",
    "    return d2"
   ]
  },
  {
   "cell_type": "code",
   "execution_count": null,
   "metadata": {},
   "outputs": [],
   "source": [
    "quandl.ApiConfig.api_key = \"ekAPZHdA3_kmwr25TxsE\"\n",
    "index= holdings[0].index\n",
    "q, h = holdings[0].shape\n",
    "ticker_r = list(index)  # ticker = 'WIKI/AAPL'\n",
    "date = {'gte': '2017-08-01', 'lte': '2019-08-01' }\n",
    "column = {'columns': ['ticker', 'date', 'Adj_close']}\n",
    "data = quandl.get_table('WIKI/PRICES',  date= date, ticker=ticker_r, paginate=True)\n",
    "data"
   ]
  },
  {
   "cell_type": "markdown",
   "metadata": {},
   "source": [
    "### Construcción portafolio inversión"
   ]
  },
  {
   "cell_type": "code",
   "execution_count": 5,
   "metadata": {},
   "outputs": [],
   "source": [
    "idx = list(index)"
   ]
  },
  {
   "cell_type": "code",
   "execution_count": 12,
   "metadata": {},
   "outputs": [
    {
     "data": {
      "text/plain": [
       "[<matplotlib.lines.Line2D at 0x152f48ab978>]"
      ]
     },
     "execution_count": 12,
     "metadata": {},
     "output_type": "execute_result"
    },
    {
     "data": {
      "image/png": "[encoded data removed]",
      "text/plain": [
       "<Figure size 432x288 with 1 Axes>"
      ]
     },
     "metadata": {
      "needs_background": "light"
     },
     "output_type": "display_data"
    }
   ],
   "source": [
    "plt.title(\"Serie de tiempo ETF IYF\")\n",
    "plt.ylabel(\"NAV\")\n",
    "plt.xlabel(\"Fechas\")\n",
    "plt.axvline(x=0, c = \"green\")\n",
    "plt.axvline(x=22, c = \"greenyellow\")\n",
    "plt.axvline(x=43, c = \"tomato\")\n",
    "plt.axvline(x=64, c = \"lightcoral\")\n",
    "plt.axvline(x=85, c = \"aqua\")\n",
    "plt.axvline(x=106, c = \"plum\")\n",
    "plt.axvline(x=125, c = \"mediumvioletred\")\n",
    "plt.axvline(x=147, c = \"lawngreen\")\n",
    "plt.axvline(x=166, c = \"greenyellow\")\n",
    "plt.axvline(x=186, c = \"gold\")\n",
    "plt.axvline(x=209, c = \"teal\")\n",
    "plt.axvline(x=229, c = \"lavender\")\n",
    "plt.axvline(x=251, c = \"darkmagenta\")\n",
    "plt.plot(nav, c = \"k\")"
   ]
  },
  {
   "cell_type": "code",
   "execution_count": null,
   "metadata": {},
   "outputs": [],
   "source": []
  },
  {
   "cell_type": "code",
   "execution_count": null,
   "metadata": {},
   "outputs": [],
   "source": []
  },
  {
   "cell_type": "code",
   "execution_count": null,
   "metadata": {},
   "outputs": [],
   "source": []
  },
  {
   "cell_type": "markdown",
   "metadata": {},
   "source": [
    "##### BIBLIOGRAFÍA\n",
    "https://www.portafolio.co/economia/finanzas/son-etf-293754\n",
    "\n",
    "https://economipedia.com/definiciones/etf-fondos-cotizados.html\n",
    "\n",
    "https://www.ishares.com/us/products/239508/#/\n"
   ]
  },
  {
   "cell_type": "code",
   "execution_count": null,
   "metadata": {},
   "outputs": [],
   "source": []
  },
  {
   "cell_type": "code",
   "execution_count": null,
   "metadata": {},
   "outputs": [],
   "source": []
  }
 ],
 "metadata": {
  "kernelspec": {
   "display_name": "Python 3",
   "language": "python",
   "name": "python3"
  },
  "language_info": {
   "codemirror_mode": {
    "name": "ipython",
    "version": 3
   },
   "file_extension": ".py",
   "mimetype": "text/x-python",
   "name": "python",
   "nbconvert_exporter": "python",
   "pygments_lexer": "ipython3",
   "version": "3.6.4"
  }
 },
 "nbformat": 4,
 "nbformat_minor": 2
}
