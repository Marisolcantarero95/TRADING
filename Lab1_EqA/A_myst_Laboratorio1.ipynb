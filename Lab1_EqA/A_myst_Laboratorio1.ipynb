{
 "cells": [
  {
   "cell_type": "markdown",
   "metadata": {},
   "source": [
    "___\n",
    "<img style=\"float: right; margin: 0px 0px 15px 15px;\" src=\"https://www.carrerasenlinea.mx/logos/original/logo-instituto-tecnologico-y-de-estudios-superiores-de-occidente.png\" width=\"150px\" height=\"100px\" />\n",
    "\n",
    "# Microestructuras y Sistema de Trading\n",
    "## Laboratorio 1\n",
    "\n",
    "### EQUIPO:\n",
    "#### - Tere Castillo\n",
    "#### - Ana Laura Correa\n",
    "#### - Gaspar Benitez\n",
    "#### - Marysol Cantarero"
   ]
  },
  {
   "cell_type": "markdown",
   "metadata": {},
   "source": [
    "#### Situación: \n",
    "Acabas de entrar a trabajar a una operadora de fondos de inversión como analista financiero dentro de la mesa de análisis del mercado de renta variable. En la junta trimestral se plantea la posibilidad de crear un fondo propio con exposición al mercado de valores de USA tratando de replicar a los ETFs conocidos como ishares que la empresa BlackRock ofrece. \n",
    "\n",
    "La idea es replicar un ETF con posiciones en directo. Te han asignado la tarea de hacer un ejercicio simple de replicar la construcción de un portafolio de inversión y un criterio de rebalanceo lo más parecido a un ETF de ishares que tu selecciones. Esto con la finalidad de comparar los resultados de haber rebalanceado periódicamente el portafolio, ó, no haberlo hecho y continuar todo un año con las mismas posiciones.\n"
   ]
  },
  {
   "cell_type": "markdown",
   "metadata": {},
   "source": [
    "#### Resolucion del problema\n",
    "\n",
    "Los ETF(Exchange Trade Funds) son fondos o instrumentos de inversión cuyos títulos cotizan en la bolsa, al igual que una acción bursátil,pudiendose comprar y vender en cualquier momento, sin necesidad de esperar al cierre del mercado. Su objetivo es replicar el comportamiento de los activos que componen un índice bursátil, ya sea de renta fija, variable, divisas o materias primas u otros activos financieros.\n",
    "\n",
    "Para este problema se analizara el ETF \"iShares U.S. Financials ETF (IYF)\" para el mercado de renta variable de USA con posiciones en directo tomando información del 01/Marzo/2018 al 01/Marzo/2019. Sin embargo, el código a realizar debe ser repetible para cualquier ETF.\n",
    "\n",
    "Las 3 medidas de atribución al desempeño que se eligieron para la comparación de los resultados son: Rendimiento, volatilidad y medidas de desempeño."
   ]
  },
  {
   "cell_type": "markdown",
   "metadata": {},
   "source": [
    "#### Características mínimas de solución: \n",
    "Debido a tu formación, te piden que este proceso que construyas sea repetible para cualquier ETF y también incluir 3 medidas de atribución al desempeño, tanto para el caso que el ETF nunca hubiese sido rebalanceado como para los casos donde sí. \n",
    "\n",
    "En la mesa de análisis están interesados en conocer el proceso que sigues para adquirir, limpiar, dar formato y utilizar los datos, y a pesar que el equipo senior de análisis está compuesto por personal altamente calificado en temas de economía y finanzas, ellos no saben programar por lo que te piden que incluyas el código utilizado, y que sea de manera ordenada y explicando el sentido de las funciones y paqueterías que requeriste. \n",
    "\n",
    "Comparar con 1 año de información: 01/Marzo/2017 al 01/Marzo/2018 \n",
    "\n",
    "Utilizar un ETF de Ishares para el mercado de renta varialbe de USA \n",
    "\n",
    "Entregar un Jupyter Notebook con explicación y comentarios en el código \n",
    "\n",
    "Crear y actualizar continuamente un repositorio en GitHub para el proyecto.\n",
    "\n",
    "#### Resolucion del problema\n",
    "\n",
    "Los ETF(Exchange Trade Funds) son fondos o instrumentos de inversión cuyos títulos cotizan en la bolsa, al igual que una acción bursátil,pudiendose comprar y vender en cualquier momento, sin necesidad de esperar al cierre del mercado. Su objetivo es replicar el comportamiento de los activos que componen un índice bursátil, ya sea de renta fija, variable, divisas o materias primas u otros activos financieros.\n",
    "\n",
    "Para este problema se analizara el ETF \"iShares U.S. Financials ETF (IYF)\" para el mercado de renta variable de USA con posiciones en directo tomando información del 01/Marzo/2017 al 01/Marzo/2018. Sin embargo, el código a realizar debe ser repetible para cualquier ETF.\n",
    "\n",
    "Las 3 medidas de atribución al desempeño que se eligieron para la comparación de los resultados son: Rendimiento, volatilidad y medidas de desempeño."
   ]
  },
  {
   "cell_type": "code",
   "execution_count": 1,
   "metadata": {},
   "outputs": [],
   "source": [
    "# Descarga de librerías\n",
    "import quandl\n",
    "import datetime\n",
    "import numpy as np\n",
    "import pandas as pd\n",
    "import scipy.stats as stats\n",
    "import matplotlib.pyplot as plt"
   ]
  },
  {
   "cell_type": "code",
   "execution_count": 2,
   "metadata": {},
   "outputs": [],
   "source": [
    "quandl.ApiConfig.api_key = \"My9ygJsz7yTDx_9jcneH\"  # API key Quandl\n",
    "narch = 13\n",
    "fechas = list(['2017-02-28', '2017-03-31', '2017-04-28', '2017-05-31', '2017-06-30',\n",
    "                 '2017-07-31', '2017-08-31', '2017-09-29', '2017-10-31', '2017-11-30',\n",
    "                 '2017-12-29', '2018-01-31', '2018-02-28'])\n",
    "tl = [0.4, 0.74, 0.68, 0.86 , 0.84, 1, 0.95, 0.96, 0.99 , 1.14 ,0.28 , 1.43, 1.5]"
   ]
  },
  {
   "cell_type": "markdown",
   "metadata": {},
   "source": [
    "### DESCARGA DE DATOS"
   ]
  },
  {
   "cell_type": "code",
   "execution_count": 3,
   "metadata": {},
   "outputs": [],
   "source": [
    "# Función para descarga de archivos csv de holdings etf y sus tickers \n",
    "def holdings_csv(narch,name):\n",
    "    holdings = []\n",
    "    tickers = []\n",
    "    shares = []\n",
    "    for i in range(narch):\n",
    "        r = name+str(i)+\".csv\"\n",
    "        info = pd.read_csv(r,header=10, index_col= 0)\n",
    "        shar = pd.read_csv(r,nrows=7).loc['Shares Outstanding'][0]\n",
    "        info = info.dropna() # quitando los datos vacios.\n",
    "        info = info.drop(columns = ['Name', 'Asset Class', \"Market Value\", 'Notional Value', 'Sector', 'SEDOL', 'ISIN', 'Exchange'])\n",
    "        holdings.append(info)\n",
    "        tickers.append(list(holdings[i].index))\n",
    "        shares.append(shar)\n",
    "    return holdings, tickers, shares\n",
    "holdings, tickers, shares = holdings_csv(narch,\"IYF_holdings\")"
   ]
  },
  {
   "cell_type": "code",
   "execution_count": 4,
   "metadata": {},
   "outputs": [],
   "source": [
    "# Función para descarga de datos históricos y agrupacion de tickers por fecha (QUANDL)\n",
    "def download_quandl(fechas, tickers):\n",
    "    date = {'gte': fechas[0], 'lte': fechas[-1] }\n",
    "    column = {'columns': ['ticker', 'date', 'Adj_close']}\n",
    "    data = quandl.get_table('WIKI/PRICES', qopts=column, ticker=tickers, date=date, paginate=True)\n",
    "    data = data.set_index('date')\n",
    "    data = data.pivot(columns='ticker') # agrupacion de tickers por fecha \n",
    "    data.columns = data.columns.droplevel(0)\n",
    "    return data"
   ]
  },
  {
   "cell_type": "code",
   "execution_count": 5,
   "metadata": {},
   "outputs": [],
   "source": [
    "#Función para convertir de str a float.\n",
    "def str_to_float(var):\n",
    "    st=var\n",
    "    if type(var[0]) != np.float64:\n",
    "        st=[]\n",
    "        for i in var:\n",
    "            st.append(float(i.replace(',','')))\n",
    "    return (st)"
   ]
  },
  {
   "cell_type": "code",
   "execution_count": 6,
   "metadata": {},
   "outputs": [],
   "source": [
    "# Función para calcular el rendimiento de las series\n",
    "def Rend(narch,name):\n",
    "    h =[]\n",
    "    for i in range(narch-1):\n",
    "        y= np.log(name[i+1]/name[i])\n",
    "        h.append(y)\n",
    "    return h"
   ]
  },
  {
   "cell_type": "code",
   "execution_count": 7,
   "metadata": {},
   "outputs": [],
   "source": [
    "#Función para calcular las medidas de desepeño ( Rendimiento, Variación y sharpe)\n",
    "def medidas_desempeño(narch,Rend,tl):\n",
    "    media = np.mean(Rend)\n",
    "    std = np.std(Rend)\n",
    "    sharpe = (media -tl[i])/std\n",
    "    return media, std, sharpe"
   ]
  },
  {
   "cell_type": "markdown",
   "metadata": {},
   "source": [
    "### LIMPIEZA DE INFORMACIÓN"
   ]
  },
  {
   "cell_type": "code",
   "execution_count": 8,
   "metadata": {},
   "outputs": [],
   "source": [
    "# Juntando tickers para hacer un mismo indice\n",
    "venta=[] \n",
    "igual=[] \n",
    "compra=[] \n",
    "for i in range(narch-1):\n",
    "    venta.append(list(set(tickers[i])-set(tickers[i+1]))) # ya no estan, se vendieron.\n",
    "    igual.append(list(set(tickers[i+1])-set((set(tickers[i+1])-set(tickers[i]))))) # las que permanecieron.\n",
    "    compra.append(list(set(tickers[i+1])-set(tickers[i])))  # aparecieron, se compraron\n",
    "venta = list(np.concatenate(venta))\n",
    "igual = list(np.concatenate(igual))\n",
    "compra = list(np.concatenate(compra))\n",
    "indice = list(set(venta+igual+compra))"
   ]
  },
  {
   "cell_type": "code",
   "execution_count": 9,
   "metadata": {},
   "outputs": [],
   "source": [
    "# Acomodo de información de acuerdo a índice(tickers) en común (Weight(%), Price y Shares)\n",
    "Weights , Prices, Shares = pd.DataFrame(index=indice) , pd.DataFrame(index=indice), pd.DataFrame(index=indice)\n",
    "for i in range(narch):\n",
    "    l,l1,l2= [],[],[]\n",
    "    for j in range(len(tickers[i])):\n",
    "        l.append(holdings[i]['Weight (%)'][tickers[i][j]])\n",
    "        l1.append(holdings[i]['Price'][tickers[i][j]])\n",
    "        l2.append(holdings[i]['Shares'][tickers[i][j]])\n",
    "    l , l1, l2 = pd.DataFrame(l, index=tickers[i]),pd.DataFrame(str_to_float(l1), index=tickers[i]),pd.DataFrame(str_to_float(l2), index=tickers[i])\n",
    "    Weights['Holdings'+str(i)+''] ,Prices['Holdings'+str(i)+''],Shares['Holdings'+str(i)+''] = l ,l1 , l2"
   ]
  },
  {
   "cell_type": "markdown",
   "metadata": {},
   "source": [
    "# ESCENARIOS REBALANCEOS\n",
    "\n",
    "El primer escenario es igual al original para la comparación final, para los demás escenarios realizan distintos rebalanceos.\n",
    "\n",
    "Por ejemplo(periodo rebalanceos): segundo escenario = [0], tercer escenario = [0,1] , cuarto escenario = [0,1] , ... , ultimo escenario = [0,11]\n",
    "\n",
    "En el segundo escenario no hay rebalanceos, es decir, se mantienen las mismas posiciones durante todo el año.\n",
    "Del tercer al ultimo escenario únicamente hay un rebalanceo mensual, el cual se va recorriendo mensualmente por escenario."
   ]
  },
  {
   "cell_type": "markdown",
   "metadata": {},
   "source": [
    "### ESCENARIO A -  ORIGINAL"
   ]
  },
  {
   "cell_type": "code",
   "execution_count": 10,
   "metadata": {},
   "outputs": [
    {
     "data": {
      "text/plain": [
       "[107.66478606632658,\n",
       " 103.75565147341037,\n",
       " 103.78729682901235,\n",
       " 103.37776902738847,\n",
       " 107.17077279021407,\n",
       " 109.50167307784433,\n",
       " 108.45363532186589,\n",
       " 112.13038047386361,\n",
       " 112.85907623999992,\n",
       " 118.3854700424069,\n",
       " 119.28937116196319,\n",
       " 127.25094931379313,\n",
       " 122.42896706809653]"
      ]
     },
     "execution_count": 10,
     "metadata": {},
     "output_type": "execute_result"
    }
   ],
   "source": [
    "def nav(narch):\n",
    "    nav = []\n",
    "    for i in range(narch):\n",
    "        mult = Prices['Holdings'+str(i)+''].dropna() * Shares['Holdings'+str(i)+''].dropna()\n",
    "        mult.loc['USD'] = mult.loc['USD']/100\n",
    "        nav.append(sum(mult) / str_to_float(shares)[i])\n",
    "    return nav\n",
    "navA = nav(narch)\n",
    "navA"
   ]
  },
  {
   "cell_type": "code",
   "execution_count": 11,
   "metadata": {},
   "outputs": [
    {
     "data": {
      "image/png": "[encoded data removed]",
      "text/plain": [
       "<Figure size 432x288 with 1 Axes>"
      ]
     },
     "metadata": {
      "needs_background": "light"
     },
     "output_type": "display_data"
    }
   ],
   "source": [
    "plt.plot(navA)\n",
    "plt.title('NAV per Share Original')\n",
    "plt.show()"
   ]
  },
  {
   "cell_type": "code",
   "execution_count": 12,
   "metadata": {},
   "outputs": [
    {
     "data": {
      "image/png": "[encoded data removed]",
      "text/plain": [
       "<Figure size 432x288 with 1 Axes>"
      ]
     },
     "metadata": {
      "needs_background": "light"
     },
     "output_type": "display_data"
    }
   ],
   "source": [
    "plt.plot(Rend(narch,navA))\n",
    "plt.title('Rendimientos Original')\n",
    "plt.show()"
   ]
  },
  {
   "cell_type": "markdown",
   "metadata": {},
   "source": [
    "### ESCENARIO B - SIN REBALANCEOS"
   ]
  },
  {
   "cell_type": "code",
   "execution_count": 14,
   "metadata": {},
   "outputs": [
    {
     "ename": "ConnectionError",
     "evalue": "HTTPSConnectionPool(host='www.quandl.com', port=443): Max retries exceeded with url: /api/v3/datatables/WIKI/PRICES?qopts.columns%5B%5D=ticker&qopts.columns%5B%5D=date&qopts.columns%5B%5D=Adj_close&ticker%5B%5D=SNH&ticker%5B%5D=SFR&ticker%5B%5D=O&ticker%5B%5D=FRC&ticker%5B%5D=FCEA&ticker%5B%5D=STT&ticker%5B%5D=CYS&ticker%5B%5D=JOE&ticker%5B%5D=UDR&ticker%5B%5D=AHL&ticker%5B%5D=PEB&ticker%5B%5D=FII&ticker%5B%5D=ISBC&ticker%5B%5D=SKT&ticker%5B%5D=BXP&ticker%5B%5D=SF&ticker%5B%5D=SNV&ticker%5B%5D=DEI&ticker%5B%5D=NHI&ticker%5B%5D=JPM&ticker%5B%5D=BDN&ticker%5B%5D=HCP&ticker%5B%5D=MTG&ticker%5B%5D=AXP&ticker%5B%5D=TROW&ticker%5B%5D=HTA&ticker%5B%5D=MAC&ticker%5B%5D=NYCB&ticker%5B%5D=RDN&ticker%5B%5D=WRB&ticker%5B%5D=ZION&ticker%5B%5D=HIG&ticker%5B%5D=GNW&ticker%5B%5D=MKTX&ticker%5B%5D=FNF&ticker%5B%5D=EQC&ticker%5B%5D=NAVI&ticker%5B%5D=PNFP&ticker%5B%5D=UNIT&ticker%5B%5D=GBCI&ticker%5B%5D=HBAN&ticker%5B%5D=TCF&ticker%5B%5D=EQIX&ticker%5B%5D=OUT&ticker%5B%5D=IRM&ticker%5B%5D=AMT&ticker%5B%5D=CFR&ticker%5B%5D=DDR&ticker%5B%5D=THG&ticker%5B%5D=WELL&ticker%5B%5D=CHFC&ticker%5B%5D=FCPT&ticker%5B%5D=LM&ticker%5B%5D=EWBC&ticker%5B%5D=SPGI&ticker%5B%5D=CATY&ticker%5B%5D=AGO&ticker%5B%5D=CXW&ticker%5B%5D=DRE&ticker%5B%5D=AMTD&ticker%5B%5D=LSI&ticker%5B%5D=BAC&ticker%5B%5D=CME&ticker%5B%5D=DFS&ticker%5B%5D=AIG&ticker%5B%5D=HOMB&ticker%5B%5D=PVTB&ticker%5B%5D=LAMR&ticker%5B%5D=LNC&ticker%5B%5D=UE&ticker%5B%5D=SYF&ticker%5B%5D=TCO&ticker%5B%5D=CBL&ticker%5B%5D=NTRS&ticker%5B%5D=WPC&ticker%5B%5D=PBCT&ticker%5B%5D=PACW&ticker%5B%5D=WTM&ticker%5B%5D=UMPQ&ticker%5B%5D=HBHC&ticker%5B%5D=FFIN&ticker%5B%5D=EQY&ticker%5B%5D=GPT&ticker%5B%5D=PRAA&ticker%5B%5D=KEY&ticker%5B%5D=WBS&ticker%5B%5D=PLD&ticker%5B%5D=CFFN&ticker%5B%5D=ICE&ticker%5B%5D=GS&ticker%5B%5D=JLL&ticker%5B%5D=STI&ticker%5B%5D=BGCP&ticker%5B%5D=MTB&ticker%5B%5D=CUBE&ticker%5B%5D=CFG&ticker%5B%5D=HCN&ticker%5B%5D=CUZ&ticker%5B%5D=ALL&ticker%5B%5D=WFC&ticker%5B%5D=CMA&ticker%5B%5D=VOYA&ticker%5B%5D=IBKC&ticker%5B%5D=IBOC&ticker%5B%5D=AWH&ticker%5B%5D=WTFC&ticker%5B%5D=OHI&ticker%5B%5D=WPG&ticker%5B%5D=L&ticker%5B%5D=SBRA&ticker%5B%5D=ACC&ticker%5B%5D=SLG&ticker%5B%5D=PK&ticker%5B%5D=PB&ticker%5B%5D=DOC&ticker%5B%5D=FCNCA&ticker%5B%5D=RE&ticker%5B%5D=VER&ticker%5B%5D=UNM&ticker%5B%5D=CNO&ticker%5B%5D=RYN&ticker%5B%5D=PNC&ticker%5B%5D=PGRE&ticker%5B%5D=DRH&ticker%5B%5D=AFG&ticker%5B%5D=MMC&ticker%5B%5D=WU&ticker%5B%5D=ALLY&ticker%5B%5D=PCH&ticker%5B%5D=EPR&ticker%5B%5D=SIVB&ticker%5B%5D=FR&ticker%5B%5D=LAZ&ticker%5B%5D=V&ticker%5B%5D=CBSH&ticker%5B%5D=WRE&ticker%5B%5D=AFSI&ticker%5B%5D=JNS&ticker%5B%5D=BOKF&ticker%5B%5D=RNR&ticker%5B%5D=SLM&ticker%5B%5D=AMG&ticker%5B%5D=STL&ticker%5B%5D=IVR&ticker%5B%5D=BRO&ticker%5B%5D=WLTW&ticker%5B%5D=CINF&ticker%5B%5D=AKR&ticker%5B%5D=ATH&ticker%5B%5D=OZRK&ticker%5B%5D=COF&ticker%5B%5D=PSA&ticker%5B%5D=FAF&ticker%5B%5D=QCP&ticker%5B%5D=BXS&ticker%5B%5D=VNO&ticker%5B%5D=BLK&ticker%5B%5D=DCT&ticker%5B%5D=AIV&ticker%5B%5D=RF&ticker%5B%5D=USD&ticker%5B%5D=CLI&ticker%5B%5D=EVR&ticker%5B%5D=SEIC&ticker%5B%5D=CCI&ticker%5B%5D=EDR&ticker%5B%5D=TMK&ticker%5B%5D=HPP&ticker%5B%5D=ESS&ticker%5B%5D=BHF&ticker%5B%5D=OFC&ticker%5B%5D=DFT&ticker%5B%5D=STOR&ticker%5B%5D=BPOP&ticker%5B%5D=AVB&ticker%5B%5D=NNN&ticker%5B%5D=AFL&ticker%5B%5D=AIZ&ticker%5B%5D=CXP&ticker%5B%5D=BRX&ticker%5B%5D=RGA&ticker%5B%5D=AXS&ticker%5B%5D=MBFI&ticker%5B%5D=AJG&ticker%5B%5D=RLJ&ticker%5B%5D=TRV&ticker%5B%5D=AMH&ticker%5B%5D=WAL&ticker%5B%5D=GLPI&ticker%5B%5D=SBNY&ticker%5B%5D=FITB&ticker%5B%5D=CIT&ticker%5B%5D=DLR&ticker%5B%5D=MET&ticker%5B%5D=MSCI&ticker%5B%5D=FHN&ticker%5B%5D=FDS&ticker%5B%5D=ESNT&ticker%5B%5D=C&ticker%5B%5D=AGNC&ticker%5B%5D=VTR&ticker%5B%5D=VR&ticker%5B%5D=AON&ticker%5B%5D=HST&ticker%5B%5D=XL&ticker%5B%5D=XHR&ticker%5B%5D=PRI&ticker%5B%5D=PRA&ticker%5B%5D=REG&ticker%5B%5D=SRC&ticker%5B%5D=CB&ticker%5B%5D=AMP&ticker%5B%5D=ERIE&ticker%5B%5D=ELS&ticker%5B%5D=WAFD&ticker%5B%5D=BEN&ticker%5B%5D=PKY&ticker%5B%5D=COR&ticker%5B%5D=CBOE&ticker%5B%5D=USB&ticker%5B%5D=MAA&ticker%5B%5D=EV&ticker%5B%5D=LHO&ticker%5B%5D=SHO&ticker%5B%5D=CBG&ticker%5B%5D=HHC&ticker%5B%5D=UBSI&ticker%5B%5D=RHP&ticker%5B%5D=MA&ticker%5B%5D=MS&ticker%5B%5D=IVZ&ticker%5B%5D=MCO&ticker%5B%5D=ARE&ticker%5B%5D=EXR&ticker%5B%5D=STWD&ticker%5B%5D=TCB&ticker%5B%5D=CCP&ticker%5B%5D=FRT&ticker%5B%5D=RJF&ticker%5B%5D=FNGN&ticker%5B%5D=EGP&ticker%5B%5D=ETFC&ticker%5B%5D=Y&ticker%5B%5D=SPG&ticker%5B%5D=ORI&ticker%5B%5D=WDR&ticker%5B%5D=ENH&ticker%5B%5D=WY&ticker%5B%5D=KIM&ticker%5B%5D=RPAI&ticker%5B%5D=CONE&ticker%5B%5D=MFA&ticker%5B%5D=GEO&ticker%5B%5D=APLE&ticker%5B%5D=BBT&ticker%5B%5D=CLNS&ticker%5B%5D=ASB&ticker%5B%5D=LPT&ticker%5B%5D=BK&ticker%5B%5D=PGR&ticker%5B%5D=KMPR&ticker%5B%5D=NDAQ&ticker%5B%5D=JHG&ticker%5B%5D=WRI&ticker%5B%5D=PDM&ticker%5B%5D=JBGS&ticker%5B%5D=UMBF&ticker%5B%5D=HR&ticker%5B%5D=BOH&ticker%5B%5D=TWO&ticker%5B%5D=CPT&ticker%5B%5D=CACC&ticker%5B%5D=NRZ&ticker%5B%5D=MPW&ticker%5B%5D=SBAC&ticker%5B%5D=PRU&ticker%5B%5D=DFIN&ticker%5B%5D=MKL&ticker%5B%5D=FULT&ticker%5B%5D=BKU&ticker%5B%5D=RLGY&ticker%5B%5D=TCBI&ticker%5B%5D=RLI&ticker%5B%5D=HPT&ticker%5B%5D=KRC&ticker%5B%5D=SCHW&ticker%5B%5D=CIM&ticker%5B%5D=KRG&ticker%5B%5D=HIW&ticker%5B%5D=BLKFDS&ticker%5B%5D=TRMK&ticker%5B%5D=LPLA&ticker%5B%5D=FNB&ticker%5B%5D=BXMT&ticker%5B%5D=NLY&ticker%5B%5D=LXP&ticker%5B%5D=BRKB&ticker%5B%5D=ACGL&ticker%5B%5D=SUI&ticker%5B%5D=GGP&ticker%5B%5D=VLY&ticker%5B%5D=LC&ticker%5B%5D=MCY&ticker%5B%5D=ALEX&ticker%5B%5D=EQR&ticker%5B%5D=PFG&date.gte=2017-02-28&date.lte=2018-02-28 (Caused by NewConnectionError('<urllib3.connection.VerifiedHTTPSConnection object at 0x00000157221976A0>: Failed to establish a new connection: [WinError 10060] Se produjo un error durante el intento de conexión ya que la parte conectada no respondió adecuadamente tras un periodo de tiempo, o bien se produjo un error en la conexión establecida ya que el host conectado no ha podido responder'))",
     "output_type": "error",
     "traceback": [
      "\u001b[1;31m---------------------------------------------------------------------------\u001b[0m",
      "\u001b[1;31mTimeoutError\u001b[0m                              Traceback (most recent call last)",
      "\u001b[1;32m~\\Anaconda3\\lib\\site-packages\\urllib3\\connection.py\u001b[0m in \u001b[0;36m_new_conn\u001b[1;34m(self)\u001b[0m\n\u001b[0;32m    170\u001b[0m             conn = connection.create_connection(\n\u001b[1;32m--> 171\u001b[1;33m                 (self._dns_host, self.port), self.timeout, **extra_kw)\n\u001b[0m\u001b[0;32m    172\u001b[0m \u001b[1;33m\u001b[0m\u001b[0m\n",
      "\u001b[1;32m~\\Anaconda3\\lib\\site-packages\\urllib3\\util\\connection.py\u001b[0m in \u001b[0;36mcreate_connection\u001b[1;34m(address, timeout, source_address, socket_options)\u001b[0m\n\u001b[0;32m     78\u001b[0m     \u001b[1;32mif\u001b[0m \u001b[0merr\u001b[0m \u001b[1;32mis\u001b[0m \u001b[1;32mnot\u001b[0m \u001b[1;32mNone\u001b[0m\u001b[1;33m:\u001b[0m\u001b[1;33m\u001b[0m\u001b[0m\n\u001b[1;32m---> 79\u001b[1;33m         \u001b[1;32mraise\u001b[0m \u001b[0merr\u001b[0m\u001b[1;33m\u001b[0m\u001b[0m\n\u001b[0m\u001b[0;32m     80\u001b[0m \u001b[1;33m\u001b[0m\u001b[0m\n",
      "\u001b[1;32m~\\Anaconda3\\lib\\site-packages\\urllib3\\util\\connection.py\u001b[0m in \u001b[0;36mcreate_connection\u001b[1;34m(address, timeout, source_address, socket_options)\u001b[0m\n\u001b[0;32m     68\u001b[0m                 \u001b[0msock\u001b[0m\u001b[1;33m.\u001b[0m\u001b[0mbind\u001b[0m\u001b[1;33m(\u001b[0m\u001b[0msource_address\u001b[0m\u001b[1;33m)\u001b[0m\u001b[1;33m\u001b[0m\u001b[0m\n\u001b[1;32m---> 69\u001b[1;33m             \u001b[0msock\u001b[0m\u001b[1;33m.\u001b[0m\u001b[0mconnect\u001b[0m\u001b[1;33m(\u001b[0m\u001b[0msa\u001b[0m\u001b[1;33m)\u001b[0m\u001b[1;33m\u001b[0m\u001b[0m\n\u001b[0m\u001b[0;32m     70\u001b[0m             \u001b[1;32mreturn\u001b[0m \u001b[0msock\u001b[0m\u001b[1;33m\u001b[0m\u001b[0m\n",
      "\u001b[1;31mTimeoutError\u001b[0m: [WinError 10060] Se produjo un error durante el intento de conexión ya que la parte conectada no respondió adecuadamente tras un periodo de tiempo, o bien se produjo un error en la conexión establecida ya que el host conectado no ha podido responder",
      "\nDuring handling of the above exception, another exception occurred:\n",
      "\u001b[1;31mNewConnectionError\u001b[0m                        Traceback (most recent call last)",
      "\u001b[1;32m~\\Anaconda3\\lib\\site-packages\\urllib3\\connectionpool.py\u001b[0m in \u001b[0;36murlopen\u001b[1;34m(self, method, url, body, headers, retries, redirect, assert_same_host, timeout, pool_timeout, release_conn, chunked, body_pos, **response_kw)\u001b[0m\n\u001b[0;32m    599\u001b[0m                                                   \u001b[0mbody\u001b[0m\u001b[1;33m=\u001b[0m\u001b[0mbody\u001b[0m\u001b[1;33m,\u001b[0m \u001b[0mheaders\u001b[0m\u001b[1;33m=\u001b[0m\u001b[0mheaders\u001b[0m\u001b[1;33m,\u001b[0m\u001b[1;33m\u001b[0m\u001b[0m\n\u001b[1;32m--> 600\u001b[1;33m                                                   chunked=chunked)\n\u001b[0m\u001b[0;32m    601\u001b[0m \u001b[1;33m\u001b[0m\u001b[0m\n",
      "\u001b[1;32m~\\Anaconda3\\lib\\site-packages\\urllib3\\connectionpool.py\u001b[0m in \u001b[0;36m_make_request\u001b[1;34m(self, conn, method, url, timeout, chunked, **httplib_request_kw)\u001b[0m\n\u001b[0;32m    342\u001b[0m         \u001b[1;32mtry\u001b[0m\u001b[1;33m:\u001b[0m\u001b[1;33m\u001b[0m\u001b[0m\n\u001b[1;32m--> 343\u001b[1;33m             \u001b[0mself\u001b[0m\u001b[1;33m.\u001b[0m\u001b[0m_validate_conn\u001b[0m\u001b[1;33m(\u001b[0m\u001b[0mconn\u001b[0m\u001b[1;33m)\u001b[0m\u001b[1;33m\u001b[0m\u001b[0m\n\u001b[0m\u001b[0;32m    344\u001b[0m         \u001b[1;32mexcept\u001b[0m \u001b[1;33m(\u001b[0m\u001b[0mSocketTimeout\u001b[0m\u001b[1;33m,\u001b[0m \u001b[0mBaseSSLError\u001b[0m\u001b[1;33m)\u001b[0m \u001b[1;32mas\u001b[0m \u001b[0me\u001b[0m\u001b[1;33m:\u001b[0m\u001b[1;33m\u001b[0m\u001b[0m\n",
      "\u001b[1;32m~\\Anaconda3\\lib\\site-packages\\urllib3\\connectionpool.py\u001b[0m in \u001b[0;36m_validate_conn\u001b[1;34m(self, conn)\u001b[0m\n\u001b[0;32m    848\u001b[0m         \u001b[1;32mif\u001b[0m \u001b[1;32mnot\u001b[0m \u001b[0mgetattr\u001b[0m\u001b[1;33m(\u001b[0m\u001b[0mconn\u001b[0m\u001b[1;33m,\u001b[0m \u001b[1;34m'sock'\u001b[0m\u001b[1;33m,\u001b[0m \u001b[1;32mNone\u001b[0m\u001b[1;33m)\u001b[0m\u001b[1;33m:\u001b[0m  \u001b[1;31m# AppEngine might not have  `.sock`\u001b[0m\u001b[1;33m\u001b[0m\u001b[0m\n\u001b[1;32m--> 849\u001b[1;33m             \u001b[0mconn\u001b[0m\u001b[1;33m.\u001b[0m\u001b[0mconnect\u001b[0m\u001b[1;33m(\u001b[0m\u001b[1;33m)\u001b[0m\u001b[1;33m\u001b[0m\u001b[0m\n\u001b[0m\u001b[0;32m    850\u001b[0m \u001b[1;33m\u001b[0m\u001b[0m\n",
      "\u001b[1;32m~\\Anaconda3\\lib\\site-packages\\urllib3\\connection.py\u001b[0m in \u001b[0;36mconnect\u001b[1;34m(self)\u001b[0m\n\u001b[0;32m    313\u001b[0m         \u001b[1;31m# Add certificate verification\u001b[0m\u001b[1;33m\u001b[0m\u001b[1;33m\u001b[0m\u001b[0m\n\u001b[1;32m--> 314\u001b[1;33m         \u001b[0mconn\u001b[0m \u001b[1;33m=\u001b[0m \u001b[0mself\u001b[0m\u001b[1;33m.\u001b[0m\u001b[0m_new_conn\u001b[0m\u001b[1;33m(\u001b[0m\u001b[1;33m)\u001b[0m\u001b[1;33m\u001b[0m\u001b[0m\n\u001b[0m\u001b[0;32m    315\u001b[0m \u001b[1;33m\u001b[0m\u001b[0m\n",
      "\u001b[1;32m~\\Anaconda3\\lib\\site-packages\\urllib3\\connection.py\u001b[0m in \u001b[0;36m_new_conn\u001b[1;34m(self)\u001b[0m\n\u001b[0;32m    179\u001b[0m             raise NewConnectionError(\n\u001b[1;32m--> 180\u001b[1;33m                 self, \"Failed to establish a new connection: %s\" % e)\n\u001b[0m\u001b[0;32m    181\u001b[0m \u001b[1;33m\u001b[0m\u001b[0m\n",
      "\u001b[1;31mNewConnectionError\u001b[0m: <urllib3.connection.VerifiedHTTPSConnection object at 0x00000157221976A0>: Failed to establish a new connection: [WinError 10060] Se produjo un error durante el intento de conexión ya que la parte conectada no respondió adecuadamente tras un periodo de tiempo, o bien se produjo un error en la conexión establecida ya que el host conectado no ha podido responder",
      "\nDuring handling of the above exception, another exception occurred:\n",
      "\u001b[1;31mMaxRetryError\u001b[0m                             Traceback (most recent call last)",
      "\u001b[1;32m~\\Anaconda3\\lib\\site-packages\\requests\\adapters.py\u001b[0m in \u001b[0;36msend\u001b[1;34m(self, request, stream, timeout, verify, cert, proxies)\u001b[0m\n\u001b[0;32m    444\u001b[0m                     \u001b[0mretries\u001b[0m\u001b[1;33m=\u001b[0m\u001b[0mself\u001b[0m\u001b[1;33m.\u001b[0m\u001b[0mmax_retries\u001b[0m\u001b[1;33m,\u001b[0m\u001b[1;33m\u001b[0m\u001b[0m\n\u001b[1;32m--> 445\u001b[1;33m                     \u001b[0mtimeout\u001b[0m\u001b[1;33m=\u001b[0m\u001b[0mtimeout\u001b[0m\u001b[1;33m\u001b[0m\u001b[0m\n\u001b[0m\u001b[0;32m    446\u001b[0m                 )\n",
      "\u001b[1;32m~\\Anaconda3\\lib\\site-packages\\urllib3\\connectionpool.py\u001b[0m in \u001b[0;36murlopen\u001b[1;34m(self, method, url, body, headers, retries, redirect, assert_same_host, timeout, pool_timeout, release_conn, chunked, body_pos, **response_kw)\u001b[0m\n\u001b[0;32m    666\u001b[0m                                 \u001b[0mrelease_conn\u001b[0m\u001b[1;33m=\u001b[0m\u001b[0mrelease_conn\u001b[0m\u001b[1;33m,\u001b[0m \u001b[0mbody_pos\u001b[0m\u001b[1;33m=\u001b[0m\u001b[0mbody_pos\u001b[0m\u001b[1;33m,\u001b[0m\u001b[1;33m\u001b[0m\u001b[0m\n\u001b[1;32m--> 667\u001b[1;33m                                 **response_kw)\n\u001b[0m\u001b[0;32m    668\u001b[0m \u001b[1;33m\u001b[0m\u001b[0m\n",
      "\u001b[1;32m~\\Anaconda3\\lib\\site-packages\\urllib3\\connectionpool.py\u001b[0m in \u001b[0;36murlopen\u001b[1;34m(self, method, url, body, headers, retries, redirect, assert_same_host, timeout, pool_timeout, release_conn, chunked, body_pos, **response_kw)\u001b[0m\n\u001b[0;32m    666\u001b[0m                                 \u001b[0mrelease_conn\u001b[0m\u001b[1;33m=\u001b[0m\u001b[0mrelease_conn\u001b[0m\u001b[1;33m,\u001b[0m \u001b[0mbody_pos\u001b[0m\u001b[1;33m=\u001b[0m\u001b[0mbody_pos\u001b[0m\u001b[1;33m,\u001b[0m\u001b[1;33m\u001b[0m\u001b[0m\n\u001b[1;32m--> 667\u001b[1;33m                                 **response_kw)\n\u001b[0m\u001b[0;32m    668\u001b[0m \u001b[1;33m\u001b[0m\u001b[0m\n",
      "\u001b[1;32m~\\Anaconda3\\lib\\site-packages\\urllib3\\connectionpool.py\u001b[0m in \u001b[0;36murlopen\u001b[1;34m(self, method, url, body, headers, retries, redirect, assert_same_host, timeout, pool_timeout, release_conn, chunked, body_pos, **response_kw)\u001b[0m\n\u001b[0;32m    666\u001b[0m                                 \u001b[0mrelease_conn\u001b[0m\u001b[1;33m=\u001b[0m\u001b[0mrelease_conn\u001b[0m\u001b[1;33m,\u001b[0m \u001b[0mbody_pos\u001b[0m\u001b[1;33m=\u001b[0m\u001b[0mbody_pos\u001b[0m\u001b[1;33m,\u001b[0m\u001b[1;33m\u001b[0m\u001b[0m\n\u001b[1;32m--> 667\u001b[1;33m                                 **response_kw)\n\u001b[0m\u001b[0;32m    668\u001b[0m \u001b[1;33m\u001b[0m\u001b[0m\n",
      "\u001b[1;32m~\\Anaconda3\\lib\\site-packages\\urllib3\\connectionpool.py\u001b[0m in \u001b[0;36murlopen\u001b[1;34m(self, method, url, body, headers, retries, redirect, assert_same_host, timeout, pool_timeout, release_conn, chunked, body_pos, **response_kw)\u001b[0m\n\u001b[0;32m    666\u001b[0m                                 \u001b[0mrelease_conn\u001b[0m\u001b[1;33m=\u001b[0m\u001b[0mrelease_conn\u001b[0m\u001b[1;33m,\u001b[0m \u001b[0mbody_pos\u001b[0m\u001b[1;33m=\u001b[0m\u001b[0mbody_pos\u001b[0m\u001b[1;33m,\u001b[0m\u001b[1;33m\u001b[0m\u001b[0m\n\u001b[1;32m--> 667\u001b[1;33m                                 **response_kw)\n\u001b[0m\u001b[0;32m    668\u001b[0m \u001b[1;33m\u001b[0m\u001b[0m\n",
      "\u001b[1;32m~\\Anaconda3\\lib\\site-packages\\urllib3\\connectionpool.py\u001b[0m in \u001b[0;36murlopen\u001b[1;34m(self, method, url, body, headers, retries, redirect, assert_same_host, timeout, pool_timeout, release_conn, chunked, body_pos, **response_kw)\u001b[0m\n\u001b[0;32m    666\u001b[0m                                 \u001b[0mrelease_conn\u001b[0m\u001b[1;33m=\u001b[0m\u001b[0mrelease_conn\u001b[0m\u001b[1;33m,\u001b[0m \u001b[0mbody_pos\u001b[0m\u001b[1;33m=\u001b[0m\u001b[0mbody_pos\u001b[0m\u001b[1;33m,\u001b[0m\u001b[1;33m\u001b[0m\u001b[0m\n\u001b[1;32m--> 667\u001b[1;33m                                 **response_kw)\n\u001b[0m\u001b[0;32m    668\u001b[0m \u001b[1;33m\u001b[0m\u001b[0m\n",
      "\u001b[1;32m~\\Anaconda3\\lib\\site-packages\\urllib3\\connectionpool.py\u001b[0m in \u001b[0;36murlopen\u001b[1;34m(self, method, url, body, headers, retries, redirect, assert_same_host, timeout, pool_timeout, release_conn, chunked, body_pos, **response_kw)\u001b[0m\n\u001b[0;32m    637\u001b[0m             retries = retries.increment(method, url, error=e, _pool=self,\n\u001b[1;32m--> 638\u001b[1;33m                                         _stacktrace=sys.exc_info()[2])\n\u001b[0m\u001b[0;32m    639\u001b[0m             \u001b[0mretries\u001b[0m\u001b[1;33m.\u001b[0m\u001b[0msleep\u001b[0m\u001b[1;33m(\u001b[0m\u001b[1;33m)\u001b[0m\u001b[1;33m\u001b[0m\u001b[0m\n",
      "\u001b[1;32m~\\Anaconda3\\lib\\site-packages\\urllib3\\util\\retry.py\u001b[0m in \u001b[0;36mincrement\u001b[1;34m(self, method, url, response, error, _pool, _stacktrace)\u001b[0m\n\u001b[0;32m    397\u001b[0m         \u001b[1;32mif\u001b[0m \u001b[0mnew_retry\u001b[0m\u001b[1;33m.\u001b[0m\u001b[0mis_exhausted\u001b[0m\u001b[1;33m(\u001b[0m\u001b[1;33m)\u001b[0m\u001b[1;33m:\u001b[0m\u001b[1;33m\u001b[0m\u001b[0m\n\u001b[1;32m--> 398\u001b[1;33m             \u001b[1;32mraise\u001b[0m \u001b[0mMaxRetryError\u001b[0m\u001b[1;33m(\u001b[0m\u001b[0m_pool\u001b[0m\u001b[1;33m,\u001b[0m \u001b[0murl\u001b[0m\u001b[1;33m,\u001b[0m \u001b[0merror\u001b[0m \u001b[1;32mor\u001b[0m \u001b[0mResponseError\u001b[0m\u001b[1;33m(\u001b[0m\u001b[0mcause\u001b[0m\u001b[1;33m)\u001b[0m\u001b[1;33m)\u001b[0m\u001b[1;33m\u001b[0m\u001b[0m\n\u001b[0m\u001b[0;32m    399\u001b[0m \u001b[1;33m\u001b[0m\u001b[0m\n",
      "\u001b[1;31mMaxRetryError\u001b[0m: HTTPSConnectionPool(host='www.quandl.com', port=443): Max retries exceeded with url: /api/v3/datatables/WIKI/PRICES?qopts.columns%5B%5D=ticker&qopts.columns%5B%5D=date&qopts.columns%5B%5D=Adj_close&ticker%5B%5D=SNH&ticker%5B%5D=SFR&ticker%5B%5D=O&ticker%5B%5D=FRC&ticker%5B%5D=FCEA&ticker%5B%5D=STT&ticker%5B%5D=CYS&ticker%5B%5D=JOE&ticker%5B%5D=UDR&ticker%5B%5D=AHL&ticker%5B%5D=PEB&ticker%5B%5D=FII&ticker%5B%5D=ISBC&ticker%5B%5D=SKT&ticker%5B%5D=BXP&ticker%5B%5D=SF&ticker%5B%5D=SNV&ticker%5B%5D=DEI&ticker%5B%5D=NHI&ticker%5B%5D=JPM&ticker%5B%5D=BDN&ticker%5B%5D=HCP&ticker%5B%5D=MTG&ticker%5B%5D=AXP&ticker%5B%5D=TROW&ticker%5B%5D=HTA&ticker%5B%5D=MAC&ticker%5B%5D=NYCB&ticker%5B%5D=RDN&ticker%5B%5D=WRB&ticker%5B%5D=ZION&ticker%5B%5D=HIG&ticker%5B%5D=GNW&ticker%5B%5D=MKTX&ticker%5B%5D=FNF&ticker%5B%5D=EQC&ticker%5B%5D=NAVI&ticker%5B%5D=PNFP&ticker%5B%5D=UNIT&ticker%5B%5D=GBCI&ticker%5B%5D=HBAN&ticker%5B%5D=TCF&ticker%5B%5D=EQIX&ticker%5B%5D=OUT&ticker%5B%5D=IRM&ticker%5B%5D=AMT&ticker%5B%5D=CFR&ticker%5B%5D=DDR&ticker%5B%5D=THG&ticker%5B%5D=WELL&ticker%5B%5D=CHFC&ticker%5B%5D=FCPT&ticker%5B%5D=LM&ticker%5B%5D=EWBC&ticker%5B%5D=SPGI&ticker%5B%5D=CATY&ticker%5B%5D=AGO&ticker%5B%5D=CXW&ticker%5B%5D=DRE&ticker%5B%5D=AMTD&ticker%5B%5D=LSI&ticker%5B%5D=BAC&ticker%5B%5D=CME&ticker%5B%5D=DFS&ticker%5B%5D=AIG&ticker%5B%5D=HOMB&ticker%5B%5D=PVTB&ticker%5B%5D=LAMR&ticker%5B%5D=LNC&ticker%5B%5D=UE&ticker%5B%5D=SYF&ticker%5B%5D=TCO&ticker%5B%5D=CBL&ticker%5B%5D=NTRS&ticker%5B%5D=WPC&ticker%5B%5D=PBCT&ticker%5B%5D=PACW&ticker%5B%5D=WTM&ticker%5B%5D=UMPQ&ticker%5B%5D=HBHC&ticker%5B%5D=FFIN&ticker%5B%5D=EQY&ticker%5B%5D=GPT&ticker%5B%5D=PRAA&ticker%5B%5D=KEY&ticker%5B%5D=WBS&ticker%5B%5D=PLD&ticker%5B%5D=CFFN&ticker%5B%5D=ICE&ticker%5B%5D=GS&ticker%5B%5D=JLL&ticker%5B%5D=STI&ticker%5B%5D=BGCP&ticker%5B%5D=MTB&ticker%5B%5D=CUBE&ticker%5B%5D=CFG&ticker%5B%5D=HCN&ticker%5B%5D=CUZ&ticker%5B%5D=ALL&ticker%5B%5D=WFC&ticker%5B%5D=CMA&ticker%5B%5D=VOYA&ticker%5B%5D=IBKC&ticker%5B%5D=IBOC&ticker%5B%5D=AWH&ticker%5B%5D=WTFC&ticker%5B%5D=OHI&ticker%5B%5D=WPG&ticker%5B%5D=L&ticker%5B%5D=SBRA&ticker%5B%5D=ACC&ticker%5B%5D=SLG&ticker%5B%5D=PK&ticker%5B%5D=PB&ticker%5B%5D=DOC&ticker%5B%5D=FCNCA&ticker%5B%5D=RE&ticker%5B%5D=VER&ticker%5B%5D=UNM&ticker%5B%5D=CNO&ticker%5B%5D=RYN&ticker%5B%5D=PNC&ticker%5B%5D=PGRE&ticker%5B%5D=DRH&ticker%5B%5D=AFG&ticker%5B%5D=MMC&ticker%5B%5D=WU&ticker%5B%5D=ALLY&ticker%5B%5D=PCH&ticker%5B%5D=EPR&ticker%5B%5D=SIVB&ticker%5B%5D=FR&ticker%5B%5D=LAZ&ticker%5B%5D=V&ticker%5B%5D=CBSH&ticker%5B%5D=WRE&ticker%5B%5D=AFSI&ticker%5B%5D=JNS&ticker%5B%5D=BOKF&ticker%5B%5D=RNR&ticker%5B%5D=SLM&ticker%5B%5D=AMG&ticker%5B%5D=STL&ticker%5B%5D=IVR&ticker%5B%5D=BRO&ticker%5B%5D=WLTW&ticker%5B%5D=CINF&ticker%5B%5D=AKR&ticker%5B%5D=ATH&ticker%5B%5D=OZRK&ticker%5B%5D=COF&ticker%5B%5D=PSA&ticker%5B%5D=FAF&ticker%5B%5D=QCP&ticker%5B%5D=BXS&ticker%5B%5D=VNO&ticker%5B%5D=BLK&ticker%5B%5D=DCT&ticker%5B%5D=AIV&ticker%5B%5D=RF&ticker%5B%5D=USD&ticker%5B%5D=CLI&ticker%5B%5D=EVR&ticker%5B%5D=SEIC&ticker%5B%5D=CCI&ticker%5B%5D=EDR&ticker%5B%5D=TMK&ticker%5B%5D=HPP&ticker%5B%5D=ESS&ticker%5B%5D=BHF&ticker%5B%5D=OFC&ticker%5B%5D=DFT&ticker%5B%5D=STOR&ticker%5B%5D=BPOP&ticker%5B%5D=AVB&ticker%5B%5D=NNN&ticker%5B%5D=AFL&ticker%5B%5D=AIZ&ticker%5B%5D=CXP&ticker%5B%5D=BRX&ticker%5B%5D=RGA&ticker%5B%5D=AXS&ticker%5B%5D=MBFI&ticker%5B%5D=AJG&ticker%5B%5D=RLJ&ticker%5B%5D=TRV&ticker%5B%5D=AMH&ticker%5B%5D=WAL&ticker%5B%5D=GLPI&ticker%5B%5D=SBNY&ticker%5B%5D=FITB&ticker%5B%5D=CIT&ticker%5B%5D=DLR&ticker%5B%5D=MET&ticker%5B%5D=MSCI&ticker%5B%5D=FHN&ticker%5B%5D=FDS&ticker%5B%5D=ESNT&ticker%5B%5D=C&ticker%5B%5D=AGNC&ticker%5B%5D=VTR&ticker%5B%5D=VR&ticker%5B%5D=AON&ticker%5B%5D=HST&ticker%5B%5D=XL&ticker%5B%5D=XHR&ticker%5B%5D=PRI&ticker%5B%5D=PRA&ticker%5B%5D=REG&ticker%5B%5D=SRC&ticker%5B%5D=CB&ticker%5B%5D=AMP&ticker%5B%5D=ERIE&ticker%5B%5D=ELS&ticker%5B%5D=WAFD&ticker%5B%5D=BEN&ticker%5B%5D=PKY&ticker%5B%5D=COR&ticker%5B%5D=CBOE&ticker%5B%5D=USB&ticker%5B%5D=MAA&ticker%5B%5D=EV&ticker%5B%5D=LHO&ticker%5B%5D=SHO&ticker%5B%5D=CBG&ticker%5B%5D=HHC&ticker%5B%5D=UBSI&ticker%5B%5D=RHP&ticker%5B%5D=MA&ticker%5B%5D=MS&ticker%5B%5D=IVZ&ticker%5B%5D=MCO&ticker%5B%5D=ARE&ticker%5B%5D=EXR&ticker%5B%5D=STWD&ticker%5B%5D=TCB&ticker%5B%5D=CCP&ticker%5B%5D=FRT&ticker%5B%5D=RJF&ticker%5B%5D=FNGN&ticker%5B%5D=EGP&ticker%5B%5D=ETFC&ticker%5B%5D=Y&ticker%5B%5D=SPG&ticker%5B%5D=ORI&ticker%5B%5D=WDR&ticker%5B%5D=ENH&ticker%5B%5D=WY&ticker%5B%5D=KIM&ticker%5B%5D=RPAI&ticker%5B%5D=CONE&ticker%5B%5D=MFA&ticker%5B%5D=GEO&ticker%5B%5D=APLE&ticker%5B%5D=BBT&ticker%5B%5D=CLNS&ticker%5B%5D=ASB&ticker%5B%5D=LPT&ticker%5B%5D=BK&ticker%5B%5D=PGR&ticker%5B%5D=KMPR&ticker%5B%5D=NDAQ&ticker%5B%5D=JHG&ticker%5B%5D=WRI&ticker%5B%5D=PDM&ticker%5B%5D=JBGS&ticker%5B%5D=UMBF&ticker%5B%5D=HR&ticker%5B%5D=BOH&ticker%5B%5D=TWO&ticker%5B%5D=CPT&ticker%5B%5D=CACC&ticker%5B%5D=NRZ&ticker%5B%5D=MPW&ticker%5B%5D=SBAC&ticker%5B%5D=PRU&ticker%5B%5D=DFIN&ticker%5B%5D=MKL&ticker%5B%5D=FULT&ticker%5B%5D=BKU&ticker%5B%5D=RLGY&ticker%5B%5D=TCBI&ticker%5B%5D=RLI&ticker%5B%5D=HPT&ticker%5B%5D=KRC&ticker%5B%5D=SCHW&ticker%5B%5D=CIM&ticker%5B%5D=KRG&ticker%5B%5D=HIW&ticker%5B%5D=BLKFDS&ticker%5B%5D=TRMK&ticker%5B%5D=LPLA&ticker%5B%5D=FNB&ticker%5B%5D=BXMT&ticker%5B%5D=NLY&ticker%5B%5D=LXP&ticker%5B%5D=BRKB&ticker%5B%5D=ACGL&ticker%5B%5D=SUI&ticker%5B%5D=GGP&ticker%5B%5D=VLY&ticker%5B%5D=LC&ticker%5B%5D=MCY&ticker%5B%5D=ALEX&ticker%5B%5D=EQR&ticker%5B%5D=PFG&date.gte=2017-02-28&date.lte=2018-02-28 (Caused by NewConnectionError('<urllib3.connection.VerifiedHTTPSConnection object at 0x00000157221976A0>: Failed to establish a new connection: [WinError 10060] Se produjo un error durante el intento de conexión ya que la parte conectada no respondió adecuadamente tras un periodo de tiempo, o bien se produjo un error en la conexión establecida ya que el host conectado no ha podido responder'))",
      "\nDuring handling of the above exception, another exception occurred:\n",
      "\u001b[1;31mConnectionError\u001b[0m                           Traceback (most recent call last)",
      "\u001b[1;32m<ipython-input-14-ec5f552dfa53>\u001b[0m in \u001b[0;36m<module>\u001b[1;34m()\u001b[0m\n\u001b[0;32m      1\u001b[0m \u001b[1;31m#descargando datos quandl y agrupando tickers por fecha.\u001b[0m\u001b[1;33m\u001b[0m\u001b[1;33m\u001b[0m\u001b[0m\n\u001b[1;32m----> 2\u001b[1;33m \u001b[0mprices\u001b[0m \u001b[1;33m=\u001b[0m \u001b[0mdownload_quandl\u001b[0m\u001b[1;33m(\u001b[0m\u001b[0mfechas\u001b[0m\u001b[1;33m,\u001b[0m \u001b[0mindice\u001b[0m\u001b[1;33m)\u001b[0m\u001b[1;33m\u001b[0m\u001b[0m\n\u001b[0m\u001b[0;32m      3\u001b[0m \u001b[0mprices\u001b[0m\u001b[1;33m.\u001b[0m\u001b[0mhead\u001b[0m\u001b[1;33m(\u001b[0m\u001b[1;33m)\u001b[0m\u001b[1;33m\u001b[0m\u001b[0m\n",
      "\u001b[1;32m<ipython-input-4-e7d7c3258179>\u001b[0m in \u001b[0;36mdownload_quandl\u001b[1;34m(fechas, tickers)\u001b[0m\n\u001b[0;32m      3\u001b[0m     \u001b[0mdate\u001b[0m \u001b[1;33m=\u001b[0m \u001b[1;33m{\u001b[0m\u001b[1;34m'gte'\u001b[0m\u001b[1;33m:\u001b[0m \u001b[0mfechas\u001b[0m\u001b[1;33m[\u001b[0m\u001b[1;36m0\u001b[0m\u001b[1;33m]\u001b[0m\u001b[1;33m,\u001b[0m \u001b[1;34m'lte'\u001b[0m\u001b[1;33m:\u001b[0m \u001b[0mfechas\u001b[0m\u001b[1;33m[\u001b[0m\u001b[1;33m-\u001b[0m\u001b[1;36m1\u001b[0m\u001b[1;33m]\u001b[0m \u001b[1;33m}\u001b[0m\u001b[1;33m\u001b[0m\u001b[0m\n\u001b[0;32m      4\u001b[0m     \u001b[0mcolumn\u001b[0m \u001b[1;33m=\u001b[0m \u001b[1;33m{\u001b[0m\u001b[1;34m'columns'\u001b[0m\u001b[1;33m:\u001b[0m \u001b[1;33m[\u001b[0m\u001b[1;34m'ticker'\u001b[0m\u001b[1;33m,\u001b[0m \u001b[1;34m'date'\u001b[0m\u001b[1;33m,\u001b[0m \u001b[1;34m'Adj_close'\u001b[0m\u001b[1;33m]\u001b[0m\u001b[1;33m}\u001b[0m\u001b[1;33m\u001b[0m\u001b[0m\n\u001b[1;32m----> 5\u001b[1;33m     \u001b[0mdata\u001b[0m \u001b[1;33m=\u001b[0m \u001b[0mquandl\u001b[0m\u001b[1;33m.\u001b[0m\u001b[0mget_table\u001b[0m\u001b[1;33m(\u001b[0m\u001b[1;34m'WIKI/PRICES'\u001b[0m\u001b[1;33m,\u001b[0m \u001b[0mqopts\u001b[0m\u001b[1;33m=\u001b[0m\u001b[0mcolumn\u001b[0m\u001b[1;33m,\u001b[0m \u001b[0mticker\u001b[0m\u001b[1;33m=\u001b[0m\u001b[0mtickers\u001b[0m\u001b[1;33m,\u001b[0m \u001b[0mdate\u001b[0m\u001b[1;33m=\u001b[0m\u001b[0mdate\u001b[0m\u001b[1;33m,\u001b[0m \u001b[0mpaginate\u001b[0m\u001b[1;33m=\u001b[0m\u001b[1;32mTrue\u001b[0m\u001b[1;33m)\u001b[0m\u001b[1;33m\u001b[0m\u001b[0m\n\u001b[0m\u001b[0;32m      6\u001b[0m     \u001b[0mdata\u001b[0m \u001b[1;33m=\u001b[0m \u001b[0mdata\u001b[0m\u001b[1;33m.\u001b[0m\u001b[0mset_index\u001b[0m\u001b[1;33m(\u001b[0m\u001b[1;34m'date'\u001b[0m\u001b[1;33m)\u001b[0m\u001b[1;33m\u001b[0m\u001b[0m\n\u001b[0;32m      7\u001b[0m     \u001b[0mdata\u001b[0m \u001b[1;33m=\u001b[0m \u001b[0mdata\u001b[0m\u001b[1;33m.\u001b[0m\u001b[0mpivot\u001b[0m\u001b[1;33m(\u001b[0m\u001b[0mcolumns\u001b[0m\u001b[1;33m=\u001b[0m\u001b[1;34m'ticker'\u001b[0m\u001b[1;33m)\u001b[0m \u001b[1;31m# agrupacion de tickers por fecha\u001b[0m\u001b[1;33m\u001b[0m\u001b[0m\n",
      "\u001b[1;32m~\\Anaconda3\\lib\\site-packages\\quandl\\get_table.py\u001b[0m in \u001b[0;36mget_table\u001b[1;34m(datatable_code, **options)\u001b[0m\n\u001b[0;32m     17\u001b[0m     \u001b[1;32mwhile\u001b[0m \u001b[1;32mTrue\u001b[0m\u001b[1;33m:\u001b[0m\u001b[1;33m\u001b[0m\u001b[0m\n\u001b[0;32m     18\u001b[0m         \u001b[0mnext_options\u001b[0m \u001b[1;33m=\u001b[0m \u001b[0mcopy\u001b[0m\u001b[1;33m.\u001b[0m\u001b[0mdeepcopy\u001b[0m\u001b[1;33m(\u001b[0m\u001b[0moptions\u001b[0m\u001b[1;33m)\u001b[0m\u001b[1;33m\u001b[0m\u001b[0m\n\u001b[1;32m---> 19\u001b[1;33m         \u001b[0mnext_data\u001b[0m \u001b[1;33m=\u001b[0m \u001b[0mDatatable\u001b[0m\u001b[1;33m(\u001b[0m\u001b[0mdatatable_code\u001b[0m\u001b[1;33m)\u001b[0m\u001b[1;33m.\u001b[0m\u001b[0mdata\u001b[0m\u001b[1;33m(\u001b[0m\u001b[0mparams\u001b[0m\u001b[1;33m=\u001b[0m\u001b[0mnext_options\u001b[0m\u001b[1;33m)\u001b[0m\u001b[1;33m\u001b[0m\u001b[0m\n\u001b[0m\u001b[0;32m     20\u001b[0m \u001b[1;33m\u001b[0m\u001b[0m\n\u001b[0;32m     21\u001b[0m         \u001b[1;32mif\u001b[0m \u001b[0mdata\u001b[0m \u001b[1;32mis\u001b[0m \u001b[1;32mNone\u001b[0m\u001b[1;33m:\u001b[0m\u001b[1;33m\u001b[0m\u001b[0m\n",
      "\u001b[1;32m~\\Anaconda3\\lib\\site-packages\\quandl\\model\\datatable.py\u001b[0m in \u001b[0;36mdata\u001b[1;34m(self, **options)\u001b[0m\n\u001b[0;32m     26\u001b[0m         \u001b[1;32mif\u001b[0m \u001b[1;32mnot\u001b[0m \u001b[0moptions\u001b[0m\u001b[1;33m:\u001b[0m\u001b[1;33m\u001b[0m\u001b[0m\n\u001b[0;32m     27\u001b[0m             \u001b[0moptions\u001b[0m \u001b[1;33m=\u001b[0m \u001b[1;33m{\u001b[0m\u001b[1;34m'params'\u001b[0m\u001b[1;33m:\u001b[0m \u001b[1;33m{\u001b[0m\u001b[1;33m}\u001b[0m\u001b[1;33m}\u001b[0m\u001b[1;33m\u001b[0m\u001b[0m\n\u001b[1;32m---> 28\u001b[1;33m         \u001b[1;32mreturn\u001b[0m \u001b[0mData\u001b[0m\u001b[1;33m.\u001b[0m\u001b[0mpage\u001b[0m\u001b[1;33m(\u001b[0m\u001b[0mself\u001b[0m\u001b[1;33m,\u001b[0m \u001b[1;33m**\u001b[0m\u001b[0moptions\u001b[0m\u001b[1;33m)\u001b[0m\u001b[1;33m\u001b[0m\u001b[0m\n\u001b[0m\u001b[0;32m     29\u001b[0m \u001b[1;33m\u001b[0m\u001b[0m\n\u001b[0;32m     30\u001b[0m     \u001b[1;32mdef\u001b[0m \u001b[0mdownload_file\u001b[0m\u001b[1;33m(\u001b[0m\u001b[0mself\u001b[0m\u001b[1;33m,\u001b[0m \u001b[0mfile_or_folder_path\u001b[0m\u001b[1;33m,\u001b[0m \u001b[1;33m**\u001b[0m\u001b[0moptions\u001b[0m\u001b[1;33m)\u001b[0m\u001b[1;33m:\u001b[0m\u001b[1;33m\u001b[0m\u001b[0m\n",
      "\u001b[1;32m~\\Anaconda3\\lib\\site-packages\\quandl\\operations\\list.py\u001b[0m in \u001b[0;36mpage\u001b[1;34m(cls, datatable, **options)\u001b[0m\n\u001b[0;32m     28\u001b[0m         \u001b[0mupdated_options\u001b[0m \u001b[1;33m=\u001b[0m \u001b[0mUtil\u001b[0m\u001b[1;33m.\u001b[0m\u001b[0mconvert_options\u001b[0m\u001b[1;33m(\u001b[0m\u001b[0mrequest_type\u001b[0m\u001b[1;33m=\u001b[0m\u001b[0mrequest_type\u001b[0m\u001b[1;33m,\u001b[0m \u001b[1;33m**\u001b[0m\u001b[0moptions\u001b[0m\u001b[1;33m)\u001b[0m\u001b[1;33m\u001b[0m\u001b[0m\n\u001b[0;32m     29\u001b[0m \u001b[1;33m\u001b[0m\u001b[0m\n\u001b[1;32m---> 30\u001b[1;33m         \u001b[0mr\u001b[0m \u001b[1;33m=\u001b[0m \u001b[0mConnection\u001b[0m\u001b[1;33m.\u001b[0m\u001b[0mrequest\u001b[0m\u001b[1;33m(\u001b[0m\u001b[0mrequest_type\u001b[0m\u001b[1;33m,\u001b[0m \u001b[0mpath\u001b[0m\u001b[1;33m,\u001b[0m \u001b[1;33m**\u001b[0m\u001b[0mupdated_options\u001b[0m\u001b[1;33m)\u001b[0m\u001b[1;33m\u001b[0m\u001b[0m\n\u001b[0m\u001b[0;32m     31\u001b[0m \u001b[1;33m\u001b[0m\u001b[0m\n\u001b[0;32m     32\u001b[0m         \u001b[0mresponse_data\u001b[0m \u001b[1;33m=\u001b[0m \u001b[0mr\u001b[0m\u001b[1;33m.\u001b[0m\u001b[0mjson\u001b[0m\u001b[1;33m(\u001b[0m\u001b[1;33m)\u001b[0m\u001b[1;33m\u001b[0m\u001b[0m\n",
      "\u001b[1;32m~\\Anaconda3\\lib\\site-packages\\quandl\\connection.py\u001b[0m in \u001b[0;36mrequest\u001b[1;34m(cls, http_verb, url, **options)\u001b[0m\n\u001b[0;32m     36\u001b[0m         \u001b[0mabs_url\u001b[0m \u001b[1;33m=\u001b[0m \u001b[1;34m'%s/%s'\u001b[0m \u001b[1;33m%\u001b[0m \u001b[1;33m(\u001b[0m\u001b[0mApiConfig\u001b[0m\u001b[1;33m.\u001b[0m\u001b[0mapi_base\u001b[0m\u001b[1;33m,\u001b[0m \u001b[0murl\u001b[0m\u001b[1;33m)\u001b[0m\u001b[1;33m\u001b[0m\u001b[0m\n\u001b[0;32m     37\u001b[0m \u001b[1;33m\u001b[0m\u001b[0m\n\u001b[1;32m---> 38\u001b[1;33m         \u001b[1;32mreturn\u001b[0m \u001b[0mcls\u001b[0m\u001b[1;33m.\u001b[0m\u001b[0mexecute_request\u001b[0m\u001b[1;33m(\u001b[0m\u001b[0mhttp_verb\u001b[0m\u001b[1;33m,\u001b[0m \u001b[0mabs_url\u001b[0m\u001b[1;33m,\u001b[0m \u001b[1;33m**\u001b[0m\u001b[0moptions\u001b[0m\u001b[1;33m)\u001b[0m\u001b[1;33m\u001b[0m\u001b[0m\n\u001b[0m\u001b[0;32m     39\u001b[0m \u001b[1;33m\u001b[0m\u001b[0m\n\u001b[0;32m     40\u001b[0m     \u001b[1;33m@\u001b[0m\u001b[0mclassmethod\u001b[0m\u001b[1;33m\u001b[0m\u001b[0m\n",
      "\u001b[1;32m~\\Anaconda3\\lib\\site-packages\\quandl\\connection.py\u001b[0m in \u001b[0;36mexecute_request\u001b[1;34m(cls, http_verb, url, **options)\u001b[0m\n\u001b[0;32m     54\u001b[0m             \u001b[1;32mif\u001b[0m \u001b[0me\u001b[0m\u001b[1;33m.\u001b[0m\u001b[0mresponse\u001b[0m\u001b[1;33m:\u001b[0m\u001b[1;33m\u001b[0m\u001b[0m\n\u001b[0;32m     55\u001b[0m                 \u001b[0mcls\u001b[0m\u001b[1;33m.\u001b[0m\u001b[0mhandle_api_error\u001b[0m\u001b[1;33m(\u001b[0m\u001b[0me\u001b[0m\u001b[1;33m.\u001b[0m\u001b[0mresponse\u001b[0m\u001b[1;33m)\u001b[0m\u001b[1;33m\u001b[0m\u001b[0m\n\u001b[1;32m---> 56\u001b[1;33m             \u001b[1;32mraise\u001b[0m \u001b[0me\u001b[0m\u001b[1;33m\u001b[0m\u001b[0m\n\u001b[0m\u001b[0;32m     57\u001b[0m \u001b[1;33m\u001b[0m\u001b[0m\n\u001b[0;32m     58\u001b[0m     \u001b[1;33m@\u001b[0m\u001b[0mclassmethod\u001b[0m\u001b[1;33m\u001b[0m\u001b[0m\n",
      "\u001b[1;32m~\\Anaconda3\\lib\\site-packages\\quandl\\connection.py\u001b[0m in \u001b[0;36mexecute_request\u001b[1;34m(cls, http_verb, url, **options)\u001b[0m\n\u001b[0;32m     46\u001b[0m                                        \u001b[0murl\u001b[0m\u001b[1;33m=\u001b[0m\u001b[0murl\u001b[0m\u001b[1;33m,\u001b[0m\u001b[1;33m\u001b[0m\u001b[0m\n\u001b[0;32m     47\u001b[0m                                        \u001b[0mverify\u001b[0m\u001b[1;33m=\u001b[0m\u001b[0mApiConfig\u001b[0m\u001b[1;33m.\u001b[0m\u001b[0mverify_ssl\u001b[0m\u001b[1;33m,\u001b[0m\u001b[1;33m\u001b[0m\u001b[0m\n\u001b[1;32m---> 48\u001b[1;33m                                        **options)\n\u001b[0m\u001b[0;32m     49\u001b[0m             \u001b[1;32mif\u001b[0m \u001b[0mresponse\u001b[0m\u001b[1;33m.\u001b[0m\u001b[0mstatus_code\u001b[0m \u001b[1;33m<\u001b[0m \u001b[1;36m200\u001b[0m \u001b[1;32mor\u001b[0m \u001b[0mresponse\u001b[0m\u001b[1;33m.\u001b[0m\u001b[0mstatus_code\u001b[0m \u001b[1;33m>=\u001b[0m \u001b[1;36m300\u001b[0m\u001b[1;33m:\u001b[0m\u001b[1;33m\u001b[0m\u001b[0m\n\u001b[0;32m     50\u001b[0m                 \u001b[0mcls\u001b[0m\u001b[1;33m.\u001b[0m\u001b[0mhandle_api_error\u001b[0m\u001b[1;33m(\u001b[0m\u001b[0mresponse\u001b[0m\u001b[1;33m)\u001b[0m\u001b[1;33m\u001b[0m\u001b[0m\n",
      "\u001b[1;32m~\\Anaconda3\\lib\\site-packages\\requests\\sessions.py\u001b[0m in \u001b[0;36mrequest\u001b[1;34m(self, method, url, params, data, headers, cookies, files, auth, timeout, allow_redirects, proxies, hooks, stream, verify, cert, json)\u001b[0m\n\u001b[0;32m    510\u001b[0m         }\n\u001b[0;32m    511\u001b[0m         \u001b[0msend_kwargs\u001b[0m\u001b[1;33m.\u001b[0m\u001b[0mupdate\u001b[0m\u001b[1;33m(\u001b[0m\u001b[0msettings\u001b[0m\u001b[1;33m)\u001b[0m\u001b[1;33m\u001b[0m\u001b[0m\n\u001b[1;32m--> 512\u001b[1;33m         \u001b[0mresp\u001b[0m \u001b[1;33m=\u001b[0m \u001b[0mself\u001b[0m\u001b[1;33m.\u001b[0m\u001b[0msend\u001b[0m\u001b[1;33m(\u001b[0m\u001b[0mprep\u001b[0m\u001b[1;33m,\u001b[0m \u001b[1;33m**\u001b[0m\u001b[0msend_kwargs\u001b[0m\u001b[1;33m)\u001b[0m\u001b[1;33m\u001b[0m\u001b[0m\n\u001b[0m\u001b[0;32m    513\u001b[0m \u001b[1;33m\u001b[0m\u001b[0m\n\u001b[0;32m    514\u001b[0m         \u001b[1;32mreturn\u001b[0m \u001b[0mresp\u001b[0m\u001b[1;33m\u001b[0m\u001b[0m\n",
      "\u001b[1;32m~\\Anaconda3\\lib\\site-packages\\requests\\sessions.py\u001b[0m in \u001b[0;36msend\u001b[1;34m(self, request, **kwargs)\u001b[0m\n\u001b[0;32m    620\u001b[0m \u001b[1;33m\u001b[0m\u001b[0m\n\u001b[0;32m    621\u001b[0m         \u001b[1;31m# Send the request\u001b[0m\u001b[1;33m\u001b[0m\u001b[1;33m\u001b[0m\u001b[0m\n\u001b[1;32m--> 622\u001b[1;33m         \u001b[0mr\u001b[0m \u001b[1;33m=\u001b[0m \u001b[0madapter\u001b[0m\u001b[1;33m.\u001b[0m\u001b[0msend\u001b[0m\u001b[1;33m(\u001b[0m\u001b[0mrequest\u001b[0m\u001b[1;33m,\u001b[0m \u001b[1;33m**\u001b[0m\u001b[0mkwargs\u001b[0m\u001b[1;33m)\u001b[0m\u001b[1;33m\u001b[0m\u001b[0m\n\u001b[0m\u001b[0;32m    623\u001b[0m \u001b[1;33m\u001b[0m\u001b[0m\n\u001b[0;32m    624\u001b[0m         \u001b[1;31m# Total elapsed time of the request (approximately)\u001b[0m\u001b[1;33m\u001b[0m\u001b[1;33m\u001b[0m\u001b[0m\n",
      "\u001b[1;32m~\\Anaconda3\\lib\\site-packages\\requests\\adapters.py\u001b[0m in \u001b[0;36msend\u001b[1;34m(self, request, stream, timeout, verify, cert, proxies)\u001b[0m\n\u001b[0;32m    511\u001b[0m                 \u001b[1;32mraise\u001b[0m \u001b[0mSSLError\u001b[0m\u001b[1;33m(\u001b[0m\u001b[0me\u001b[0m\u001b[1;33m,\u001b[0m \u001b[0mrequest\u001b[0m\u001b[1;33m=\u001b[0m\u001b[0mrequest\u001b[0m\u001b[1;33m)\u001b[0m\u001b[1;33m\u001b[0m\u001b[0m\n\u001b[0;32m    512\u001b[0m \u001b[1;33m\u001b[0m\u001b[0m\n\u001b[1;32m--> 513\u001b[1;33m             \u001b[1;32mraise\u001b[0m \u001b[0mConnectionError\u001b[0m\u001b[1;33m(\u001b[0m\u001b[0me\u001b[0m\u001b[1;33m,\u001b[0m \u001b[0mrequest\u001b[0m\u001b[1;33m=\u001b[0m\u001b[0mrequest\u001b[0m\u001b[1;33m)\u001b[0m\u001b[1;33m\u001b[0m\u001b[0m\n\u001b[0m\u001b[0;32m    514\u001b[0m \u001b[1;33m\u001b[0m\u001b[0m\n\u001b[0;32m    515\u001b[0m         \u001b[1;32mexcept\u001b[0m \u001b[0mClosedPoolError\u001b[0m \u001b[1;32mas\u001b[0m \u001b[0me\u001b[0m\u001b[1;33m:\u001b[0m\u001b[1;33m\u001b[0m\u001b[0m\n",
      "\u001b[1;31mConnectionError\u001b[0m: HTTPSConnectionPool(host='www.quandl.com', port=443): Max retries exceeded with url: /api/v3/datatables/WIKI/PRICES?qopts.columns%5B%5D=ticker&qopts.columns%5B%5D=date&qopts.columns%5B%5D=Adj_close&ticker%5B%5D=SNH&ticker%5B%5D=SFR&ticker%5B%5D=O&ticker%5B%5D=FRC&ticker%5B%5D=FCEA&ticker%5B%5D=STT&ticker%5B%5D=CYS&ticker%5B%5D=JOE&ticker%5B%5D=UDR&ticker%5B%5D=AHL&ticker%5B%5D=PEB&ticker%5B%5D=FII&ticker%5B%5D=ISBC&ticker%5B%5D=SKT&ticker%5B%5D=BXP&ticker%5B%5D=SF&ticker%5B%5D=SNV&ticker%5B%5D=DEI&ticker%5B%5D=NHI&ticker%5B%5D=JPM&ticker%5B%5D=BDN&ticker%5B%5D=HCP&ticker%5B%5D=MTG&ticker%5B%5D=AXP&ticker%5B%5D=TROW&ticker%5B%5D=HTA&ticker%5B%5D=MAC&ticker%5B%5D=NYCB&ticker%5B%5D=RDN&ticker%5B%5D=WRB&ticker%5B%5D=ZION&ticker%5B%5D=HIG&ticker%5B%5D=GNW&ticker%5B%5D=MKTX&ticker%5B%5D=FNF&ticker%5B%5D=EQC&ticker%5B%5D=NAVI&ticker%5B%5D=PNFP&ticker%5B%5D=UNIT&ticker%5B%5D=GBCI&ticker%5B%5D=HBAN&ticker%5B%5D=TCF&ticker%5B%5D=EQIX&ticker%5B%5D=OUT&ticker%5B%5D=IRM&ticker%5B%5D=AMT&ticker%5B%5D=CFR&ticker%5B%5D=DDR&ticker%5B%5D=THG&ticker%5B%5D=WELL&ticker%5B%5D=CHFC&ticker%5B%5D=FCPT&ticker%5B%5D=LM&ticker%5B%5D=EWBC&ticker%5B%5D=SPGI&ticker%5B%5D=CATY&ticker%5B%5D=AGO&ticker%5B%5D=CXW&ticker%5B%5D=DRE&ticker%5B%5D=AMTD&ticker%5B%5D=LSI&ticker%5B%5D=BAC&ticker%5B%5D=CME&ticker%5B%5D=DFS&ticker%5B%5D=AIG&ticker%5B%5D=HOMB&ticker%5B%5D=PVTB&ticker%5B%5D=LAMR&ticker%5B%5D=LNC&ticker%5B%5D=UE&ticker%5B%5D=SYF&ticker%5B%5D=TCO&ticker%5B%5D=CBL&ticker%5B%5D=NTRS&ticker%5B%5D=WPC&ticker%5B%5D=PBCT&ticker%5B%5D=PACW&ticker%5B%5D=WTM&ticker%5B%5D=UMPQ&ticker%5B%5D=HBHC&ticker%5B%5D=FFIN&ticker%5B%5D=EQY&ticker%5B%5D=GPT&ticker%5B%5D=PRAA&ticker%5B%5D=KEY&ticker%5B%5D=WBS&ticker%5B%5D=PLD&ticker%5B%5D=CFFN&ticker%5B%5D=ICE&ticker%5B%5D=GS&ticker%5B%5D=JLL&ticker%5B%5D=STI&ticker%5B%5D=BGCP&ticker%5B%5D=MTB&ticker%5B%5D=CUBE&ticker%5B%5D=CFG&ticker%5B%5D=HCN&ticker%5B%5D=CUZ&ticker%5B%5D=ALL&ticker%5B%5D=WFC&ticker%5B%5D=CMA&ticker%5B%5D=VOYA&ticker%5B%5D=IBKC&ticker%5B%5D=IBOC&ticker%5B%5D=AWH&ticker%5B%5D=WTFC&ticker%5B%5D=OHI&ticker%5B%5D=WPG&ticker%5B%5D=L&ticker%5B%5D=SBRA&ticker%5B%5D=ACC&ticker%5B%5D=SLG&ticker%5B%5D=PK&ticker%5B%5D=PB&ticker%5B%5D=DOC&ticker%5B%5D=FCNCA&ticker%5B%5D=RE&ticker%5B%5D=VER&ticker%5B%5D=UNM&ticker%5B%5D=CNO&ticker%5B%5D=RYN&ticker%5B%5D=PNC&ticker%5B%5D=PGRE&ticker%5B%5D=DRH&ticker%5B%5D=AFG&ticker%5B%5D=MMC&ticker%5B%5D=WU&ticker%5B%5D=ALLY&ticker%5B%5D=PCH&ticker%5B%5D=EPR&ticker%5B%5D=SIVB&ticker%5B%5D=FR&ticker%5B%5D=LAZ&ticker%5B%5D=V&ticker%5B%5D=CBSH&ticker%5B%5D=WRE&ticker%5B%5D=AFSI&ticker%5B%5D=JNS&ticker%5B%5D=BOKF&ticker%5B%5D=RNR&ticker%5B%5D=SLM&ticker%5B%5D=AMG&ticker%5B%5D=STL&ticker%5B%5D=IVR&ticker%5B%5D=BRO&ticker%5B%5D=WLTW&ticker%5B%5D=CINF&ticker%5B%5D=AKR&ticker%5B%5D=ATH&ticker%5B%5D=OZRK&ticker%5B%5D=COF&ticker%5B%5D=PSA&ticker%5B%5D=FAF&ticker%5B%5D=QCP&ticker%5B%5D=BXS&ticker%5B%5D=VNO&ticker%5B%5D=BLK&ticker%5B%5D=DCT&ticker%5B%5D=AIV&ticker%5B%5D=RF&ticker%5B%5D=USD&ticker%5B%5D=CLI&ticker%5B%5D=EVR&ticker%5B%5D=SEIC&ticker%5B%5D=CCI&ticker%5B%5D=EDR&ticker%5B%5D=TMK&ticker%5B%5D=HPP&ticker%5B%5D=ESS&ticker%5B%5D=BHF&ticker%5B%5D=OFC&ticker%5B%5D=DFT&ticker%5B%5D=STOR&ticker%5B%5D=BPOP&ticker%5B%5D=AVB&ticker%5B%5D=NNN&ticker%5B%5D=AFL&ticker%5B%5D=AIZ&ticker%5B%5D=CXP&ticker%5B%5D=BRX&ticker%5B%5D=RGA&ticker%5B%5D=AXS&ticker%5B%5D=MBFI&ticker%5B%5D=AJG&ticker%5B%5D=RLJ&ticker%5B%5D=TRV&ticker%5B%5D=AMH&ticker%5B%5D=WAL&ticker%5B%5D=GLPI&ticker%5B%5D=SBNY&ticker%5B%5D=FITB&ticker%5B%5D=CIT&ticker%5B%5D=DLR&ticker%5B%5D=MET&ticker%5B%5D=MSCI&ticker%5B%5D=FHN&ticker%5B%5D=FDS&ticker%5B%5D=ESNT&ticker%5B%5D=C&ticker%5B%5D=AGNC&ticker%5B%5D=VTR&ticker%5B%5D=VR&ticker%5B%5D=AON&ticker%5B%5D=HST&ticker%5B%5D=XL&ticker%5B%5D=XHR&ticker%5B%5D=PRI&ticker%5B%5D=PRA&ticker%5B%5D=REG&ticker%5B%5D=SRC&ticker%5B%5D=CB&ticker%5B%5D=AMP&ticker%5B%5D=ERIE&ticker%5B%5D=ELS&ticker%5B%5D=WAFD&ticker%5B%5D=BEN&ticker%5B%5D=PKY&ticker%5B%5D=COR&ticker%5B%5D=CBOE&ticker%5B%5D=USB&ticker%5B%5D=MAA&ticker%5B%5D=EV&ticker%5B%5D=LHO&ticker%5B%5D=SHO&ticker%5B%5D=CBG&ticker%5B%5D=HHC&ticker%5B%5D=UBSI&ticker%5B%5D=RHP&ticker%5B%5D=MA&ticker%5B%5D=MS&ticker%5B%5D=IVZ&ticker%5B%5D=MCO&ticker%5B%5D=ARE&ticker%5B%5D=EXR&ticker%5B%5D=STWD&ticker%5B%5D=TCB&ticker%5B%5D=CCP&ticker%5B%5D=FRT&ticker%5B%5D=RJF&ticker%5B%5D=FNGN&ticker%5B%5D=EGP&ticker%5B%5D=ETFC&ticker%5B%5D=Y&ticker%5B%5D=SPG&ticker%5B%5D=ORI&ticker%5B%5D=WDR&ticker%5B%5D=ENH&ticker%5B%5D=WY&ticker%5B%5D=KIM&ticker%5B%5D=RPAI&ticker%5B%5D=CONE&ticker%5B%5D=MFA&ticker%5B%5D=GEO&ticker%5B%5D=APLE&ticker%5B%5D=BBT&ticker%5B%5D=CLNS&ticker%5B%5D=ASB&ticker%5B%5D=LPT&ticker%5B%5D=BK&ticker%5B%5D=PGR&ticker%5B%5D=KMPR&ticker%5B%5D=NDAQ&ticker%5B%5D=JHG&ticker%5B%5D=WRI&ticker%5B%5D=PDM&ticker%5B%5D=JBGS&ticker%5B%5D=UMBF&ticker%5B%5D=HR&ticker%5B%5D=BOH&ticker%5B%5D=TWO&ticker%5B%5D=CPT&ticker%5B%5D=CACC&ticker%5B%5D=NRZ&ticker%5B%5D=MPW&ticker%5B%5D=SBAC&ticker%5B%5D=PRU&ticker%5B%5D=DFIN&ticker%5B%5D=MKL&ticker%5B%5D=FULT&ticker%5B%5D=BKU&ticker%5B%5D=RLGY&ticker%5B%5D=TCBI&ticker%5B%5D=RLI&ticker%5B%5D=HPT&ticker%5B%5D=KRC&ticker%5B%5D=SCHW&ticker%5B%5D=CIM&ticker%5B%5D=KRG&ticker%5B%5D=HIW&ticker%5B%5D=BLKFDS&ticker%5B%5D=TRMK&ticker%5B%5D=LPLA&ticker%5B%5D=FNB&ticker%5B%5D=BXMT&ticker%5B%5D=NLY&ticker%5B%5D=LXP&ticker%5B%5D=BRKB&ticker%5B%5D=ACGL&ticker%5B%5D=SUI&ticker%5B%5D=GGP&ticker%5B%5D=VLY&ticker%5B%5D=LC&ticker%5B%5D=MCY&ticker%5B%5D=ALEX&ticker%5B%5D=EQR&ticker%5B%5D=PFG&date.gte=2017-02-28&date.lte=2018-02-28 (Caused by NewConnectionError('<urllib3.connection.VerifiedHTTPSConnection object at 0x00000157221976A0>: Failed to establish a new connection: [WinError 10060] Se produjo un error durante el intento de conexión ya que la parte conectada no respondió adecuadamente tras un periodo de tiempo, o bien se produjo un error en la conexión establecida ya que el host conectado no ha podido responder'))"
     ]
    }
   ],
   "source": [
    "#descargando datos quandl y agrupando tickers por fecha.\n",
    "prices = download_quandl(fechas, indice)\n",
    "prices.head()"
   ]
  },
  {
   "cell_type": "code",
   "execution_count": null,
   "metadata": {},
   "outputs": [],
   "source": [
    "todo = []\n",
    "for i in range(narch):\n",
    "    prueba = pd.DataFrame(index=fechas)\n",
    "    for j in tickers[i]:  \n",
    "        if j in prices.columns:\n",
    "            x = pd.DataFrame([prices[j].loc[fechas[z]] for z in range(len(fechas))],index=fechas)\n",
    "            prueba[str(j)] = x\n",
    "        else:\n",
    "            x = list(Prices.loc[j])\n",
    "            prueba[str(j)] = x\n",
    "    todo.append(prueba.T)"
   ]
  },
  {
   "cell_type": "code",
   "execution_count": null,
   "metadata": {},
   "outputs": [],
   "source": [
    "todo[0]"
   ]
  },
  {
   "cell_type": "code",
   "execution_count": null,
   "metadata": {},
   "outputs": [],
   "source": [
    "xx"
   ]
  },
  {
   "cell_type": "code",
   "execution_count": null,
   "metadata": {},
   "outputs": [],
   "source": [
    "todo = []\n",
    "for i in range(narch):\n",
    "    prueba = pd.DataFrame(index=fechas)\n",
    "    for j in tickers[i]:  \n",
    "        if j in prices.columns:\n",
    "            for z in range(len(fechas)): \n",
    "                x= prices[j].loc[fechas[z]\n",
    "                if x.isna():\n",
    "                    x=list(Prices.loc[j])\n",
    "                x.append(y)\n",
    "            prueba[str(j)] = x\n",
    "        else:\n",
    "            x = list(Prices.loc[j])\n",
    "            prueba[str(j)] = x\n",
    "    todo.append(prueba.T)"
   ]
  },
  {
   "cell_type": "code",
   "execution_count": null,
   "metadata": {},
   "outputs": [],
   "source": []
  },
  {
   "cell_type": "code",
   "execution_count": null,
   "metadata": {},
   "outputs": [],
   "source": []
  },
  {
   "cell_type": "code",
   "execution_count": null,
   "metadata": {},
   "outputs": [],
   "source": [
    "def nav(narch):\n",
    "    nav = []\n",
    "    for i in range(narch):\n",
    "        mult = Prices['Holdings'+str(i)+''].dropna() * Shares['Holdings'+str(i)+''].dropna()\n",
    "        mult.loc['USD'] = mult.loc['USD']/100\n",
    "        nav.append(sum(mult) / str_to_float(shares)[i])\n",
    "    return nav\n",
    "navA = nav(narch)\n",
    "navA"
   ]
  },
  {
   "cell_type": "markdown",
   "metadata": {},
   "source": [
    "# ESCENARIOS\n",
    "NOTA: Lo unico que se moverá son los pesos de rebalanceo. price y shares quedan igual."
   ]
  },
  {
   "cell_type": "code",
   "execution_count": null,
   "metadata": {},
   "outputs": [],
   "source": []
  },
  {
   "cell_type": "code",
   "execution_count": null,
   "metadata": {},
   "outputs": [],
   "source": [
    "ind_qdl = [list(prices.columns)[i] for i in range(len(prices.columns))]\n",
    "ind = list(set(indice)-set(ind_qdl))  # los que no estan en quandl"
   ]
  },
  {
   "cell_type": "code",
   "execution_count": null,
   "metadata": {},
   "outputs": [],
   "source": [
    "holdings[0].loc['SRC']"
   ]
  },
  {
   "cell_type": "code",
   "execution_count": null,
   "metadata": {},
   "outputs": [],
   "source": [
    "for i in range(narch):\n",
    "    "
   ]
  },
  {
   "cell_type": "markdown",
   "metadata": {},
   "source": [
    "De los 306 activos,  se encontraron 268. Esto quiere decir que no estan los datos de 38 activos.\n",
    "\n",
    "Para los faltantes se utilizaran los mismos datos de los precios mensuales durante todos los días."
   ]
  },
  {
   "cell_type": "code",
   "execution_count": null,
   "metadata": {},
   "outputs": [],
   "source": []
  },
  {
   "cell_type": "code",
   "execution_count": null,
   "metadata": {},
   "outputs": [],
   "source": []
  },
  {
   "cell_type": "code",
   "execution_count": null,
   "metadata": {},
   "outputs": [],
   "source": []
  },
  {
   "cell_type": "code",
   "execution_count": null,
   "metadata": {},
   "outputs": [],
   "source": []
  },
  {
   "cell_type": "code",
   "execution_count": null,
   "metadata": {},
   "outputs": [],
   "source": [
    "v_etf = v_etf(narch) # Valor Total ETF con rebalanceos\n",
    "v_etf"
   ]
  },
  {
   "cell_type": "markdown",
   "metadata": {},
   "source": [
    "### ESCENARIOS : DISTINTOS REBALANCEOS\n",
    "### CRITERIO DE RE BALANCEO."
   ]
  },
  {
   "cell_type": "code",
   "execution_count": null,
   "metadata": {},
   "outputs": [],
   "source": [
    "# FUNCIÓN PARA AJUSTE PESOS DE REBALANCEOS\n",
    "def v_etf2(narch,preb):\n",
    "    v_etf2 = []\n",
    "    for i in range(preb):\n",
    "        H = 'Holdings'+str(i)+''\n",
    "        P,S = str_to_float(Prices[H]) , str_to_float(Shares[H])  \n",
    "        a1 = Weights['Holdings0']*P*S\n",
    "        v_etf1 = sum(a1)\n",
    "        v_etf2.append(v_etf1)\n",
    "    for i in range(narch-preb):\n",
    "        H = 'Holdings'+str(i)+''\n",
    "        P,S = str_to_float(Prices[H]) , str_to_float(Shares[H])\n",
    "        a1 = Weights['Holdings'+str(preb)+'']*P*S\n",
    "        v_etf1 = sum(a1)\n",
    "        v_etf2.append(v_etf1)    \n",
    "    return(v_etf2)"
   ]
  },
  {
   "cell_type": "code",
   "execution_count": null,
   "metadata": {},
   "outputs": [],
   "source": [
    "v_etf2(narch,0)"
   ]
  },
  {
   "cell_type": "code",
   "execution_count": null,
   "metadata": {},
   "outputs": [],
   "source": [
    "# FUNCIÓN PARA AJUSTE PESOS DE REBALANCEOS\n",
    "def v_etf2(narch,preb):\n",
    "    v_etf2 = []\n",
    "    for i in range(preb):\n",
    "        H = 'Holdings'+str(i)+''\n",
    "        P,S = str_to_float(Prices[H]) , str_to_float(Shares[H])  \n",
    "        a1 = Weights['Holdings0']*P*S\n",
    "        v_etf1 = sum(a1)\n",
    "        v_etf2.append(v_etf1)\n",
    "    for i in range(narch-preb):\n",
    "        H = 'Holdings'+str(i)+''\n",
    "        P,S = str_to_float(Prices[H]) , str_to_float(Shares[H])\n",
    "        a1 = Weights['Holdings'+str(preb)+'']*P*S\n",
    "        v_etf1 = sum(a1)\n",
    "        v_etf2.append(v_etf1)    \n",
    "    return(v_etf2)"
   ]
  },
  {
   "cell_type": "code",
   "execution_count": null,
   "metadata": {
    "scrolled": false
   },
   "outputs": [],
   "source": [
    "REBcomp = pd.DataFrame()\n",
    "for i in range(narch):\n",
    "    REBcomp['REBp'+str(i)+''] = v_etf2(narch,i)\n",
    "REBcomp"
   ]
  },
  {
   "cell_type": "code",
   "execution_count": null,
   "metadata": {
    "scrolled": false
   },
   "outputs": [],
   "source": [
    "Idx = REBcomp.columns\n",
    "for i in range(len(Idx)):\n",
    "    plt.plot(REBcomp['REBp'+str(i)+''], label = Idx[i]) \n",
    "plt.legend(bbox_to_anchor=(1.05, 1), loc=2, borderaxespad=0.)\n",
    "plt.show()"
   ]
  },
  {
   "cell_type": "code",
   "execution_count": null,
   "metadata": {},
   "outputs": [],
   "source": [
    "def medidas_desempeño(narch,name,tl):\n",
    "    h =[]\n",
    "    for i in range(narch-1):\n",
    "        y= np.log(name[i+1]/name[i])\n",
    "        h.append(y)\n",
    "    media = np.mean(h)\n",
    "    std = np.std(h)\n",
    "    sharpe = (media -tl)/std\n",
    "    return media, std, sharpe"
   ]
  },
  {
   "cell_type": "code",
   "execution_count": null,
   "metadata": {},
   "outputs": [],
   "source": [
    "h = pd.DataFrame(index=['Rendimiento','Volatilidad','Sharpe'])\n",
    "tl = [0.4, 0.74, 0.68, 0.86 , 0.84, 1, 0.95, 0.96, 0.99 , 1.14 ,0.28 , 1.43, 1.5]\n",
    "for i in range(narch):\n",
    "        nomp = 'REBp'+str(i)+''\n",
    "        h[nomp] = medidas_desempeño(narch,REBcomp[nomp],tl[i]/100)\n",
    "h = h.T\n",
    "h"
   ]
  },
  {
   "cell_type": "code",
   "execution_count": null,
   "metadata": {},
   "outputs": [],
   "source": [
    "#Idx = h.columns\n",
    "#for i in range(len(Idx)):\n",
    "#    plt.plot(h[h.columns[i]], label = Idx[i]) \n",
    "#plt.legend(bbox_to_anchor=(1.05, 1), loc=2, borderaxespad=0.)\n",
    "#plt.show()"
   ]
  },
  {
   "cell_type": "markdown",
   "metadata": {},
   "source": [
    "### VALOR NAV (Net Asset Value) o VL(Valor liquidativo)\n",
    "La rentabilidad pasada no es indicativa de la rentabilidad futura y no debe ser el único factor que se considere a la hora de seleccionar un producto. Los datos de rentabilidad se basan en el valor liquidativo (Net Asset Value, NAV) del ETF que puede no ser el mismo que el precio de mercado del ETF. Los accionistas individuales pueden obtener rendimientos distintos de la rentabilidad del NAV.\n",
    "\n",
    "\n",
    "VL = P / N = Patrimonio neto del fondo(Valor de la Cartera del fondo) / Número de participaciones del fondo.\n",
    "\n",
    "*El valor de la cartera de fondo es precios x shares.*\n",
    "*El número de participaciones del fondo falta sacarlo.*"
   ]
  },
  {
   "cell_type": "code",
   "execution_count": null,
   "metadata": {},
   "outputs": [],
   "source": [
    "nav_m = [info.loc[i]['NAV per Share'][0] for i in fechas]\n",
    "shares_out = [info.loc[i]['Shares Outstanding'][0] for i in fechas]\n",
    "info_m = pd.DataFrame(index=fechas)\n",
    "info_m['NAV per Share'] = nav_m\n",
    "info_m['Shares Outstanding'] = shares_out\n",
    "info_m"
   ]
  },
  {
   "cell_type": "code",
   "execution_count": null,
   "metadata": {},
   "outputs": [],
   "source": [
    "plt.plot(info_m['NAV per Share'])\n",
    "plt.title('NAV per Share')\n",
    "plt.show()"
   ]
  },
  {
   "cell_type": "code",
   "execution_count": null,
   "metadata": {},
   "outputs": [],
   "source": []
  },
  {
   "cell_type": "code",
   "execution_count": null,
   "metadata": {},
   "outputs": [],
   "source": []
  },
  {
   "cell_type": "code",
   "execution_count": null,
   "metadata": {},
   "outputs": [],
   "source": []
  },
  {
   "cell_type": "code",
   "execution_count": null,
   "metadata": {},
   "outputs": [],
   "source": []
  },
  {
   "cell_type": "markdown",
   "metadata": {},
   "source": [
    "### COMPARACIÓN DE RESULTADOS: REBALANCEO VS. MISMAS POSICIONES"
   ]
  },
  {
   "cell_type": "code",
   "execution_count": null,
   "metadata": {},
   "outputs": [],
   "source": [
    "# MEDIDAS DE ATRIBUCIÓN AL DESEMPEÑO"
   ]
  },
  {
   "cell_type": "markdown",
   "metadata": {},
   "source": [
    "### CONCLUSIONES\n",
    "....."
   ]
  },
  {
   "cell_type": "code",
   "execution_count": null,
   "metadata": {},
   "outputs": [],
   "source": []
  },
  {
   "cell_type": "code",
   "execution_count": null,
   "metadata": {},
   "outputs": [],
   "source": []
  },
  {
   "cell_type": "code",
   "execution_count": null,
   "metadata": {},
   "outputs": [],
   "source": []
  },
  {
   "cell_type": "code",
   "execution_count": null,
   "metadata": {},
   "outputs": [],
   "source": [
    "# Función para descarga de datos históricos (QUANDL)\n",
    "def download_quandl(fechas, narch):\n",
    "    d2 = []  # Empty dictionary\n",
    "    for i in range(narch):  # Loop to Download data from Quandl\n",
    "        index= holdings[i].index\n",
    "        q, h = holdings[i].shape\n",
    "        ticker_r = list(index)  # ticker = 'WIKI/AAPL'\n",
    "        date = {'gte': fechas[i], 'lte': fechas[i] }\n",
    "        column = {'columns': ['ticker', 'date', 'Adj_close']}\n",
    "        data = quandl.get_table('WIKI/PRICES', qopts=column, ticker=ticker_r, date=date)\n",
    "        data = data.set_index('ticker')\n",
    "        d2.append(data)\n",
    "    return d2\n",
    "prices = download_quandl(fechas,narch)\n",
    "prices"
   ]
  },
  {
   "cell_type": "code",
   "execution_count": null,
   "metadata": {},
   "outputs": [],
   "source": [
    "# LIMPIEZA DE DATOS \n",
    "def clean_data(narch, prices, holdings):\n",
    "    d =[]\n",
    "    hold = []\n",
    "    for i in range(narch):\n",
    "        a = set(list(prices[i].index))\n",
    "        b = set(list(holdings[i].index))\n",
    "        c = []\n",
    "        for item in b:\n",
    "            if item not in a:\n",
    "                 c.append(item)\n",
    "        d.append(c)\n",
    "        holdi = holdings[i].drop(d[i]) # Se eliminan datos de ishares que no estan en quandl.\n",
    "        hold.append(holdi)\n",
    "    return hold\n",
    "d = clean_data(narch, prices, holdings)\n",
    "d"
   ]
  },
  {
   "cell_type": "markdown",
   "metadata": {},
   "source": [
    "### BIBLIOGRAFÍA\n",
    "https://www.portafolio.co/economia/finanzas/son-etf-293754\n",
    "\n",
    "https://economipedia.com/definiciones/etf-fondos-cotizados.html\n",
    "\n",
    "https://www.ishares.com/us/products/239508/#/\n",
    "\n",
    "https://www.quandl.com/tools/python\n",
    "\n"
   ]
  },
  {
   "cell_type": "code",
   "execution_count": null,
   "metadata": {},
   "outputs": [],
   "source": []
  }
 ],
 "metadata": {
  "kernelspec": {
   "display_name": "Python 3",
   "language": "python",
   "name": "python3"
  },
  "language_info": {
   "codemirror_mode": {
    "name": "ipython",
    "version": 3
   },
   "file_extension": ".py",
   "mimetype": "text/x-python",
   "name": "python",
   "nbconvert_exporter": "python",
   "pygments_lexer": "ipython3",
   "version": "3.7.0"
  }
 },
 "nbformat": 4,
 "nbformat_minor": 2
}
