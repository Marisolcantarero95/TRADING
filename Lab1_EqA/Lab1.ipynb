{
 "cells": [
  {
   "cell_type": "markdown",
   "metadata": {},
   "source": [
    "___\n",
    "<img style=\"float: right; margin: 0px 0px 15px 15px;\" src=\"https://www.carrerasenlinea.mx/logos/original/logo-instituto-tecnologico-y-de-estudios-superiores-de-occidente.png\" width=\"150px\" height=\"100px\" />\n",
    "\n",
    "# Microestructuras y Sistema de Trading\n",
    "## Laboratorio 1\n",
    "\n",
    "### EQUIPO:\n",
    "#### - Tere Castillo\n",
    "#### - Ana Laura Correa\n",
    "#### - Gaspar Benitez\n",
    "#### - Marysol Cantarero"
   ]
  },
  {
   "cell_type": "markdown",
   "metadata": {},
   "source": [
    "#### Situación: \n",
    "Acabas de entrar a trabajar a una operadora de fondos de inversión como analista financiero dentro de la mesa de análisis del mercado de renta variable. En la junta trimestral se plantea la posibilidad de crear un fondo propio con exposición al mercado de valores de USA tratando de replicar a los ETFs conocidos como ishares que la empresa BlackRock ofrece. \n",
    "\n",
    "La idea es replicar un ETF con posiciones en directo. Te han asignado la tarea de hacer un ejercicio simple de replicar la construcción de un portafolio de inversión y un criterio de rebalanceo lo más parecido a un ETF de ishares que tu selecciones. Esto con la finalidad de comparar los resultados de haber rebalanceado periódicamente el portafolio, ó, no haberlo hecho y continuar todo un año con las mismas posiciones.\n"
   ]
  },
  {
   "cell_type": "markdown",
   "metadata": {},
   "source": [
    "#### Resolucion del problema\n",
    "\n",
    "Los ETF(Exchange Trade Funds) son fondos o instrumentos de inversión cuyos títulos cotizan en la bolsa, al igual que una acción bursátil,pudiendose comprar y vender en cualquier momento, sin necesidad de esperar al cierre del mercado. Su objetivo es replicar el comportamiento de los activos que componen un índice bursátil, ya sea de renta fija, variable, divisas o materias primas u otros activos financieros.\n",
    "\n",
    "Para este problema se analizara el ETF \"iShares U.S. Financials ETF (IYF)\" para el mercado de renta variable de USA con posiciones en directo tomando información del 01/Marzo/2018 al 01/Marzo/2019. Sin embargo, el código a realizar debe ser repetible para cualquier ETF.\n",
    "\n",
    "Las 3 medidas de atribución al desempeño que se eligieron para la comparación de los resultados son: Rendimiento, volatilidad y medidas de desempeño."
   ]
  },
  {
   "cell_type": "markdown",
   "metadata": {},
   "source": [
    "#### Características mínimas de solución: \n",
    "Debido a tu formación, te piden que este proceso que construyas sea repetible para cualquier ETF y también incluir 3 medidas de atribución al desempeño, tanto para el caso que el ETF nunca hubiese sido rebalanceado como para los casos donde sí. \n",
    "\n",
    "En la mesa de análisis están interesados en conocer el proceso que sigues para adquirir, limpiar, dar formato y utilizar los datos, y a pesar que el equipo senior de análisis está compuesto por personal altamente calificado en temas de economía y finanzas, ellos no saben programar por lo que te piden que incluyas el código utilizado, y que sea de manera ordenada y explicando el sentido de las funciones y paqueterías que requeriste. \n",
    "\n",
    "Comparar con 1 año de información: 01/Marzo/2017 al 01/Marzo/2018 \n",
    "\n",
    "Utilizar un ETF de Ishares para el mercado de renta varialbe de USA \n",
    "\n",
    "Entregar un Jupyter Notebook con explicación y comentarios en el código \n",
    "\n",
    "Crear y actualizar continuamente un repositorio en GitHub para el proyecto.\n",
    "\n",
    "#### Resolucion del problema\n",
    "\n",
    "Los ETF(Exchange Trade Funds) son fondos o instrumentos de inversión cuyos títulos cotizan en la bolsa, al igual que una acción bursátil,pudiendose comprar y vender en cualquier momento, sin necesidad de esperar al cierre del mercado. Su objetivo es replicar el comportamiento de los activos que componen un índice bursátil, ya sea de renta fija, variable, divisas o materias primas u otros activos financieros.\n",
    "\n",
    "Para este problema se analizara el ETF \"iShares U.S. Financials ETF (IYF)\" para el mercado de renta variable de USA con posiciones en directo tomando información del 01/Marzo/2017 al 01/Marzo/2018. Sin embargo, el código a realizar debe ser repetible para cualquier ETF.\n",
    "\n",
    "Las 3 medidas de atribución al desempeño que se eligieron para la comparación de los resultados son: Rendimiento, volatilidad y medidas de desempeño."
   ]
  },
  {
   "cell_type": "code",
   "execution_count": 1115,
   "metadata": {},
   "outputs": [],
   "source": [
    "# DESCARGA DE LIBRERIAS\n",
    "import quandl\n",
    "import datetime\n",
    "import numpy as np\n",
    "import pandas as pd\n",
    "import scipy.stats as stats\n",
    "import matplotlib.pyplot as plt"
   ]
  },
  {
   "cell_type": "markdown",
   "metadata": {},
   "source": [
    "### DESCARGA DE DATOS"
   ]
  },
  {
   "cell_type": "code",
   "execution_count": 1116,
   "metadata": {},
   "outputs": [],
   "source": [
    "# FUNCIÓN PARA DESCARGA DE ARCHIVOS CON DATOS HOLDINGS ETF Y LOS TICKERS(INDIDES) DE CADA ARCHIVO (ISHARES)\n",
    "def holdings_csv(narch,name):\n",
    "    holdings = []\n",
    "    tickers = []\n",
    "    for i in range(narch):\n",
    "        r = name+str(i)+\".csv\"\n",
    "        info = pd.read_csv(r,header=10, index_col= 0)\n",
    "        info = info.dropna() # quitando los datos vacios.\n",
    "        info = info.drop(columns = ['Name', 'Asset Class', \"Market Value\", 'Notional Value', 'Sector', 'SEDOL', 'ISIN', 'Exchange'])\n",
    "        holdings.append(info)\n",
    "        tickers.append(list(holdings[i].index))\n",
    "    return holdings, tickers\n",
    "narch = 13\n",
    "holdings, tickers = holdings_csv(narch,\"IYF_holdings\")"
   ]
  },
  {
   "cell_type": "markdown",
   "metadata": {},
   "source": [
    "##### Lo unico que se moverá son los pesos. price y shares quedan igual.\n",
    "### CASO 1 : CONSTRUCCIÓN DE PORTAFOLIO DE INVERSIÓN SIN REBALANCEO (mismos precios)."
   ]
  },
  {
   "cell_type": "code",
   "execution_count": 932,
   "metadata": {
    "scrolled": false
   },
   "outputs": [],
   "source": [
    "# Encontrando los tickers diferentes y quitandolas para tener mismo índice(ajustando tickers)\n",
    "for z in range(narch): \n",
    "    for i in range(narch-1):\n",
    "        if len(tickers[z])>=len(tickers[i+1]):\n",
    "            for j in tickers[z]:\n",
    "                if j not in tickers[i+1]:\n",
    "                    tickers[z].remove(j)\n",
    "        else:\n",
    "            for j in tickers[i+1]:\n",
    "                if j not in tickers[z]:\n",
    "                    tickers[i+1].remove(j)\n",
    "indice = pd.DataFrame(tickers).T"
   ]
  },
  {
   "cell_type": "code",
   "execution_count": 1118,
   "metadata": {},
   "outputs": [],
   "source": [
    "# Acomodo de información de acuerdo a Tickers (Weight(%), Price y Shares)\n",
    "DtF = pd.DataFrame()\n",
    "DtF1 = pd.DataFrame()\n",
    "DtF2 =  pd.DataFrame()\n",
    "for i in range(narch):\n",
    "    l= []\n",
    "    l1= []\n",
    "    l2= []\n",
    "    for j in range(indice.shape[0]):\n",
    "        l.append(holdings[i]['Weight (%)'][indice[0][j]])\n",
    "        l1.append(holdings[i]['Price'][indice[0][j]])\n",
    "        l2.append(holdings[i]['Shares'][indice[0][j]])\n",
    "    DtF['Holdings'+str(i)+''] = l\n",
    "    DtF1['Holdings'+str(i)+''] = l1\n",
    "    DtF2['Holdings'+str(i)+''] = l2\n",
    "Weights = DtF.set_index(indice[0])\n",
    "Prices = DtF1.set_index(indice[0])\n",
    "Shares = DtF2.set_index(indice[0])"
   ]
  },
  {
   "cell_type": "code",
   "execution_count": 1119,
   "metadata": {},
   "outputs": [],
   "source": [
    "ST = []\n",
    "for j in range(narch):\n",
    "    st = []\n",
    "    for i in Shares['Holdings'+str(j)+'']:\n",
    "        string = float(i.replace(',',''))\n",
    "        st.append(string)\n",
    "    ST.append(st)   \n",
    "sh = pd.DataFrame(ST).T\n",
    "sh = sh.set_index(indice[0])"
   ]
  },
  {
   "cell_type": "markdown",
   "metadata": {},
   "source": [
    "##### No es el mismo valor que el etf original ya que se eliminaron tickers que no tenían todos los periodos"
   ]
  },
  {
   "cell_type": "code",
   "execution_count": 1150,
   "metadata": {},
   "outputs": [],
   "source": [
    "#FUNCIÓN PARA CALCULAR VALOR DEL ETF\n",
    "def v_etf(narch):\n",
    "    v_etf2 = []\n",
    "    for i in range(narch):\n",
    "        H = 'Holdings'+str(i)+''\n",
    "        st = []\n",
    "        pr = []\n",
    "        if type(Prices[H][0]) == np.float64:  \n",
    "            for i in Shares[H]:\n",
    "                string = float(i.replace(',',''))\n",
    "                st.append(string) \n",
    "            a1 = Weights[H]*Prices[H]*st\n",
    "            v_etf1 = sum(a1)\n",
    "            v_etf2.append(v_etf1)\n",
    "        else:\n",
    "            for i in Shares[H]:\n",
    "                string = float(i.replace(',',''))\n",
    "                st.append(string)     \n",
    "            for j in Prices[H]:\n",
    "                prices = float(j.replace(',',''))\n",
    "                pr.append(prices)  \n",
    "            a1 = Weights[H]*pr*st\n",
    "            v_etf1 = sum(a1)\n",
    "            v_etf2.append(v_etf1)\n",
    "    return(v_etf2)"
   ]
  },
  {
   "cell_type": "code",
   "execution_count": 1151,
   "metadata": {},
   "outputs": [
    {
     "data": {
      "text/plain": [
       "[4702939008.795299,\n",
       " 3981849381.8813024,\n",
       " 3667813409.073704,\n",
       " 3475882852.553502,\n",
       " 3911557212.773802,\n",
       " 4010368973.189203,\n",
       " 4167998917.0356,\n",
       " 4367289647.971802,\n",
       " 4745123731.519703,\n",
       " 4711089644.51111,\n",
       " 4545443525.726699,\n",
       " 5353861485.607294,\n",
       " 5628959832.798496]"
      ]
     },
     "execution_count": 1151,
     "metadata": {},
     "output_type": "execute_result"
    }
   ],
   "source": [
    "v_etf(13)"
   ]
  },
  {
   "cell_type": "code",
   "execution_count": 1017,
   "metadata": {},
   "outputs": [
    {
     "data": {
      "text/plain": [
       "[4710243437.943899,\n",
       " 3988107610.9762025,\n",
       " 3673748875.904403,\n",
       " 3482149652.4258018,\n",
       " 3918183392.8238025,\n",
       " 4016746801.783402,\n",
       " 4174797106.7400994,\n",
       " 4374789295.864503,\n",
       " 4752277165.981703,\n",
       " 4717794817.270909,\n",
       " 4551314846.0201,\n",
       " 5359660229.257094,\n",
       " 5634231631.184796]"
      ]
     },
     "execution_count": 1017,
     "metadata": {},
     "output_type": "execute_result"
    }
   ],
   "source": [
    "# FUNCIÓN PARA CALCULAR VALOR DEL ETF\n",
    "def v_etf(narch):\n",
    "    v_etf2 =[]\n",
    "    for i in range(narch):\n",
    "        w = holdings[i]['Weight (%)'] \n",
    "        p = holdings[i]['Price']   # precios\n",
    "        s = holdings[i]['Shares']  #número de acciones \n",
    "        st = []\n",
    "        pr = []\n",
    "        if type(p[0]) == np.float64:\n",
    "            for i in s:\n",
    "                string = float(i.replace(',',''))\n",
    "                st.append(string)\n",
    "            a1 = w*p*st # Valor en dinero de cada acción\n",
    "            v_etf1 = sum(a1) # Valor Total ETF\n",
    "            v_etf2.append(v_etf1)\n",
    "        else:\n",
    "            for i in s:\n",
    "                string = float(i.replace(',',''))\n",
    "                st.append(string)\n",
    "            for j in p:\n",
    "                prices = float(j.replace(',',''))\n",
    "                pr.append(prices)\n",
    "            a1 = w*pr*st # Valor en dinero de cada acción\n",
    "            v_etf1 = sum(a1) # Valor Total ETF\n",
    "            v_etf2.append(v_etf1)    \n",
    "    return (v_etf2)\n",
    "v_etf = v_etf(narch)\n",
    "v_etf # Valor Total ETF"
   ]
  },
  {
   "cell_type": "code",
   "execution_count": null,
   "metadata": {},
   "outputs": [],
   "source": []
  },
  {
   "cell_type": "code",
   "execution_count": null,
   "metadata": {},
   "outputs": [],
   "source": [
    "# FUNCIÓN PARA CALCULAR VALOR DEL ETF\n",
    "def v_etf(narch):\n",
    "    v_etf2 =[]\n",
    "    for i in range(narch):\n",
    "        w = holdings[i]['Weight (%)'] \n",
    "        p = holdings[i]['Price']   # precios\n",
    "        s = holdings[i]['Shares']  #número de acciones \n",
    "        st = []\n",
    "        pr = []\n",
    "        if type(p[0]) == np.float64:\n",
    "            for i in s:\n",
    "                string = float(i.replace(',',''))\n",
    "                st.append(string)\n",
    "            a1 = w*p*st # Valor en dinero de cada acción\n",
    "            v_etf1 = sum(a1) # Valor Total ETF\n",
    "            v_etf2.append(v_etf1)\n",
    "        else:\n",
    "            for i in s:\n",
    "                string = float(i.replace(',',''))\n",
    "                st.append(string)\n",
    "            for j in p:\n",
    "                prices = float(j.replace(',',''))\n",
    "                pr.append(prices)\n",
    "            a1 = w*pr*st # Valor en dinero de cada acción\n",
    "            v_etf1 = sum(a1) # Valor Total ETF\n",
    "            v_etf2.append(v_etf1)    \n",
    "    return (v_etf2)\n",
    "v_etf = v_etf(narch)\n",
    "v_etf # Valor Total ETF"
   ]
  },
  {
   "cell_type": "code",
   "execution_count": 100,
   "metadata": {},
   "outputs": [
    {
     "ename": "ValueError",
     "evalue": "operands could not be broadcast together with shapes (289,) (287,) ",
     "output_type": "error",
     "traceback": [
      "\u001b[1;31m---------------------------------------------------------------------------\u001b[0m",
      "\u001b[1;31mValueError\u001b[0m                                Traceback (most recent call last)",
      "\u001b[1;32m<ipython-input-100-a57517361288>\u001b[0m in \u001b[0;36m<module>\u001b[1;34m\u001b[0m\n\u001b[0;32m     10\u001b[0m             \u001b[0mstring\u001b[0m \u001b[1;33m=\u001b[0m \u001b[0mfloat\u001b[0m\u001b[1;33m(\u001b[0m\u001b[0mi\u001b[0m\u001b[1;33m.\u001b[0m\u001b[0mreplace\u001b[0m\u001b[1;33m(\u001b[0m\u001b[1;34m','\u001b[0m\u001b[1;33m,\u001b[0m\u001b[1;34m''\u001b[0m\u001b[1;33m)\u001b[0m\u001b[1;33m)\u001b[0m\u001b[1;33m\u001b[0m\u001b[1;33m\u001b[0m\u001b[0m\n\u001b[0;32m     11\u001b[0m             \u001b[0mst\u001b[0m\u001b[1;33m.\u001b[0m\u001b[0mappend\u001b[0m\u001b[1;33m(\u001b[0m\u001b[0mstring\u001b[0m\u001b[1;33m)\u001b[0m\u001b[1;33m\u001b[0m\u001b[1;33m\u001b[0m\u001b[0m\n\u001b[1;32m---> 12\u001b[1;33m         \u001b[0ma1\u001b[0m \u001b[1;33m=\u001b[0m \u001b[0mw\u001b[0m\u001b[1;33m*\u001b[0m\u001b[0mp\u001b[0m\u001b[1;33m*\u001b[0m\u001b[0mst\u001b[0m \u001b[1;31m# Valor en dinero de cada acción\u001b[0m\u001b[1;33m\u001b[0m\u001b[1;33m\u001b[0m\u001b[0m\n\u001b[0m\u001b[0;32m     13\u001b[0m         \u001b[0mv_etf1\u001b[0m \u001b[1;33m=\u001b[0m \u001b[0msum\u001b[0m\u001b[1;33m(\u001b[0m\u001b[0ma1\u001b[0m\u001b[1;33m)\u001b[0m \u001b[1;31m# Valor Total ETF\u001b[0m\u001b[1;33m\u001b[0m\u001b[1;33m\u001b[0m\u001b[0m\n\u001b[0;32m     14\u001b[0m         \u001b[0mv_etf2\u001b[0m\u001b[1;33m.\u001b[0m\u001b[0mappend\u001b[0m\u001b[1;33m(\u001b[0m\u001b[0mv_etf1\u001b[0m\u001b[1;33m)\u001b[0m\u001b[1;33m\u001b[0m\u001b[1;33m\u001b[0m\u001b[0m\n",
      "\u001b[1;32mC:\\ProgramData\\Anaconda3\\lib\\site-packages\\pandas\\core\\ops.py\u001b[0m in \u001b[0;36mwrapper\u001b[1;34m(left, right)\u001b[0m\n\u001b[0;32m   1067\u001b[0m             \u001b[0mrvalues\u001b[0m \u001b[1;33m=\u001b[0m \u001b[0mrvalues\u001b[0m\u001b[1;33m.\u001b[0m\u001b[0mvalues\u001b[0m\u001b[1;33m\u001b[0m\u001b[1;33m\u001b[0m\u001b[0m\n\u001b[0;32m   1068\u001b[0m \u001b[1;33m\u001b[0m\u001b[0m\n\u001b[1;32m-> 1069\u001b[1;33m         \u001b[0mresult\u001b[0m \u001b[1;33m=\u001b[0m \u001b[0msafe_na_op\u001b[0m\u001b[1;33m(\u001b[0m\u001b[0mlvalues\u001b[0m\u001b[1;33m,\u001b[0m \u001b[0mrvalues\u001b[0m\u001b[1;33m)\u001b[0m\u001b[1;33m\u001b[0m\u001b[1;33m\u001b[0m\u001b[0m\n\u001b[0m\u001b[0;32m   1070\u001b[0m         return construct_result(left, result,\n\u001b[0;32m   1071\u001b[0m                                 index=left.index, name=res_name, dtype=None)\n",
      "\u001b[1;32mC:\\ProgramData\\Anaconda3\\lib\\site-packages\\pandas\\core\\ops.py\u001b[0m in \u001b[0;36msafe_na_op\u001b[1;34m(lvalues, rvalues)\u001b[0m\n\u001b[0;32m   1031\u001b[0m         \u001b[1;32mtry\u001b[0m\u001b[1;33m:\u001b[0m\u001b[1;33m\u001b[0m\u001b[1;33m\u001b[0m\u001b[0m\n\u001b[0;32m   1032\u001b[0m             \u001b[1;32mwith\u001b[0m \u001b[0mnp\u001b[0m\u001b[1;33m.\u001b[0m\u001b[0merrstate\u001b[0m\u001b[1;33m(\u001b[0m\u001b[0mall\u001b[0m\u001b[1;33m=\u001b[0m\u001b[1;34m'ignore'\u001b[0m\u001b[1;33m)\u001b[0m\u001b[1;33m:\u001b[0m\u001b[1;33m\u001b[0m\u001b[1;33m\u001b[0m\u001b[0m\n\u001b[1;32m-> 1033\u001b[1;33m                 \u001b[1;32mreturn\u001b[0m \u001b[0mna_op\u001b[0m\u001b[1;33m(\u001b[0m\u001b[0mlvalues\u001b[0m\u001b[1;33m,\u001b[0m \u001b[0mrvalues\u001b[0m\u001b[1;33m)\u001b[0m\u001b[1;33m\u001b[0m\u001b[1;33m\u001b[0m\u001b[0m\n\u001b[0m\u001b[0;32m   1034\u001b[0m         \u001b[1;32mexcept\u001b[0m \u001b[0mException\u001b[0m\u001b[1;33m:\u001b[0m\u001b[1;33m\u001b[0m\u001b[1;33m\u001b[0m\u001b[0m\n\u001b[0;32m   1035\u001b[0m             \u001b[1;32mif\u001b[0m \u001b[0mis_object_dtype\u001b[0m\u001b[1;33m(\u001b[0m\u001b[0mlvalues\u001b[0m\u001b[1;33m)\u001b[0m\u001b[1;33m:\u001b[0m\u001b[1;33m\u001b[0m\u001b[1;33m\u001b[0m\u001b[0m\n",
      "\u001b[1;32mC:\\ProgramData\\Anaconda3\\lib\\site-packages\\pandas\\core\\ops.py\u001b[0m in \u001b[0;36mna_op\u001b[1;34m(x, y)\u001b[0m\n\u001b[0;32m   1010\u001b[0m \u001b[1;33m\u001b[0m\u001b[0m\n\u001b[0;32m   1011\u001b[0m         \u001b[1;32mtry\u001b[0m\u001b[1;33m:\u001b[0m\u001b[1;33m\u001b[0m\u001b[1;33m\u001b[0m\u001b[0m\n\u001b[1;32m-> 1012\u001b[1;33m             \u001b[0mresult\u001b[0m \u001b[1;33m=\u001b[0m \u001b[0mexpressions\u001b[0m\u001b[1;33m.\u001b[0m\u001b[0mevaluate\u001b[0m\u001b[1;33m(\u001b[0m\u001b[0mop\u001b[0m\u001b[1;33m,\u001b[0m \u001b[0mstr_rep\u001b[0m\u001b[1;33m,\u001b[0m \u001b[0mx\u001b[0m\u001b[1;33m,\u001b[0m \u001b[0my\u001b[0m\u001b[1;33m,\u001b[0m \u001b[1;33m**\u001b[0m\u001b[0meval_kwargs\u001b[0m\u001b[1;33m)\u001b[0m\u001b[1;33m\u001b[0m\u001b[1;33m\u001b[0m\u001b[0m\n\u001b[0m\u001b[0;32m   1013\u001b[0m         \u001b[1;32mexcept\u001b[0m \u001b[0mTypeError\u001b[0m\u001b[1;33m:\u001b[0m\u001b[1;33m\u001b[0m\u001b[1;33m\u001b[0m\u001b[0m\n\u001b[0;32m   1014\u001b[0m             \u001b[1;32mif\u001b[0m \u001b[0misinstance\u001b[0m\u001b[1;33m(\u001b[0m\u001b[0my\u001b[0m\u001b[1;33m,\u001b[0m \u001b[1;33m(\u001b[0m\u001b[0mnp\u001b[0m\u001b[1;33m.\u001b[0m\u001b[0mndarray\u001b[0m\u001b[1;33m,\u001b[0m \u001b[0mABCSeries\u001b[0m\u001b[1;33m,\u001b[0m \u001b[0mpd\u001b[0m\u001b[1;33m.\u001b[0m\u001b[0mIndex\u001b[0m\u001b[1;33m)\u001b[0m\u001b[1;33m)\u001b[0m\u001b[1;33m:\u001b[0m\u001b[1;33m\u001b[0m\u001b[1;33m\u001b[0m\u001b[0m\n",
      "\u001b[1;32mC:\\ProgramData\\Anaconda3\\lib\\site-packages\\pandas\\core\\computation\\expressions.py\u001b[0m in \u001b[0;36mevaluate\u001b[1;34m(op, op_str, a, b, use_numexpr, **eval_kwargs)\u001b[0m\n\u001b[0;32m    203\u001b[0m     \u001b[0muse_numexpr\u001b[0m \u001b[1;33m=\u001b[0m \u001b[0muse_numexpr\u001b[0m \u001b[1;32mand\u001b[0m \u001b[0m_bool_arith_check\u001b[0m\u001b[1;33m(\u001b[0m\u001b[0mop_str\u001b[0m\u001b[1;33m,\u001b[0m \u001b[0ma\u001b[0m\u001b[1;33m,\u001b[0m \u001b[0mb\u001b[0m\u001b[1;33m)\u001b[0m\u001b[1;33m\u001b[0m\u001b[1;33m\u001b[0m\u001b[0m\n\u001b[0;32m    204\u001b[0m     \u001b[1;32mif\u001b[0m \u001b[0muse_numexpr\u001b[0m\u001b[1;33m:\u001b[0m\u001b[1;33m\u001b[0m\u001b[1;33m\u001b[0m\u001b[0m\n\u001b[1;32m--> 205\u001b[1;33m         \u001b[1;32mreturn\u001b[0m \u001b[0m_evaluate\u001b[0m\u001b[1;33m(\u001b[0m\u001b[0mop\u001b[0m\u001b[1;33m,\u001b[0m \u001b[0mop_str\u001b[0m\u001b[1;33m,\u001b[0m \u001b[0ma\u001b[0m\u001b[1;33m,\u001b[0m \u001b[0mb\u001b[0m\u001b[1;33m,\u001b[0m \u001b[1;33m**\u001b[0m\u001b[0meval_kwargs\u001b[0m\u001b[1;33m)\u001b[0m\u001b[1;33m\u001b[0m\u001b[1;33m\u001b[0m\u001b[0m\n\u001b[0m\u001b[0;32m    206\u001b[0m     \u001b[1;32mreturn\u001b[0m \u001b[0m_evaluate_standard\u001b[0m\u001b[1;33m(\u001b[0m\u001b[0mop\u001b[0m\u001b[1;33m,\u001b[0m \u001b[0mop_str\u001b[0m\u001b[1;33m,\u001b[0m \u001b[0ma\u001b[0m\u001b[1;33m,\u001b[0m \u001b[0mb\u001b[0m\u001b[1;33m)\u001b[0m\u001b[1;33m\u001b[0m\u001b[1;33m\u001b[0m\u001b[0m\n\u001b[0;32m    207\u001b[0m \u001b[1;33m\u001b[0m\u001b[0m\n",
      "\u001b[1;32mC:\\ProgramData\\Anaconda3\\lib\\site-packages\\pandas\\core\\computation\\expressions.py\u001b[0m in \u001b[0;36m_evaluate_numexpr\u001b[1;34m(op, op_str, a, b, truediv, reversed, **eval_kwargs)\u001b[0m\n\u001b[0;32m    118\u001b[0m \u001b[1;33m\u001b[0m\u001b[0m\n\u001b[0;32m    119\u001b[0m     \u001b[1;32mif\u001b[0m \u001b[0mresult\u001b[0m \u001b[1;32mis\u001b[0m \u001b[1;32mNone\u001b[0m\u001b[1;33m:\u001b[0m\u001b[1;33m\u001b[0m\u001b[1;33m\u001b[0m\u001b[0m\n\u001b[1;32m--> 120\u001b[1;33m         \u001b[0mresult\u001b[0m \u001b[1;33m=\u001b[0m \u001b[0m_evaluate_standard\u001b[0m\u001b[1;33m(\u001b[0m\u001b[0mop\u001b[0m\u001b[1;33m,\u001b[0m \u001b[0mop_str\u001b[0m\u001b[1;33m,\u001b[0m \u001b[0ma\u001b[0m\u001b[1;33m,\u001b[0m \u001b[0mb\u001b[0m\u001b[1;33m)\u001b[0m\u001b[1;33m\u001b[0m\u001b[1;33m\u001b[0m\u001b[0m\n\u001b[0m\u001b[0;32m    121\u001b[0m \u001b[1;33m\u001b[0m\u001b[0m\n\u001b[0;32m    122\u001b[0m     \u001b[1;32mreturn\u001b[0m \u001b[0mresult\u001b[0m\u001b[1;33m\u001b[0m\u001b[1;33m\u001b[0m\u001b[0m\n",
      "\u001b[1;32mC:\\ProgramData\\Anaconda3\\lib\\site-packages\\pandas\\core\\computation\\expressions.py\u001b[0m in \u001b[0;36m_evaluate_standard\u001b[1;34m(op, op_str, a, b, **eval_kwargs)\u001b[0m\n\u001b[0;32m     63\u001b[0m         \u001b[0m_store_test_result\u001b[0m\u001b[1;33m(\u001b[0m\u001b[1;32mFalse\u001b[0m\u001b[1;33m)\u001b[0m\u001b[1;33m\u001b[0m\u001b[1;33m\u001b[0m\u001b[0m\n\u001b[0;32m     64\u001b[0m     \u001b[1;32mwith\u001b[0m \u001b[0mnp\u001b[0m\u001b[1;33m.\u001b[0m\u001b[0merrstate\u001b[0m\u001b[1;33m(\u001b[0m\u001b[0mall\u001b[0m\u001b[1;33m=\u001b[0m\u001b[1;34m'ignore'\u001b[0m\u001b[1;33m)\u001b[0m\u001b[1;33m:\u001b[0m\u001b[1;33m\u001b[0m\u001b[1;33m\u001b[0m\u001b[0m\n\u001b[1;32m---> 65\u001b[1;33m         \u001b[1;32mreturn\u001b[0m \u001b[0mop\u001b[0m\u001b[1;33m(\u001b[0m\u001b[0ma\u001b[0m\u001b[1;33m,\u001b[0m \u001b[0mb\u001b[0m\u001b[1;33m)\u001b[0m\u001b[1;33m\u001b[0m\u001b[1;33m\u001b[0m\u001b[0m\n\u001b[0m\u001b[0;32m     66\u001b[0m \u001b[1;33m\u001b[0m\u001b[0m\n\u001b[0;32m     67\u001b[0m \u001b[1;33m\u001b[0m\u001b[0m\n",
      "\u001b[1;31mValueError\u001b[0m: operands could not be broadcast together with shapes (289,) (287,) "
     ]
    }
   ],
   "source": [
    "# para esto se necesitan ajustar los tickers para que sean iguales.\n",
    "w = holdings[0]['Weight (%)'] # mismos pesos\n",
    "v_etf2 = []\n",
    "for i in range(narch):\n",
    "    p = holdings[i]['Price']   # precios\n",
    "    s = holdings[i]['Shares']  #número de acciones\n",
    "    st = []\n",
    "    pr = []\n",
    "    if type(p[0]) == np.float64:\n",
    "        for i in s:\n",
    "            string = float(i.replace(',',''))\n",
    "            st.append(string)\n",
    "        a1 = w*p*st # Valor en dinero de cada acción\n",
    "        v_etf1 = sum(a1) # Valor Total ETF\n",
    "        v_etf2.append(v_etf1)\n",
    "    else:\n",
    "        for i in s:\n",
    "            string = float(i.replace(',',''))\n",
    "            st.append(string)\n",
    "        for j in p:\n",
    "            prices = float(j.replace(',',''))\n",
    "            pr.append(prices)\n",
    "        a1 = w*pr*st # Valor en dinero de cada acción\n",
    "        v_etf1 = sum(a1) # Valor Total ETF\n",
    "        v_etf2.append(v_etf1)"
   ]
  },
  {
   "cell_type": "code",
   "execution_count": null,
   "metadata": {},
   "outputs": [],
   "source": [
    "#a = p*w*s # Valor en dinero de cada acción\n",
    "#v_etf_total = sum(a) #Valor del portafolio o etf, suma de los valores de las acciones"
   ]
  },
  {
   "cell_type": "code",
   "execution_count": 22,
   "metadata": {},
   "outputs": [],
   "source": [
    "# Desviación estandar\n",
    "nav = pd.read_excel('iShares-US-Financials-ETF_fund.xls',sheet_name=1, index_col= 0)\n",
    "nav = nav[\"NAV per Share\"][378:630]\n",
    "#nav = list(nav)\n",
    "#nav.reverse()\n",
    "desv1 = np.std(nav)\n",
    "mean1 = np.mean(nav)"
   ]
  },
  {
   "cell_type": "code",
   "execution_count": 23,
   "metadata": {},
   "outputs": [
    {
     "data": {
      "text/plain": [
       "As Of\n",
       "Feb 14, 2018    120.756139\n",
       "Feb 13, 2018    118.639644\n",
       "Feb 12, 2018    118.088112\n",
       "Feb 09, 2018    116.745077\n",
       "Feb 08, 2018    114.493401\n",
       "                   ...    \n",
       "Feb 22, 2017    106.962131\n",
       "Feb 21, 2017    106.977532\n",
       "Feb 17, 2017    106.314475\n",
       "Feb 16, 2017    106.299564\n",
       "Feb 15, 2017    106.290030\n",
       "Name: NAV per Share, Length: 252, dtype: float64"
      ]
     },
     "execution_count": 23,
     "metadata": {},
     "output_type": "execute_result"
    }
   ],
   "source": [
    "nav"
   ]
  },
  {
   "cell_type": "markdown",
   "metadata": {},
   "source": [
    "### CRITERIO DE RE BALANCEO."
   ]
  },
  {
   "cell_type": "code",
   "execution_count": null,
   "metadata": {},
   "outputs": [],
   "source": [
    "#SERIE DE TIEMPO HACIENDO RE BALANCEO\n",
    "plt.title(\"Serie de tiempo ETF IYF\")\n",
    "plt.ylabel(\"NAV\")\n",
    "plt.xlabel(\"Fechas\")\n",
    "plt.axvline(x=0, c = \"green\")\n",
    "plt.axvline(x=22, c = \"greenyellow\")\n",
    "plt.axvline(x=43, c = \"tomato\")\n",
    "plt.axvline(x=64, c = \"lightcoral\")\n",
    "plt.axvline(x=85, c = \"aqua\")\n",
    "plt.axvline(x=106, c = \"plum\")\n",
    "plt.axvline(x=125, c = \"mediumvioletred\")\n",
    "plt.axvline(x=147, c = \"lawngreen\")\n",
    "plt.axvline(x=166, c = \"greenyellow\")\n",
    "plt.axvline(x=186, c = \"gold\")\n",
    "plt.axvline(x=209, c = \"teal\")\n",
    "plt.axvline(x=229, c = \"lavender\")\n",
    "plt.axvline(x=251, c = \"darkmagenta\")\n",
    "plt.plot(nav, c = \"k\")"
   ]
  },
  {
   "cell_type": "markdown",
   "metadata": {},
   "source": [
    "### COMPARACIÓN DE RESULTADOS: REBALANCEO VS. MISMAS POSICIONES"
   ]
  },
  {
   "cell_type": "code",
   "execution_count": null,
   "metadata": {},
   "outputs": [],
   "source": [
    "# MEDIDAS DE ATRIBUCIÓN AL DESEMPEÑO"
   ]
  },
  {
   "cell_type": "markdown",
   "metadata": {},
   "source": [
    "### CONCLUSIONES\n",
    "....."
   ]
  },
  {
   "cell_type": "code",
   "execution_count": null,
   "metadata": {},
   "outputs": [],
   "source": []
  },
  {
   "cell_type": "code",
   "execution_count": null,
   "metadata": {},
   "outputs": [],
   "source": []
  },
  {
   "cell_type": "code",
   "execution_count": null,
   "metadata": {},
   "outputs": [],
   "source": [
    "quandl.ApiConfig.api_key = \"My9ygJsz7yTDx_9jcneH\"  # API key Quandl\n",
    "fechas = list(['2017-02-28', '2017-03-31', '2017-04-28', '2017-05-31', '2017-06-30',\n",
    "                 '2017-07-31', '2017-08-31', '2017-09-29', '2017-10-31', '2017-11-30',\n",
    "                 '2017-12-29', '2018-01-31', '2018-02-28'])"
   ]
  },
  {
   "cell_type": "code",
   "execution_count": null,
   "metadata": {},
   "outputs": [],
   "source": [
    "# FUNCIÓN PARA DESCARGA DE DATOS HISTÓRICOS (QUANDL)\n",
    "def download_quandl(fechas, narch):\n",
    "    d2 = []  # Empty dictionary\n",
    "    for i in range(narch):  # Loop to Download data from Quandl\n",
    "        index= holdings[i].index\n",
    "        q, h = holdings[i].shape\n",
    "        ticker_r = list(index)  # ticker = 'WIKI/AAPL'\n",
    "        date = {'gte': fechas[i], 'lte': fechas[i] }\n",
    "        column = {'columns': ['ticker', 'date', 'Adj_close']}\n",
    "        data = quandl.get_table('WIKI/PRICES', qopts=column, ticker=ticker_r, date=date)\n",
    "        data = data.set_index('ticker')\n",
    "        d2.append(data)\n",
    "    return d2\n",
    "prices = download_quandl(fechas,narch)"
   ]
  },
  {
   "cell_type": "code",
   "execution_count": null,
   "metadata": {},
   "outputs": [],
   "source": [
    "# LIMPIEZA DE DATOS \n",
    "def clean_data(narch, prices, holdings):\n",
    "    d =[]\n",
    "    hold = []\n",
    "    for i in range(narch):\n",
    "        a = set(list(prices[i].index))\n",
    "        b = set(list(holdings[i].index))\n",
    "        c = []\n",
    "        for item in b:\n",
    "            if item not in a:\n",
    "                 c.append(item)\n",
    "        d.append(c)\n",
    "        holdi = holdings[i].drop(d[i]) # Se eliminan datos de ishares que no estan en quandl.\n",
    "        hold.append(holdi)\n",
    "    return hold\n",
    "d = clean_data(narch, prices, holdings)\n",
    "d"
   ]
  },
  {
   "cell_type": "markdown",
   "metadata": {},
   "source": [
    "### BIBLIOGRAFÍA\n",
    "https://www.portafolio.co/economia/finanzas/son-etf-293754\n",
    "\n",
    "https://economipedia.com/definiciones/etf-fondos-cotizados.html\n",
    "\n",
    "https://www.ishares.com/us/products/239508/#/\n",
    "\n",
    "https://www.quandl.com/tools/python\n",
    "\n"
   ]
  }
 ],
 "metadata": {
  "kernelspec": {
   "display_name": "Python 3",
   "language": "python",
   "name": "python3"
  },
  "language_info": {
   "codemirror_mode": {
    "name": "ipython",
    "version": 3
   },
   "file_extension": ".py",
   "mimetype": "text/x-python",
   "name": "python",
   "nbconvert_exporter": "python",
   "pygments_lexer": "ipython3",
   "version": "3.7.1"
  }
 },
 "nbformat": 4,
 "nbformat_minor": 2
}
