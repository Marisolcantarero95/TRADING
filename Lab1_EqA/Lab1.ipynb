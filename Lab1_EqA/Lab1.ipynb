{
 "cells": [
  {
   "cell_type": "markdown",
   "metadata": {},
   "source": [
    "___\n",
    "<img style=\"float: right; margin: 0px 0px 15px 15px;\" src=\"https://www.carrerasenlinea.mx/logos/original/logo-instituto-tecnologico-y-de-estudios-superiores-de-occidente.png\" width=\"150px\" height=\"100px\" />\n",
    "\n",
    "# Microestructuras y Sistema de Trading\n",
    "## Laboratorio 1\n",
    "\n",
    "### EQUIPO:\n",
    "#### - Tere Castillo Flores\n",
    "#### - Ana Laura Correa Cabrales\n",
    "#### - Gaspar Benitez Fregoso\n",
    "#### - Marysol Cantarero"
   ]
  },
  {
   "cell_type": "markdown",
   "metadata": {},
   "source": [
    "#### Situación: \n",
    "Acabas de entrar a trabajar a una operadora de fondos de inversión como analista financiero dentro de la mesa de análisis del mercado de renta variable. En la junta trimestral se plantea la posibilidad de crear un fondo propio con exposición al mercado de valores de USA tratando de replicar a los ETFs conocidos como ishares que la empresa BlackRock ofrece. \n",
    "\n",
    "La idea es replicar un ETF con posiciones en directo. Te han asignado la tarea de hacer un ejercicio simple de replicar la construcción de un portafolio de inversión y un criterio de rebalanceo lo más parecido a un ETF de ishares que tu selecciones. Esto con la finalidad de comparar los resultados de haber rebalanceado periódicamente el portafolio, ó, no haberlo hecho y continuar todo un año con las mismas posiciones.\n"
   ]
  },
  {
   "cell_type": "markdown",
   "metadata": {},
   "source": [
    "#### Resolucion del problema\n",
    "\n",
    "Los ETF(Exchange Trade Funds) son fondos o instrumentos de inversión cuyos títulos cotizan en la bolsa, al igual que una acción bursátil,pudiendose comprar y vender en cualquier momento, sin necesidad de esperar al cierre del mercado. Su objetivo es replicar el comportamiento de los activos que componen un índice bursátil, ya sea de renta fija, variable, divisas o materias primas u otros activos financieros.\n",
    "\n",
    "Para este problema se analizara el ETF \"iShares U.S. Financials ETF (IYF)\" para el mercado de renta variable de USA con posiciones en directo tomando información del 01/Marzo/2018 al 01/Marzo/2019. Sin embargo, el código a realizar debe ser repetible para cualquier ETF.\n",
    "\n",
    "Las 3 medidas de atribución al desempeño que se eligieron para la comparación de los resultados son: Rendimiento, volatilidad y medidas de desempeño."
   ]
  },
  {
   "cell_type": "markdown",
   "metadata": {},
   "source": [
    "#### Características mínimas de solución: \n",
    "Debido a tu formación, te piden que este proceso que construyas sea repetible para cualquier ETF y también incluir 3 medidas de atribución al desempeño, tanto para el caso que el ETF nunca hubiese sido rebalanceado como para los casos donde sí. \n",
    "\n",
    "En la mesa de análisis están interesados en conocer el proceso que sigues para adquirir, limpiar, dar formato y utilizar los datos, y a pesar que el equipo senior de análisis está compuesto por personal altamente calificado en temas de economía y finanzas, ellos no saben programar por lo que te piden que incluyas el código utilizado, y que sea de manera ordenada y explicando el sentido de las funciones y paqueterías que requeriste. \n",
    "\n",
    "Comparar con 1 año de información: 01/Marzo/2017 al 01/Marzo/2018 \n",
    "\n",
    "Utilizar un ETF de Ishares para el mercado de renta varialbe de USA \n",
    "\n",
    "Entregar un Jupyter Notebook con explicación y comentarios en el código \n",
    "\n",
    "Crear y actualizar continuamente un repositorio en GitHub para el proyecto.\n",
    "\n",
    "#### Resolucion del problema\n",
    "\n",
    "Los ETF(Exchange Trade Funds) son fondos o instrumentos de inversión cuyos títulos cotizan en la bolsa, al igual que una acción bursátil,pudiendose comprar y vender en cualquier momento, sin necesidad de esperar al cierre del mercado. Su objetivo es replicar el comportamiento de los activos que componen un índice bursátil, ya sea de renta fija, variable, divisas o materias primas u otros activos financieros.\n",
    "\n",
    "Para este problema se analizara el ETF \"iShares U.S. Financials ETF (IYF)\" para el mercado de renta variable de USA con posiciones en directo tomando información del 01/Marzo/2017 al 01/Marzo/2018. Sin embargo, el código a realizar debe ser repetible para cualquier ETF.\n",
    "\n",
    "Las 3 medidas de atribución al desempeño que se eligieron para la comparación de los resultados son: Rendimiento, volatilidad y medidas de desempeño."
   ]
  },
  {
   "cell_type": "code",
   "execution_count": 1,
   "metadata": {},
   "outputs": [],
   "source": [
    "# Descarga de librerías\n",
    "import quandl\n",
    "import datetime\n",
    "import numpy as np\n",
    "import pandas as pd\n",
    "import scipy.stats as stats\n",
    "import matplotlib.pyplot as plt"
   ]
  },
  {
   "cell_type": "markdown",
   "metadata": {},
   "source": [
    "### DESCARGA DE DATOS"
   ]
  },
  {
   "cell_type": "code",
   "execution_count": 2,
   "metadata": {},
   "outputs": [],
   "source": [
    "quandl.ApiConfig.api_key = \"My9ygJsz7yTDx_9jcneH\"  # API key Quandl\n",
    "narch = 13\n",
    "fechas = list(['2017-02-28', '2017-03-31', '2017-04-28', '2017-05-31', '2017-06-30',\n",
    "                 '2017-07-31', '2017-08-31', '2017-09-29', '2017-10-31', '2017-11-30',\n",
    "                 '2017-12-29', '2018-01-31', '2018-02-28'])"
   ]
  },
  {
   "cell_type": "code",
   "execution_count": 3,
   "metadata": {},
   "outputs": [],
   "source": [
    "# Función para descarga de archivos csv de holdings etf y sus tickers.\n",
    "def holdings_csv(narch,name):\n",
    "    holdings = []\n",
    "    tickers = []\n",
    "    for i in range(narch):\n",
    "        r = name+str(i)+\".csv\"\n",
    "        info = pd.read_csv(r,header=10, index_col= 0)\n",
    "        info = info.dropna() # quitando los datos vacios.\n",
    "        info = info.drop(columns = ['Name', 'Asset Class', \"Market Value\", 'Notional Value', 'Sector', 'SEDOL', 'ISIN', 'Exchange'])\n",
    "        holdings.append(info)\n",
    "        tickers.append(list(holdings[i].index))\n",
    "    return holdings, tickers\n",
    "holdings, tickers = holdings_csv(narch,\"IYF_holdings\")"
   ]
  },
  {
   "cell_type": "markdown",
   "metadata": {},
   "source": [
    "# ESCENARIO A"
   ]
  },
  {
   "cell_type": "code",
   "execution_count": 4,
   "metadata": {},
   "outputs": [],
   "source": [
    "# Función para calcular los valores de etf (originales).\n",
    "def v_etf(narch):\n",
    "    v_etf2 =[]\n",
    "    for i in range(narch):\n",
    "        w = holdings[i]['Weight (%)'] \n",
    "        p = holdings[i]['Price']   # precios\n",
    "        s = holdings[i]['Shares']  #número de acciones \n",
    "        p, s =  str_to_float(p), str_to_float(s)\n",
    "        a1 = w*p*s # Valor en dinero de cada acción\n",
    "        v_etf = sum(a1) # Valor Total ETF\n",
    "        v_etf2.append(v_etf)    \n",
    "    return (v_etf2)"
   ]
  },
  {
   "cell_type": "code",
   "execution_count": 5,
   "metadata": {},
   "outputs": [],
   "source": [
    "#Función para convertir de str a float.\n",
    "def str_to_float(var):\n",
    "    st=var\n",
    "    if type(var[0]) != np.float64:\n",
    "        st=[]\n",
    "        for i in var:\n",
    "            st.append(float(i.replace(',','')))\n",
    "    return (st)"
   ]
  },
  {
   "cell_type": "markdown",
   "metadata": {},
   "source": [
    "##### VALORES ETF ORIGINALES."
   ]
  },
  {
   "cell_type": "markdown",
   "metadata": {},
   "source": [
    "# ESCENARIOS\n",
    "NOTA: Lo unico que se moverá son los pesos de rebalanceo. price y shares quedan igual."
   ]
  },
  {
   "cell_type": "markdown",
   "metadata": {},
   "source": [
    "### ESCENARIO 1 : CON REBALANCEOS TODOS LOS PERIODOS\n",
    "\n",
    "##### No es el mismo valor que el etf original ya que se eliminaron tickers que no tenían todos los periodos"
   ]
  },
  {
   "cell_type": "code",
   "execution_count": 6,
   "metadata": {},
   "outputs": [],
   "source": [
    "# PARA HACER UN MISMO INDICE\n",
    "venta=[] # ya no estan, se vendieron.\n",
    "igual=[] # las que permanecieron.\n",
    "compra=[] # aparecieron, se compraron\n",
    "for i in range(narch-1):\n",
    "    venta.append(list(set(tickers[i])-set(tickers[i+1])))\n",
    "    igual.append(list(set(tickers[i+1])-set((set(tickers[i+1])-set(tickers[i])))))\n",
    "    compra.append(list(set(tickers[i+1])-set(tickers[i])))\n",
    "venta = list(np.concatenate(venta))\n",
    "igual = list(np.concatenate(igual))\n",
    "compra = list(np.concatenate(compra))\n",
    "indice = list(set(venta+igual+compra))"
   ]
  },
  {
   "cell_type": "code",
   "execution_count": 7,
   "metadata": {},
   "outputs": [],
   "source": [
    "# Acomodo de información de acuerdo a índice(tickers) en común (Weight(%), Price y Shares)\n",
    "Weights , Prices, Shares = pd.DataFrame(index=indice) , pd.DataFrame(index=indice), pd.DataFrame(index=indice)\n",
    "for i in range(narch):\n",
    "    l,l1,l2= [],[],[]\n",
    "    for j in range(len(tickers[i])):\n",
    "        l.append(holdings[i]['Weight (%)'][tickers[i][j]])\n",
    "        l1.append(holdings[i]['Price'][tickers[i][j]])\n",
    "        l2.append(holdings[i]['Shares'][tickers[i][j]])\n",
    "    l , l1, l2 = pd.DataFrame(l, index=tickers[i]),pd.DataFrame(l1, index=tickers[i]),pd.DataFrame(l2, index=tickers[i])\n",
    "    Weights['Holdings'+str(i)+''] ,Prices['Holdings'+str(i)+''],Shares['Holdings'+str(i)+''] = l ,l1 , l2"
   ]
  },
  {
   "cell_type": "code",
   "execution_count": 8,
   "metadata": {},
   "outputs": [
    {
     "data": {
      "text/plain": [
       "[4710243437.943899,\n",
       " 3988107610.9762025,\n",
       " 3673748875.904403,\n",
       " 3482149652.4258018,\n",
       " 3918183392.8238025,\n",
       " 4016746801.783402,\n",
       " 4174797106.7400994,\n",
       " 4374789295.864503,\n",
       " 4752277165.981703,\n",
       " 4717794817.270909,\n",
       " 4551314846.0201,\n",
       " 5359660229.257094,\n",
       " 5634231631.184796]"
      ]
     },
     "execution_count": 8,
     "metadata": {},
     "output_type": "execute_result"
    }
   ],
   "source": [
    "v_etf = v_etf(narch) # Valor Total ETF con rebalanceos\n",
    "v_etf"
   ]
  },
  {
   "cell_type": "markdown",
   "metadata": {},
   "source": [
    "### ESCENARIOS : DISTINTOS REBALANCEOS\n",
    "### CRITERIO DE RE BALANCEO."
   ]
  },
  {
   "cell_type": "code",
   "execution_count": 18,
   "metadata": {},
   "outputs": [],
   "source": [
    "# FUNCIÓN PARA AJUSTE PESOS DE REBALANCEOS\n",
    "def v_etf2(narch,preb):\n",
    "    v_etf2 = []\n",
    "    for i in range(preb):\n",
    "        H = 'Holdings'+str(i)+''\n",
    "        P,S = str_to_float(Prices[H]) , str_to_float(Shares[H])  \n",
    "        a1 = Weights['Holdings0']*P*S\n",
    "        v_etf1 = sum(a1)\n",
    "        v_etf2.append(v_etf1)\n",
    "    for i in range(narch-preb):\n",
    "        H = 'Holdings'+str(i)+''\n",
    "        P,S = str_to_float(Prices[H]) , str_to_float(Shares[H])\n",
    "        a1 = Weights['Holdings'+str(preb)+' ']*P*S\n",
    "        v_etf1 = sum(a1)\n",
    "        v_etf2.append(v_etf1)    \n",
    "    return(v_etf2)"
   ]
  },
  {
   "cell_type": "code",
   "execution_count": 19,
   "metadata": {},
   "outputs": [],
   "source": [
    "#v_etf2(narch,0)"
   ]
  },
  {
   "cell_type": "code",
   "execution_count": 20,
   "metadata": {
    "scrolled": false
   },
   "outputs": [
    {
     "ename": "AttributeError",
     "evalue": "'float' object has no attribute 'replace'",
     "output_type": "error",
     "traceback": [
      "\u001b[0;31m---------------------------------------------------------------------------\u001b[0m",
      "\u001b[0;31mAttributeError\u001b[0m                            Traceback (most recent call last)",
      "\u001b[0;32m<ipython-input-20-d6d3c40c693d>\u001b[0m in \u001b[0;36m<module>\u001b[0;34m()\u001b[0m\n\u001b[1;32m      1\u001b[0m \u001b[0mREBcomp\u001b[0m \u001b[0;34m=\u001b[0m \u001b[0mpd\u001b[0m\u001b[0;34m.\u001b[0m\u001b[0mDataFrame\u001b[0m\u001b[0;34m(\u001b[0m\u001b[0;34m)\u001b[0m\u001b[0;34m\u001b[0m\u001b[0m\n\u001b[1;32m      2\u001b[0m \u001b[0;32mfor\u001b[0m \u001b[0mi\u001b[0m \u001b[0;32min\u001b[0m \u001b[0mrange\u001b[0m\u001b[0;34m(\u001b[0m\u001b[0mnarch\u001b[0m\u001b[0;34m)\u001b[0m\u001b[0;34m:\u001b[0m\u001b[0;34m\u001b[0m\u001b[0m\n\u001b[0;32m----> 3\u001b[0;31m     \u001b[0mREBcomp\u001b[0m\u001b[0;34m[\u001b[0m\u001b[0;34m'REBp'\u001b[0m\u001b[0;34m+\u001b[0m\u001b[0mstr\u001b[0m\u001b[0;34m(\u001b[0m\u001b[0mi\u001b[0m\u001b[0;34m)\u001b[0m\u001b[0;34m+\u001b[0m\u001b[0;34m''\u001b[0m\u001b[0;34m]\u001b[0m \u001b[0;34m=\u001b[0m \u001b[0mv_etf2\u001b[0m\u001b[0;34m(\u001b[0m\u001b[0mnarch\u001b[0m\u001b[0;34m,\u001b[0m\u001b[0mi\u001b[0m\u001b[0;34m)\u001b[0m\u001b[0;34m\u001b[0m\u001b[0m\n\u001b[0m\u001b[1;32m      4\u001b[0m \u001b[0mREBcomp\u001b[0m\u001b[0;34m\u001b[0m\u001b[0m\n",
      "\u001b[0;32m<ipython-input-18-0e6fdb9f11ce>\u001b[0m in \u001b[0;36mv_etf2\u001b[0;34m(narch, preb)\u001b[0m\n\u001b[1;32m     10\u001b[0m     \u001b[0;32mfor\u001b[0m \u001b[0mi\u001b[0m \u001b[0;32min\u001b[0m \u001b[0mrange\u001b[0m\u001b[0;34m(\u001b[0m\u001b[0mnarch\u001b[0m\u001b[0;34m-\u001b[0m\u001b[0mpreb\u001b[0m\u001b[0;34m)\u001b[0m\u001b[0;34m:\u001b[0m\u001b[0;34m\u001b[0m\u001b[0m\n\u001b[1;32m     11\u001b[0m         \u001b[0mH\u001b[0m \u001b[0;34m=\u001b[0m \u001b[0;34m'Holdings'\u001b[0m\u001b[0;34m+\u001b[0m\u001b[0mstr\u001b[0m\u001b[0;34m(\u001b[0m\u001b[0mi\u001b[0m\u001b[0;34m)\u001b[0m\u001b[0;34m+\u001b[0m\u001b[0;34m''\u001b[0m\u001b[0;34m\u001b[0m\u001b[0m\n\u001b[0;32m---> 12\u001b[0;31m         \u001b[0mP\u001b[0m\u001b[0;34m,\u001b[0m\u001b[0mS\u001b[0m \u001b[0;34m=\u001b[0m \u001b[0mstr_to_float\u001b[0m\u001b[0;34m(\u001b[0m\u001b[0mPrices\u001b[0m\u001b[0;34m[\u001b[0m\u001b[0mH\u001b[0m\u001b[0;34m]\u001b[0m\u001b[0;34m)\u001b[0m \u001b[0;34m,\u001b[0m \u001b[0mstr_to_float\u001b[0m\u001b[0;34m(\u001b[0m\u001b[0mShares\u001b[0m\u001b[0;34m[\u001b[0m\u001b[0mH\u001b[0m\u001b[0;34m]\u001b[0m\u001b[0;34m)\u001b[0m\u001b[0;34m\u001b[0m\u001b[0m\n\u001b[0m\u001b[1;32m     13\u001b[0m         \u001b[0ma1\u001b[0m \u001b[0;34m=\u001b[0m \u001b[0mWeights\u001b[0m\u001b[0;34m[\u001b[0m\u001b[0;34m'Holdings'\u001b[0m\u001b[0;34m+\u001b[0m\u001b[0mstr\u001b[0m\u001b[0;34m(\u001b[0m\u001b[0mpreb\u001b[0m\u001b[0;34m)\u001b[0m\u001b[0;34m+\u001b[0m\u001b[0;34m' '\u001b[0m\u001b[0;34m]\u001b[0m\u001b[0;34m*\u001b[0m\u001b[0mP\u001b[0m\u001b[0;34m*\u001b[0m\u001b[0mS\u001b[0m\u001b[0;34m\u001b[0m\u001b[0m\n\u001b[1;32m     14\u001b[0m         \u001b[0mv_etf1\u001b[0m \u001b[0;34m=\u001b[0m \u001b[0msum\u001b[0m\u001b[0;34m(\u001b[0m\u001b[0ma1\u001b[0m\u001b[0;34m)\u001b[0m\u001b[0;34m\u001b[0m\u001b[0m\n",
      "\u001b[0;32m<ipython-input-5-c67774455b52>\u001b[0m in \u001b[0;36mstr_to_float\u001b[0;34m(var)\u001b[0m\n\u001b[1;32m      5\u001b[0m         \u001b[0mst\u001b[0m\u001b[0;34m=\u001b[0m\u001b[0;34m[\u001b[0m\u001b[0;34m]\u001b[0m\u001b[0;34m\u001b[0m\u001b[0m\n\u001b[1;32m      6\u001b[0m         \u001b[0;32mfor\u001b[0m \u001b[0mi\u001b[0m \u001b[0;32min\u001b[0m \u001b[0mvar\u001b[0m\u001b[0;34m:\u001b[0m\u001b[0;34m\u001b[0m\u001b[0m\n\u001b[0;32m----> 7\u001b[0;31m             \u001b[0mst\u001b[0m\u001b[0;34m.\u001b[0m\u001b[0mappend\u001b[0m\u001b[0;34m(\u001b[0m\u001b[0mfloat\u001b[0m\u001b[0;34m(\u001b[0m\u001b[0mi\u001b[0m\u001b[0;34m.\u001b[0m\u001b[0mreplace\u001b[0m\u001b[0;34m(\u001b[0m\u001b[0;34m','\u001b[0m\u001b[0;34m,\u001b[0m\u001b[0;34m''\u001b[0m\u001b[0;34m)\u001b[0m\u001b[0;34m)\u001b[0m\u001b[0;34m)\u001b[0m\u001b[0;34m\u001b[0m\u001b[0m\n\u001b[0m\u001b[1;32m      8\u001b[0m     \u001b[0;32mreturn\u001b[0m \u001b[0;34m(\u001b[0m\u001b[0mst\u001b[0m\u001b[0;34m)\u001b[0m\u001b[0;34m\u001b[0m\u001b[0m\n",
      "\u001b[0;31mAttributeError\u001b[0m: 'float' object has no attribute 'replace'"
     ]
    }
   ],
   "source": [
    "REBcomp = pd.DataFrame()\n",
    "for i in range(narch):\n",
    "    REBcomp['REBp'+str(i)+''] = v_etf2(narch,i)\n",
    "REBcomp"
   ]
  },
  {
   "cell_type": "code",
   "execution_count": 21,
   "metadata": {
    "scrolled": false
   },
   "outputs": [
    {
     "name": "stderr",
     "output_type": "stream",
     "text": [
      "No handles with labels found to put in legend.\n"
     ]
    },
    {
     "data": {
      "image/png": "[encoded data removed]",
      "text/plain": [
       "<matplotlib.figure.Figure at 0x11c0d23c8>"
      ]
     },
     "metadata": {},
     "output_type": "display_data"
    }
   ],
   "source": [
    "Idx = REBcomp.columns\n",
    "for i in range(len(Idx)):\n",
    "    plt.plot(REBcomp['REBp'+str(i)+''], label = Idx[i]) \n",
    "plt.legend(bbox_to_anchor=(1.05, 1), loc=2, borderaxespad=0.)\n",
    "plt.show()"
   ]
  },
  {
   "cell_type": "code",
   "execution_count": null,
   "metadata": {},
   "outputs": [],
   "source": [
    "def medidas_desempeño(narch,name,tl):\n",
    "    h =[]\n",
    "    for i in range(narch-1):\n",
    "        y= np.log(name[i+1]/name[i])\n",
    "        h.append(y)\n",
    "    media = np.mean(h)\n",
    "    std = np.std(h)\n",
    "    sharpe = (media -tl)/std\n",
    "    return media, std, sharpe"
   ]
  },
  {
   "cell_type": "code",
   "execution_count": null,
   "metadata": {},
   "outputs": [],
   "source": [
    "h = pd.DataFrame(index=['Rendimiento','Volatilidad','Sharpe'])\n",
    "tl = [0.4, 0.74, 0.68, 0.86 , 0.84, 1, 0.95, 0.96, 0.99 , 1.14 ,0.28 , 1.43, 1.5]\n",
    "for i in range(narch):\n",
    "        nomp = 'REBp'+str(i)+''\n",
    "        h[nomp] = medidas_desempeño(narch,REBcomp[nomp],tl[i]/100)\n",
    "h = h.T\n",
    "h"
   ]
  },
  {
   "cell_type": "code",
   "execution_count": null,
   "metadata": {},
   "outputs": [],
   "source": [
    "#Idx = h.columns\n",
    "#for i in range(len(Idx)):\n",
    "#    plt.plot(h[h.columns[i]], label = Idx[i]) \n",
    "#plt.legend(bbox_to_anchor=(1.05, 1), loc=2, borderaxespad=0.)\n",
    "#plt.show()"
   ]
  },
  {
   "cell_type": "markdown",
   "metadata": {},
   "source": [
    "### VALOR NAV (Net Asset Value) o VL(Valor liquidativo)\n",
    "La rentabilidad pasada no es indicativa de la rentabilidad futura y no debe ser el único factor que se considere a la hora de seleccionar un producto. Los datos de rentabilidad se basan en el valor liquidativo (Net Asset Value, NAV) del ETF que puede no ser el mismo que el precio de mercado del ETF. Los accionistas individuales pueden obtener rendimientos distintos de la rentabilidad del NAV.\n",
    "\n",
    "\n",
    "VL = P / N = Patrimonio neto del fondo(Valor de la Cartera del fondo) / Número de participaciones del fondo.\n",
    "\n",
    "*El valor de la cartera de fondo es precios x shares.*\n",
    "*El número de participaciones del fondo falta sacarlo.*"
   ]
  },
  {
   "cell_type": "code",
   "execution_count": null,
   "metadata": {},
   "outputs": [],
   "source": [
    "#NAV DE ETF Y SHARES ORIGINAL.\n",
    "info = pd.read_excel('nav.xlsx',sheetname = \"Historical\", index_col=0)\n",
    "nav = info.drop(columns=['Index Level', 'Ex-Dividends','Shares Outstanding'])\n",
    "nshares = info.drop(columns=['Index Level', 'Ex-Dividends','NAV per Share'])\n",
    "nav.head()"
   ]
  },
  {
   "cell_type": "code",
   "execution_count": null,
   "metadata": {},
   "outputs": [],
   "source": [
    "nav = nav.set_index(pd.to_datetime(nav.index))\n",
    "nav.resample('M').mean()"
   ]
  },
  {
   "cell_type": "code",
   "execution_count": null,
   "metadata": {},
   "outputs": [],
   "source": []
  },
  {
   "cell_type": "code",
   "execution_count": null,
   "metadata": {},
   "outputs": [],
   "source": []
  },
  {
   "cell_type": "code",
   "execution_count": null,
   "metadata": {},
   "outputs": [],
   "source": []
  },
  {
   "cell_type": "code",
   "execution_count": null,
   "metadata": {},
   "outputs": [],
   "source": []
  },
  {
   "cell_type": "markdown",
   "metadata": {},
   "source": [
    "### COMPARACIÓN DE RESULTADOS: REBALANCEO VS. MISMAS POSICIONES"
   ]
  },
  {
   "cell_type": "code",
   "execution_count": null,
   "metadata": {},
   "outputs": [],
   "source": [
    "# MEDIDAS DE ATRIBUCIÓN AL DESEMPEÑO"
   ]
  },
  {
   "cell_type": "markdown",
   "metadata": {},
   "source": [
    "### CONCLUSIONES\n",
    "....."
   ]
  },
  {
   "cell_type": "code",
   "execution_count": null,
   "metadata": {},
   "outputs": [],
   "source": []
  },
  {
   "cell_type": "code",
   "execution_count": null,
   "metadata": {},
   "outputs": [],
   "source": []
  },
  {
   "cell_type": "code",
   "execution_count": null,
   "metadata": {},
   "outputs": [],
   "source": []
  },
  {
   "cell_type": "code",
   "execution_count": null,
   "metadata": {},
   "outputs": [],
   "source": [
    "# FUNCIÓN PARA DESCARGA DE DATOS HISTÓRICOS (QUANDL)\n",
    "def download_quandl(fechas, narch):\n",
    "    d2 = []  # Empty dictionary\n",
    "    for i in range(narch):  # Loop to Download data from Quandl\n",
    "        index= holdings[i].index\n",
    "        q, h = holdings[i].shape\n",
    "        ticker_r = list(index)  # ticker = 'WIKI/AAPL'\n",
    "        date = {'gte': fechas[i], 'lte': fechas[i] }\n",
    "        column = {'columns': ['ticker', 'date', 'Adj_close']}\n",
    "        data = quandl.get_table('WIKI/PRICES', qopts=column, ticker=ticker_r, date=date)\n",
    "        data = data.set_index('ticker')\n",
    "        d2.append(data)\n",
    "    return d2\n",
    "prices = download_quandl(fechas,narch)"
   ]
  },
  {
   "cell_type": "code",
   "execution_count": null,
   "metadata": {},
   "outputs": [],
   "source": [
    "# LIMPIEZA DE DATOS \n",
    "def clean_data(narch, prices, holdings):\n",
    "    d =[]\n",
    "    hold = []\n",
    "    for i in range(narch):\n",
    "        a = set(list(prices[i].index))\n",
    "        b = set(list(holdings[i].index))\n",
    "        c = []\n",
    "        for item in b:\n",
    "            if item not in a:\n",
    "                 c.append(item)\n",
    "        d.append(c)\n",
    "        holdi = holdings[i].drop(d[i]) # Se eliminan datos de ishares que no estan en quandl.\n",
    "        hold.append(holdi)\n",
    "    return hold\n",
    "d = clean_data(narch, prices, holdings)\n",
    "d"
   ]
  },
  {
   "cell_type": "markdown",
   "metadata": {},
   "source": [
    "### BIBLIOGRAFÍA\n",
    "https://www.portafolio.co/economia/finanzas/son-etf-293754\n",
    "\n",
    "https://economipedia.com/definiciones/etf-fondos-cotizados.html\n",
    "\n",
    "https://www.ishares.com/us/products/239508/#/\n",
    "\n",
    "https://www.quandl.com/tools/python\n",
    "\n"
   ]
  },
  {
   "cell_type": "code",
   "execution_count": null,
   "metadata": {},
   "outputs": [],
   "source": []
  }
 ],
 "metadata": {
  "kernelspec": {
   "display_name": "Python 3",
   "language": "python",
   "name": "python3"
  },
  "language_info": {
   "codemirror_mode": {
    "name": "ipython",
    "version": 3
   },
   "file_extension": ".py",
   "mimetype": "text/x-python",
   "name": "python",
   "nbconvert_exporter": "python",
   "pygments_lexer": "ipython3",
   "version": "3.6.4"
  }
 },
 "nbformat": 4,
 "nbformat_minor": 2
}
