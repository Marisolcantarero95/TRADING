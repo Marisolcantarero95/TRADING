{
 "cells": [
  {
   "cell_type": "markdown",
   "metadata": {},
   "source": [
    "___\n",
    "<img style=\"float: right; margin: 0px 0px 15px 15px;\" src=\"https://www.carrerasenlinea.mx/logos/original/logo-instituto-tecnologico-y-de-estudios-superiores-de-occidente.png\" width=\"150px\" height=\"100px\" />\n",
    "\n",
    "# <font color = darkred> Microestructuras y Sistema de Trading\n",
    "## Laboratorio 1\n",
    "### Fecha: 12/Septiembre/2019\n",
    "\n",
    "### Equipo A:\n",
    "* Tere Castillo Flores\n",
    "* Ana Laura Correa Cabrales\n",
    "* Gaspar Benitez Fregoso\n",
    "* Marysol Cantarero Velazquez del Valle"
   ]
  },
  {
   "cell_type": "markdown",
   "metadata": {},
   "source": [
    "### <font color = navy> Situación\n",
    "Acabas de entrar a trabajar a una operadora de fondos de inversión como analista financiero dentro de la mesa de análisis del mercado de renta variable. En la junta trimestral se plantea la posibilidad de crear un fondo propio con exposición al mercado de valores de USA tratando de replicar a los ETFs conocidos como ishares que la empresa BlackRock ofrece. \n",
    "\n",
    "La idea es replicar un ETF con posiciones en directo. Te han asignado la tarea de hacer un ejercicio simple de replicar la construcción de un portafolio de inversión y un criterio de rebalanceo lo más parecido a un ETF de ishares que tu selecciones. Esto con la finalidad de comparar los resultados de haber rebalanceado periódicamente el portafolio, ó, no haberlo hecho y continuar todo un año con las mismas posiciones.\n"
   ]
  },
  {
   "cell_type": "markdown",
   "metadata": {},
   "source": [
    "### <font color = navy> Características mínimas de solución\n",
    "Debido a tu formación, te piden que este proceso que construyas sea repetible para cualquier ETF y también incluir 3 medidas de atribución al desempeño, tanto para el caso que el ETF nunca hubiese sido rebalanceado como para los casos donde sí. \n",
    "\n",
    "En la mesa de análisis están interesados en conocer el proceso que sigues para adquirir, limpiar, dar formato y utilizar los datos, y a pesar que el equipo senior de análisis está compuesto por personal altamente calificado en temas de economía y finanzas, ellos no saben programar por lo que te piden que incluyas el código utilizado, y que sea de manera ordenada y explicando el sentido de las funciones y paqueterías que requeriste. \n",
    "\n",
    "* Comparar con 1 año de información: 01/Marzo/2017 al 01/Marzo/2018 \n",
    "\n",
    "* Utilizar un ETF de Ishares para el mercado de renta varialbe de USA \n",
    "\n",
    "* Entregar un Jupyter Notebook con explicación y comentarios en el código \n",
    "\n",
    "* Crear y actualizar continuamente un repositorio en GitHub para el proyecto.\n",
    "\n",
    "### <font color = navy> Resolucion del problema\n",
    "\n",
    "Los ETF(Exchange Trade Funds) son fondos o instrumentos de inversión cuyos títulos cotizan en la bolsa, al igual que una acción bursátil,pudiendose comprar y vender en cualquier momento, sin necesidad de esperar al cierre del mercado. Su objetivo es replicar el comportamiento de los activos que componen un índice bursátil, ya sea de renta fija, variable, divisas o materias primas u otros activos financieros.\n",
    "\n",
    "Para este problema se analizara el ETF \"iShares U.S. Financials ETF (IYF)\" para el mercado de renta variable de USA con posiciones en directo tomando información del 01/Marzo/2017 al 01/Marzo/2018. Sin embargo, el código a realizar debe ser repetible para cualquier ETF.\n",
    "\n",
    "Las 3 medidas de atribución al desempeño que se eligieron para la comparación de los resultados son: Rendimiento, volatilidad y medidas de desempeño."
   ]
  },
  {
   "cell_type": "markdown",
   "metadata": {},
   "source": [
    "### <font color = navy> Resolución del problema\n",
    "\n",
    "Los ETF(Exchange Trade Funds) son fondos o instrumentos de inversión cuyos títulos cotizan en la bolsa, al igual que una acción bursátil,pudiendose comprar y vender en cualquier momento, sin necesidad de esperar al cierre del mercado. Su objetivo es replicar el comportamiento de los activos que componen un índice bursátil, ya sea de renta fija, variable, divisas o materias primas u otros activos financieros.\n",
    "\n",
    "Para este problema se analizara el ETF \"iShares U.S. Financials ETF (IYF)\" para el mercado de renta variable de USA con posiciones en directo tomando información del 01/Marzo/2018 al 01/Marzo/2019. Sin embargo, el código a realizar debe ser repetible para cualquier ETF.\n",
    "\n",
    "Las 3 medidas de atribución al desempeño que se eligieron para la comparación de los resultados son:\n",
    "* Rendimiento\n",
    "* Volatilidad\n",
    "* Medidas de desempeño"
   ]
  },
  {
   "cell_type": "markdown",
   "metadata": {},
   "source": [
    "### <font color = navy> Librerias"
   ]
  },
  {
   "cell_type": "code",
   "execution_count": 9,
   "metadata": {},
   "outputs": [],
   "source": [
    "# Descarga de librerías\n",
    "# Anaconda Promt \"pip install quandl\"\n",
    "import quandl\n",
    "import datetime\n",
    "import numpy as np\n",
    "import pandas as pd\n",
    "import scipy.stats as stats\n",
    "import matplotlib.pyplot as plt"
   ]
  },
  {
   "cell_type": "markdown",
   "metadata": {},
   "source": [
    "### <font color = navy> Llave de Quandl, numero de archivos, fechas y tasa"
   ]
  },
  {
   "cell_type": "code",
   "execution_count": 10,
   "metadata": {},
   "outputs": [],
   "source": [
    "quandl.ApiConfig.api_key = \"My9ygJsz7yTDx_9jcneH\"  # API key Quandl\n",
    "narch = 13 # Numero de archivos\n",
    "fechas = list(['2017-02-28', '2017-03-31', '2017-04-28', '2017-05-31', '2017-06-30',\n",
    "                 '2017-07-31', '2017-08-31', '2017-09-29', '2017-10-31', '2017-11-30',\n",
    "                 '2017-12-29', '2018-01-31', '2018-02-28'])\n",
    "tl = [0.4, 0.74, 0.68, 0.86 , 0.84, 1, 0.95, 0.96, 0.99 , 1.14 ,0.28 , 1.43, 1.5] #Tasas libre de riesgo a las fechas"
   ]
  },
  {
   "cell_type": "markdown",
   "metadata": {},
   "source": [
    "### <font color = navy> Descarga de datos"
   ]
  },
  {
   "cell_type": "code",
   "execution_count": 5,
   "metadata": {},
   "outputs": [
    {
     "ename": "FileNotFoundError",
     "evalue": "File b'IYF_holdings0.csv' does not exist",
     "output_type": "error",
     "traceback": [
      "\u001b[1;31m---------------------------------------------------------------------------\u001b[0m",
      "\u001b[1;31mFileNotFoundError\u001b[0m                         Traceback (most recent call last)",
      "\u001b[1;32m<ipython-input-5-4afffa2b3f99>\u001b[0m in \u001b[0;36m<module>\u001b[1;34m\u001b[0m\n\u001b[0;32m     17\u001b[0m         \u001b[0mshares\u001b[0m\u001b[1;33m.\u001b[0m\u001b[0mappend\u001b[0m\u001b[1;33m(\u001b[0m\u001b[0mshar\u001b[0m\u001b[1;33m)\u001b[0m \u001b[1;31m#Jala shares y los agrega a una nueva lista.\u001b[0m\u001b[1;33m\u001b[0m\u001b[1;33m\u001b[0m\u001b[0m\n\u001b[0;32m     18\u001b[0m     \u001b[1;32mreturn\u001b[0m \u001b[0mholdings\u001b[0m\u001b[1;33m,\u001b[0m \u001b[0mtickers\u001b[0m\u001b[1;33m,\u001b[0m \u001b[0mshares\u001b[0m \u001b[1;31m#Regresa las 3 listas pero ya con informacion.\u001b[0m\u001b[1;33m\u001b[0m\u001b[1;33m\u001b[0m\u001b[0m\n\u001b[1;32m---> 19\u001b[1;33m \u001b[0mholdings\u001b[0m\u001b[1;33m,\u001b[0m \u001b[0mtickers\u001b[0m\u001b[1;33m,\u001b[0m \u001b[0mshares\u001b[0m \u001b[1;33m=\u001b[0m \u001b[0mholdings_csv\u001b[0m\u001b[1;33m(\u001b[0m\u001b[0mnarch\u001b[0m\u001b[1;33m,\u001b[0m\u001b[1;34m\"IYF_holdings\"\u001b[0m\u001b[1;33m)\u001b[0m \u001b[1;31m#Guarda las listas.\u001b[0m\u001b[1;33m\u001b[0m\u001b[1;33m\u001b[0m\u001b[0m\n\u001b[0m",
      "\u001b[1;32m<ipython-input-5-4afffa2b3f99>\u001b[0m in \u001b[0;36mholdings_csv\u001b[1;34m(narch, name)\u001b[0m\n\u001b[0;32m      9\u001b[0m     \u001b[1;32mfor\u001b[0m \u001b[0mi\u001b[0m \u001b[1;32min\u001b[0m \u001b[0mrange\u001b[0m\u001b[1;33m(\u001b[0m\u001b[0mnarch\u001b[0m\u001b[1;33m)\u001b[0m\u001b[1;33m:\u001b[0m\u001b[1;33m\u001b[0m\u001b[1;33m\u001b[0m\u001b[0m\n\u001b[0;32m     10\u001b[0m         \u001b[0mr\u001b[0m \u001b[1;33m=\u001b[0m \u001b[0mname\u001b[0m\u001b[1;33m+\u001b[0m\u001b[0mstr\u001b[0m\u001b[1;33m(\u001b[0m\u001b[0mi\u001b[0m\u001b[1;33m)\u001b[0m\u001b[1;33m+\u001b[0m\u001b[1;34m\".csv\"\u001b[0m\u001b[1;33m\u001b[0m\u001b[1;33m\u001b[0m\u001b[0m\n\u001b[1;32m---> 11\u001b[1;33m         \u001b[0minfo\u001b[0m \u001b[1;33m=\u001b[0m \u001b[0mpd\u001b[0m\u001b[1;33m.\u001b[0m\u001b[0mread_csv\u001b[0m\u001b[1;33m(\u001b[0m\u001b[0mr\u001b[0m\u001b[1;33m,\u001b[0m\u001b[0mheader\u001b[0m\u001b[1;33m=\u001b[0m\u001b[1;36m10\u001b[0m\u001b[1;33m,\u001b[0m \u001b[0mindex_col\u001b[0m\u001b[1;33m=\u001b[0m \u001b[1;36m0\u001b[0m\u001b[1;33m)\u001b[0m\u001b[1;33m\u001b[0m\u001b[1;33m\u001b[0m\u001b[0m\n\u001b[0m\u001b[0;32m     12\u001b[0m         \u001b[0mshar\u001b[0m \u001b[1;33m=\u001b[0m \u001b[0mpd\u001b[0m\u001b[1;33m.\u001b[0m\u001b[0mread_csv\u001b[0m\u001b[1;33m(\u001b[0m\u001b[0mr\u001b[0m\u001b[1;33m,\u001b[0m\u001b[0mnrows\u001b[0m\u001b[1;33m=\u001b[0m\u001b[1;36m7\u001b[0m\u001b[1;33m)\u001b[0m\u001b[1;33m.\u001b[0m\u001b[0mloc\u001b[0m\u001b[1;33m[\u001b[0m\u001b[1;34m'Shares Outstanding'\u001b[0m\u001b[1;33m]\u001b[0m\u001b[1;33m[\u001b[0m\u001b[1;36m0\u001b[0m\u001b[1;33m]\u001b[0m\u001b[1;31m#.loc nos localiza Shares Outstanding, [0] jala solo el valor numerico\u001b[0m\u001b[1;33m\u001b[0m\u001b[1;33m\u001b[0m\u001b[0m\n\u001b[0;32m     13\u001b[0m         \u001b[0minfo\u001b[0m \u001b[1;33m=\u001b[0m \u001b[0minfo\u001b[0m\u001b[1;33m.\u001b[0m\u001b[0mdropna\u001b[0m\u001b[1;33m(\u001b[0m\u001b[1;33m)\u001b[0m \u001b[1;31m#Quitan los datos vacios.\u001b[0m\u001b[1;33m\u001b[0m\u001b[1;33m\u001b[0m\u001b[0m\n",
      "\u001b[1;32mC:\\ProgramData\\Anaconda3\\lib\\site-packages\\pandas\\io\\parsers.py\u001b[0m in \u001b[0;36mparser_f\u001b[1;34m(filepath_or_buffer, sep, delimiter, header, names, index_col, usecols, squeeze, prefix, mangle_dupe_cols, dtype, engine, converters, true_values, false_values, skipinitialspace, skiprows, nrows, na_values, keep_default_na, na_filter, verbose, skip_blank_lines, parse_dates, infer_datetime_format, keep_date_col, date_parser, dayfirst, iterator, chunksize, compression, thousands, decimal, lineterminator, quotechar, quoting, escapechar, comment, encoding, dialect, tupleize_cols, error_bad_lines, warn_bad_lines, skipfooter, doublequote, delim_whitespace, low_memory, memory_map, float_precision)\u001b[0m\n\u001b[0;32m    676\u001b[0m                     skip_blank_lines=skip_blank_lines)\n\u001b[0;32m    677\u001b[0m \u001b[1;33m\u001b[0m\u001b[0m\n\u001b[1;32m--> 678\u001b[1;33m         \u001b[1;32mreturn\u001b[0m \u001b[0m_read\u001b[0m\u001b[1;33m(\u001b[0m\u001b[0mfilepath_or_buffer\u001b[0m\u001b[1;33m,\u001b[0m \u001b[0mkwds\u001b[0m\u001b[1;33m)\u001b[0m\u001b[1;33m\u001b[0m\u001b[1;33m\u001b[0m\u001b[0m\n\u001b[0m\u001b[0;32m    679\u001b[0m \u001b[1;33m\u001b[0m\u001b[0m\n\u001b[0;32m    680\u001b[0m     \u001b[0mparser_f\u001b[0m\u001b[1;33m.\u001b[0m\u001b[0m__name__\u001b[0m \u001b[1;33m=\u001b[0m \u001b[0mname\u001b[0m\u001b[1;33m\u001b[0m\u001b[1;33m\u001b[0m\u001b[0m\n",
      "\u001b[1;32mC:\\ProgramData\\Anaconda3\\lib\\site-packages\\pandas\\io\\parsers.py\u001b[0m in \u001b[0;36m_read\u001b[1;34m(filepath_or_buffer, kwds)\u001b[0m\n\u001b[0;32m    438\u001b[0m \u001b[1;33m\u001b[0m\u001b[0m\n\u001b[0;32m    439\u001b[0m     \u001b[1;31m# Create the parser.\u001b[0m\u001b[1;33m\u001b[0m\u001b[1;33m\u001b[0m\u001b[1;33m\u001b[0m\u001b[0m\n\u001b[1;32m--> 440\u001b[1;33m     \u001b[0mparser\u001b[0m \u001b[1;33m=\u001b[0m \u001b[0mTextFileReader\u001b[0m\u001b[1;33m(\u001b[0m\u001b[0mfilepath_or_buffer\u001b[0m\u001b[1;33m,\u001b[0m \u001b[1;33m**\u001b[0m\u001b[0mkwds\u001b[0m\u001b[1;33m)\u001b[0m\u001b[1;33m\u001b[0m\u001b[1;33m\u001b[0m\u001b[0m\n\u001b[0m\u001b[0;32m    441\u001b[0m \u001b[1;33m\u001b[0m\u001b[0m\n\u001b[0;32m    442\u001b[0m     \u001b[1;32mif\u001b[0m \u001b[0mchunksize\u001b[0m \u001b[1;32mor\u001b[0m \u001b[0miterator\u001b[0m\u001b[1;33m:\u001b[0m\u001b[1;33m\u001b[0m\u001b[1;33m\u001b[0m\u001b[0m\n",
      "\u001b[1;32mC:\\ProgramData\\Anaconda3\\lib\\site-packages\\pandas\\io\\parsers.py\u001b[0m in \u001b[0;36m__init__\u001b[1;34m(self, f, engine, **kwds)\u001b[0m\n\u001b[0;32m    785\u001b[0m             \u001b[0mself\u001b[0m\u001b[1;33m.\u001b[0m\u001b[0moptions\u001b[0m\u001b[1;33m[\u001b[0m\u001b[1;34m'has_index_names'\u001b[0m\u001b[1;33m]\u001b[0m \u001b[1;33m=\u001b[0m \u001b[0mkwds\u001b[0m\u001b[1;33m[\u001b[0m\u001b[1;34m'has_index_names'\u001b[0m\u001b[1;33m]\u001b[0m\u001b[1;33m\u001b[0m\u001b[1;33m\u001b[0m\u001b[0m\n\u001b[0;32m    786\u001b[0m \u001b[1;33m\u001b[0m\u001b[0m\n\u001b[1;32m--> 787\u001b[1;33m         \u001b[0mself\u001b[0m\u001b[1;33m.\u001b[0m\u001b[0m_make_engine\u001b[0m\u001b[1;33m(\u001b[0m\u001b[0mself\u001b[0m\u001b[1;33m.\u001b[0m\u001b[0mengine\u001b[0m\u001b[1;33m)\u001b[0m\u001b[1;33m\u001b[0m\u001b[1;33m\u001b[0m\u001b[0m\n\u001b[0m\u001b[0;32m    788\u001b[0m \u001b[1;33m\u001b[0m\u001b[0m\n\u001b[0;32m    789\u001b[0m     \u001b[1;32mdef\u001b[0m \u001b[0mclose\u001b[0m\u001b[1;33m(\u001b[0m\u001b[0mself\u001b[0m\u001b[1;33m)\u001b[0m\u001b[1;33m:\u001b[0m\u001b[1;33m\u001b[0m\u001b[1;33m\u001b[0m\u001b[0m\n",
      "\u001b[1;32mC:\\ProgramData\\Anaconda3\\lib\\site-packages\\pandas\\io\\parsers.py\u001b[0m in \u001b[0;36m_make_engine\u001b[1;34m(self, engine)\u001b[0m\n\u001b[0;32m   1012\u001b[0m     \u001b[1;32mdef\u001b[0m \u001b[0m_make_engine\u001b[0m\u001b[1;33m(\u001b[0m\u001b[0mself\u001b[0m\u001b[1;33m,\u001b[0m \u001b[0mengine\u001b[0m\u001b[1;33m=\u001b[0m\u001b[1;34m'c'\u001b[0m\u001b[1;33m)\u001b[0m\u001b[1;33m:\u001b[0m\u001b[1;33m\u001b[0m\u001b[1;33m\u001b[0m\u001b[0m\n\u001b[0;32m   1013\u001b[0m         \u001b[1;32mif\u001b[0m \u001b[0mengine\u001b[0m \u001b[1;33m==\u001b[0m \u001b[1;34m'c'\u001b[0m\u001b[1;33m:\u001b[0m\u001b[1;33m\u001b[0m\u001b[1;33m\u001b[0m\u001b[0m\n\u001b[1;32m-> 1014\u001b[1;33m             \u001b[0mself\u001b[0m\u001b[1;33m.\u001b[0m\u001b[0m_engine\u001b[0m \u001b[1;33m=\u001b[0m \u001b[0mCParserWrapper\u001b[0m\u001b[1;33m(\u001b[0m\u001b[0mself\u001b[0m\u001b[1;33m.\u001b[0m\u001b[0mf\u001b[0m\u001b[1;33m,\u001b[0m \u001b[1;33m**\u001b[0m\u001b[0mself\u001b[0m\u001b[1;33m.\u001b[0m\u001b[0moptions\u001b[0m\u001b[1;33m)\u001b[0m\u001b[1;33m\u001b[0m\u001b[1;33m\u001b[0m\u001b[0m\n\u001b[0m\u001b[0;32m   1015\u001b[0m         \u001b[1;32melse\u001b[0m\u001b[1;33m:\u001b[0m\u001b[1;33m\u001b[0m\u001b[1;33m\u001b[0m\u001b[0m\n\u001b[0;32m   1016\u001b[0m             \u001b[1;32mif\u001b[0m \u001b[0mengine\u001b[0m \u001b[1;33m==\u001b[0m \u001b[1;34m'python'\u001b[0m\u001b[1;33m:\u001b[0m\u001b[1;33m\u001b[0m\u001b[1;33m\u001b[0m\u001b[0m\n",
      "\u001b[1;32mC:\\ProgramData\\Anaconda3\\lib\\site-packages\\pandas\\io\\parsers.py\u001b[0m in \u001b[0;36m__init__\u001b[1;34m(self, src, **kwds)\u001b[0m\n\u001b[0;32m   1706\u001b[0m         \u001b[0mkwds\u001b[0m\u001b[1;33m[\u001b[0m\u001b[1;34m'usecols'\u001b[0m\u001b[1;33m]\u001b[0m \u001b[1;33m=\u001b[0m \u001b[0mself\u001b[0m\u001b[1;33m.\u001b[0m\u001b[0musecols\u001b[0m\u001b[1;33m\u001b[0m\u001b[1;33m\u001b[0m\u001b[0m\n\u001b[0;32m   1707\u001b[0m \u001b[1;33m\u001b[0m\u001b[0m\n\u001b[1;32m-> 1708\u001b[1;33m         \u001b[0mself\u001b[0m\u001b[1;33m.\u001b[0m\u001b[0m_reader\u001b[0m \u001b[1;33m=\u001b[0m \u001b[0mparsers\u001b[0m\u001b[1;33m.\u001b[0m\u001b[0mTextReader\u001b[0m\u001b[1;33m(\u001b[0m\u001b[0msrc\u001b[0m\u001b[1;33m,\u001b[0m \u001b[1;33m**\u001b[0m\u001b[0mkwds\u001b[0m\u001b[1;33m)\u001b[0m\u001b[1;33m\u001b[0m\u001b[1;33m\u001b[0m\u001b[0m\n\u001b[0m\u001b[0;32m   1709\u001b[0m \u001b[1;33m\u001b[0m\u001b[0m\n\u001b[0;32m   1710\u001b[0m         \u001b[0mpassed_names\u001b[0m \u001b[1;33m=\u001b[0m \u001b[0mself\u001b[0m\u001b[1;33m.\u001b[0m\u001b[0mnames\u001b[0m \u001b[1;32mis\u001b[0m \u001b[1;32mNone\u001b[0m\u001b[1;33m\u001b[0m\u001b[1;33m\u001b[0m\u001b[0m\n",
      "\u001b[1;32mpandas\\_libs\\parsers.pyx\u001b[0m in \u001b[0;36mpandas._libs.parsers.TextReader.__cinit__\u001b[1;34m()\u001b[0m\n",
      "\u001b[1;32mpandas\\_libs\\parsers.pyx\u001b[0m in \u001b[0;36mpandas._libs.parsers.TextReader._setup_parser_source\u001b[1;34m()\u001b[0m\n",
      "\u001b[1;31mFileNotFoundError\u001b[0m: File b'IYF_holdings0.csv' does not exist"
     ]
    }
   ],
   "source": [
    "# Función para descarga de los archivos csv los holdings del, sus tickers y\n",
    "# los shares oustanding (número de acciones en circulación).\n",
    "def holdings_csv(narch,name):\n",
    "    # Listas para guardar informacion\n",
    "    holdings = []\n",
    "    tickers = []\n",
    "    shares = []\n",
    "    # Es un ciclo para jalar los 12 archivos y cambiar el nombre automaticamente.\n",
    "    for i in range(narch):\n",
    "        r = name+str(i)+\".csv\"\n",
    "        info = pd.read_csv(r,header=10, index_col= 0)\n",
    "        shar = pd.read_csv(r,nrows=7).loc['Shares Outstanding'][0]#.loc nos localiza Shares Outstanding, [0] jala solo el valor numerico\n",
    "        info = info.dropna() #Quitan los datos vacios.\n",
    "        info = info.drop(columns = ['Name', 'Asset Class', \"Market Value\", 'Notional Value', 'Sector', 'SEDOL', 'ISIN', 'Exchange'])\n",
    "        holdings.append(info) #A mi lista le agrego \"info\"\n",
    "        tickers.append(list(holdings[i].index)) #A tickers agregar Holdings pero ciclicamente de 1 a 12.\n",
    "        shares.append(shar) #Jala shares y los agrega a una nueva lista.\n",
    "    return holdings, tickers, shares #Regresa las 3 listas pero ya con informacion.\n",
    "holdings, tickers, shares = holdings_csv(narch,\"IYF_holdings\") #Guarda las listas."
   ]
  },
  {
   "cell_type": "markdown",
   "metadata": {},
   "source": [
    "### <font color = navy> Función para descarga de datos históricos y agrupacion de tickers por fecha (Quandl)"
   ]
  },
  {
   "cell_type": "code",
   "execution_count": 6,
   "metadata": {},
   "outputs": [],
   "source": [
    "def download_quandl(fechas, tickers): #Jala los tickers y fechas\n",
    "    date = {'gte': fechas[0], 'lte': fechas[-1] } #Toma la primer fecha de la lista y la ultima fecha de la lista.\n",
    "    column = {'columns': ['ticker', 'date', 'Adj_close']} #Que necesito de Quandl\n",
    "    # Quandl > Tools > Python\n",
    "    data = quandl.get_table('WIKI/PRICES', qopts=column, ticker=tickers, date=date, paginate=True) \n",
    "    data = data.set_index('date')\n",
    "    data = data.pivot(columns='ticker') # agrupacion de tickers por fecha \n",
    "    data.columns = data.columns.droplevel(0)\n",
    "    return data"
   ]
  },
  {
   "cell_type": "markdown",
   "metadata": {},
   "source": [
    "### <font color = navy> Función para convertir de \"str\" a \"float\""
   ]
  },
  {
   "cell_type": "code",
   "execution_count": null,
   "metadata": {},
   "outputs": [],
   "source": [
    "def str_to_float(var): #Defines variable\n",
    "    st=var #Si la variabl es flotante, regresa el mismo valor.\n",
    "    if type(var[0]) != np.float64: #Si el valor de la variable no es float, comienza el ciclo.\n",
    "        st=[] # Arranca lista vacia para guardar informacion.\n",
    "        for i in var: #Para i, agarrara cada valor de la varible, le quitara la \",\" y la sustituye por un vacio. Tambien convierte la variable en un flotante.\n",
    "            st.append(float(i.replace(',','')))\n",
    "    return (st)"
   ]
  },
  {
   "cell_type": "markdown",
   "metadata": {},
   "source": [
    "### <font color = navy> Función para calcular el rendimiento de las series"
   ]
  },
  {
   "cell_type": "code",
   "execution_count": null,
   "metadata": {},
   "outputs": [],
   "source": [
    "def Rend(narch,nav): \n",
    "    h =[]# \"h\" comienza como lista vacia\n",
    "    for i in range(narch-1): # el (-1) es para que nos permita realizar la iteracion.\n",
    "        y= np.log(nav[i+1]/nav[i]) #Formula de rendimiento.\n",
    "        h.append(y) #Va haciendo append a los resultados.\n",
    "    return h #Nos regresa \"h\""
   ]
  },
  {
   "cell_type": "markdown",
   "metadata": {},
   "source": [
    "### <font color = navy> Función para calcular las medidas de desepeño (Rendimiento, Variación y Sharpe)"
   ]
  },
  {
   "cell_type": "code",
   "execution_count": null,
   "metadata": {},
   "outputs": [],
   "source": [
    "def medidas_desempeño(Rend,tl):\n",
    "    media = np.mean(Rend) #Media de los rendimientos\n",
    "    std = np.std(Rend) #Desv Stndr de los rendimientos\n",
    "    sharpe = (media -tl[i]/100)/std #Sharpe\n",
    "    return media, std, sharpe #Regresa los resultados"
   ]
  },
  {
   "cell_type": "markdown",
   "metadata": {},
   "source": [
    "### <font color = navy> Limpieza de la información"
   ]
  },
  {
   "cell_type": "code",
   "execution_count": 7,
   "metadata": {},
   "outputs": [
    {
     "ename": "NameError",
     "evalue": "name 'tickers' is not defined",
     "output_type": "error",
     "traceback": [
      "\u001b[1;31m---------------------------------------------------------------------------\u001b[0m",
      "\u001b[1;31mNameError\u001b[0m                                 Traceback (most recent call last)",
      "\u001b[1;32m<ipython-input-7-e604fa9d44d1>\u001b[0m in \u001b[0;36m<module>\u001b[1;34m\u001b[0m\n\u001b[0;32m      4\u001b[0m \u001b[0mcompra\u001b[0m\u001b[1;33m=\u001b[0m\u001b[1;33m[\u001b[0m\u001b[1;33m]\u001b[0m\u001b[1;33m\u001b[0m\u001b[1;33m\u001b[0m\u001b[0m\n\u001b[0;32m      5\u001b[0m \u001b[1;32mfor\u001b[0m \u001b[0mi\u001b[0m \u001b[1;32min\u001b[0m \u001b[0mrange\u001b[0m\u001b[1;33m(\u001b[0m\u001b[0mnarch\u001b[0m\u001b[1;33m-\u001b[0m\u001b[1;36m1\u001b[0m\u001b[1;33m)\u001b[0m\u001b[1;33m:\u001b[0m\u001b[1;33m\u001b[0m\u001b[1;33m\u001b[0m\u001b[0m\n\u001b[1;32m----> 6\u001b[1;33m     \u001b[0mventa\u001b[0m\u001b[1;33m.\u001b[0m\u001b[0mappend\u001b[0m\u001b[1;33m(\u001b[0m\u001b[0mlist\u001b[0m\u001b[1;33m(\u001b[0m\u001b[0mset\u001b[0m\u001b[1;33m(\u001b[0m\u001b[0mtickers\u001b[0m\u001b[1;33m[\u001b[0m\u001b[0mi\u001b[0m\u001b[1;33m]\u001b[0m\u001b[1;33m)\u001b[0m\u001b[1;33m-\u001b[0m\u001b[0mset\u001b[0m\u001b[1;33m(\u001b[0m\u001b[0mtickers\u001b[0m\u001b[1;33m[\u001b[0m\u001b[0mi\u001b[0m\u001b[1;33m+\u001b[0m\u001b[1;36m1\u001b[0m\u001b[1;33m]\u001b[0m\u001b[1;33m)\u001b[0m\u001b[1;33m)\u001b[0m\u001b[1;33m)\u001b[0m \u001b[1;31m# Compara listas de tickers, guarda las que se eliminaron\u001b[0m\u001b[1;33m\u001b[0m\u001b[1;33m\u001b[0m\u001b[0m\n\u001b[0m\u001b[0;32m      7\u001b[0m     \u001b[0migual\u001b[0m\u001b[1;33m.\u001b[0m\u001b[0mappend\u001b[0m\u001b[1;33m(\u001b[0m\u001b[0mlist\u001b[0m\u001b[1;33m(\u001b[0m\u001b[0mset\u001b[0m\u001b[1;33m(\u001b[0m\u001b[0mtickers\u001b[0m\u001b[1;33m[\u001b[0m\u001b[0mi\u001b[0m\u001b[1;33m+\u001b[0m\u001b[1;36m1\u001b[0m\u001b[1;33m]\u001b[0m\u001b[1;33m)\u001b[0m\u001b[1;33m-\u001b[0m\u001b[0mset\u001b[0m\u001b[1;33m(\u001b[0m\u001b[1;33m(\u001b[0m\u001b[0mset\u001b[0m\u001b[1;33m(\u001b[0m\u001b[0mtickers\u001b[0m\u001b[1;33m[\u001b[0m\u001b[0mi\u001b[0m\u001b[1;33m+\u001b[0m\u001b[1;36m1\u001b[0m\u001b[1;33m]\u001b[0m\u001b[1;33m)\u001b[0m\u001b[1;33m-\u001b[0m\u001b[0mset\u001b[0m\u001b[1;33m(\u001b[0m\u001b[0mtickers\u001b[0m\u001b[1;33m[\u001b[0m\u001b[0mi\u001b[0m\u001b[1;33m]\u001b[0m\u001b[1;33m)\u001b[0m\u001b[1;33m)\u001b[0m\u001b[1;33m)\u001b[0m\u001b[1;33m)\u001b[0m\u001b[1;33m)\u001b[0m \u001b[1;31m# Compara tickers, guarda las iguales\u001b[0m\u001b[1;33m\u001b[0m\u001b[1;33m\u001b[0m\u001b[0m\n\u001b[0;32m      8\u001b[0m     \u001b[0mcompra\u001b[0m\u001b[1;33m.\u001b[0m\u001b[0mappend\u001b[0m\u001b[1;33m(\u001b[0m\u001b[0mlist\u001b[0m\u001b[1;33m(\u001b[0m\u001b[0mset\u001b[0m\u001b[1;33m(\u001b[0m\u001b[0mtickers\u001b[0m\u001b[1;33m[\u001b[0m\u001b[0mi\u001b[0m\u001b[1;33m+\u001b[0m\u001b[1;36m1\u001b[0m\u001b[1;33m]\u001b[0m\u001b[1;33m)\u001b[0m\u001b[1;33m-\u001b[0m\u001b[0mset\u001b[0m\u001b[1;33m(\u001b[0m\u001b[0mtickers\u001b[0m\u001b[1;33m[\u001b[0m\u001b[0mi\u001b[0m\u001b[1;33m]\u001b[0m\u001b[1;33m)\u001b[0m\u001b[1;33m)\u001b[0m\u001b[1;33m)\u001b[0m  \u001b[1;31m# Compara tickers, guarda las que se compraron\u001b[0m\u001b[1;33m\u001b[0m\u001b[1;33m\u001b[0m\u001b[0m\n",
      "\u001b[1;31mNameError\u001b[0m: name 'tickers' is not defined"
     ]
    }
   ],
   "source": [
    "# Juntando tickers para hacer un mismo indice\n",
    "venta=[] \n",
    "igual=[] \n",
    "compra=[] \n",
    "for i in range(narch-1):\n",
    "    venta.append(list(set(tickers[i])-set(tickers[i+1]))) # Compara listas de tickers, guarda las que se eliminaron\n",
    "    igual.append(list(set(tickers[i+1])-set((set(tickers[i+1])-set(tickers[i]))))) # Compara tickers, guarda las iguales\n",
    "    compra.append(list(set(tickers[i+1])-set(tickers[i])))  # Compara tickers, guarda las que se compraron\n",
    "venta = list(np.concatenate(venta)) #Concatena las ventas\n",
    "igual = list(np.concatenate(igual)) #Concatena las que estan iguales\n",
    "compra = list(np.concatenate(compra)) #Concatena las compras\n",
    "indice = list(set(venta+igual+compra)) #Junta todo el set como un solo indice"
   ]
  },
  {
   "cell_type": "code",
   "execution_count": 11,
   "metadata": {},
   "outputs": [
    {
     "ename": "NameError",
     "evalue": "name 'indice' is not defined",
     "output_type": "error",
     "traceback": [
      "\u001b[1;31m---------------------------------------------------------------------------\u001b[0m",
      "\u001b[1;31mNameError\u001b[0m                                 Traceback (most recent call last)",
      "\u001b[1;32m<ipython-input-11-096681df8b19>\u001b[0m in \u001b[0;36m<module>\u001b[1;34m\u001b[0m\n\u001b[0;32m      1\u001b[0m \u001b[1;31m# Acomodo de información de acuerdo a índice(tickers) en común (Weight(%), Price y Shares)\u001b[0m\u001b[1;33m\u001b[0m\u001b[1;33m\u001b[0m\u001b[1;33m\u001b[0m\u001b[0m\n\u001b[1;32m----> 2\u001b[1;33m \u001b[0mWeights\u001b[0m \u001b[1;33m,\u001b[0m \u001b[0mPrices\u001b[0m\u001b[1;33m,\u001b[0m \u001b[0mShares\u001b[0m \u001b[1;33m=\u001b[0m \u001b[0mpd\u001b[0m\u001b[1;33m.\u001b[0m\u001b[0mDataFrame\u001b[0m\u001b[1;33m(\u001b[0m\u001b[0mindex\u001b[0m\u001b[1;33m=\u001b[0m\u001b[0mindice\u001b[0m\u001b[1;33m)\u001b[0m \u001b[1;33m,\u001b[0m \u001b[0mpd\u001b[0m\u001b[1;33m.\u001b[0m\u001b[0mDataFrame\u001b[0m\u001b[1;33m(\u001b[0m\u001b[0mindex\u001b[0m\u001b[1;33m=\u001b[0m\u001b[0mindice\u001b[0m\u001b[1;33m)\u001b[0m\u001b[1;33m,\u001b[0m \u001b[0mpd\u001b[0m\u001b[1;33m.\u001b[0m\u001b[0mDataFrame\u001b[0m\u001b[1;33m(\u001b[0m\u001b[0mindex\u001b[0m\u001b[1;33m=\u001b[0m\u001b[0mindice\u001b[0m\u001b[1;33m)\u001b[0m\u001b[1;33m\u001b[0m\u001b[1;33m\u001b[0m\u001b[0m\n\u001b[0m\u001b[0;32m      3\u001b[0m \u001b[1;32mfor\u001b[0m \u001b[0mi\u001b[0m \u001b[1;32min\u001b[0m \u001b[0mrange\u001b[0m\u001b[1;33m(\u001b[0m\u001b[0mnarch\u001b[0m\u001b[1;33m)\u001b[0m\u001b[1;33m:\u001b[0m\u001b[1;33m\u001b[0m\u001b[1;33m\u001b[0m\u001b[0m\n\u001b[0;32m      4\u001b[0m     \u001b[0ml\u001b[0m\u001b[1;33m,\u001b[0m\u001b[0ml1\u001b[0m\u001b[1;33m,\u001b[0m\u001b[0ml2\u001b[0m\u001b[1;33m=\u001b[0m \u001b[1;33m[\u001b[0m\u001b[1;33m]\u001b[0m\u001b[1;33m,\u001b[0m\u001b[1;33m[\u001b[0m\u001b[1;33m]\u001b[0m\u001b[1;33m,\u001b[0m\u001b[1;33m[\u001b[0m\u001b[1;33m]\u001b[0m\u001b[1;33m\u001b[0m\u001b[1;33m\u001b[0m\u001b[0m\n\u001b[0;32m      5\u001b[0m     \u001b[1;32mfor\u001b[0m \u001b[0mj\u001b[0m \u001b[1;32min\u001b[0m \u001b[0mrange\u001b[0m\u001b[1;33m(\u001b[0m\u001b[0mlen\u001b[0m\u001b[1;33m(\u001b[0m\u001b[0mtickers\u001b[0m\u001b[1;33m[\u001b[0m\u001b[0mi\u001b[0m\u001b[1;33m]\u001b[0m\u001b[1;33m)\u001b[0m\u001b[1;33m)\u001b[0m\u001b[1;33m:\u001b[0m\u001b[1;33m\u001b[0m\u001b[1;33m\u001b[0m\u001b[0m\n",
      "\u001b[1;31mNameError\u001b[0m: name 'indice' is not defined"
     ]
    }
   ],
   "source": [
    "# Acomodo de información de acuerdo a índice(tickers) en común (Weight(%), Price y Shares)\n",
    "Weights , Prices, Shares = pd.DataFrame(index=indice) , pd.DataFrame(index=indice), pd.DataFrame(index=indice)\n",
    "for i in range(narch):\n",
    "    l,l1,l2= [],[],[]\n",
    "    for j in range(len(tickers[i])):\n",
    "        l.append(holdings[i]['Weight (%)'][tickers[i][j]])\n",
    "        l1.append(holdings[i]['Price'][tickers[i][j]])\n",
    "        l2.append(holdings[i]['Shares'][tickers[i][j]])\n",
    "    l , l1, l2 = pd.DataFrame(l, index=tickers[i]),pd.DataFrame(str_to_float(l1), index=tickers[i]),pd.DataFrame(str_to_float(l2), index=tickers[i])\n",
    "    Weights['Holdings'+str(i)+''] ,Prices['Holdings'+str(i)+''],Shares['Holdings'+str(i)+''] = l ,l1 , l2"
   ]
  },
  {
   "cell_type": "markdown",
   "metadata": {},
   "source": [
    "### <font color = navy> Resolución del problema: Escenarios con rebalanceos\n",
    "\n",
    "El primer escenario es igual al original, para los demás escenarios se realizan distintos rebalanceos.\n",
    "\n",
    "Por ejemplo (periodo rebalanceos): \n",
    "- Segundo escenario = [0]\n",
    "- Tercer escenario = [0,1]\n",
    "- Cuarto escenario = [0,1]\n",
    "- ...\n",
    "- Ultimo escenario = [0,11]\n",
    "\n",
    "En el segundo escenario no hay rebalanceos, es decir, se mantienen las mismas posiciones durante todo el año.\n",
    "Del tercer al ultimo escenario únicamente hay un rebalanceo mensual, el cual se va recorriendo mensualmente por escenario."
   ]
  },
  {
   "cell_type": "markdown",
   "metadata": {},
   "source": [
    "### <font color = teal> ESCENARIO A -  ORIGINAL"
   ]
  },
  {
   "cell_type": "code",
   "execution_count": null,
   "metadata": {},
   "outputs": [],
   "source": [
    "def nav(narch):\n",
    "    nav = [] #Lista vacia\n",
    "    for i in range(narch): #Ciclo de i hasta narch\n",
    "        mult = Prices['Holdings'+str(i)+''].dropna() * Shares['Holdings'+str(i)+''].dropna() #Ciclando la lista \"Holdings\" y dejando ir los vacios\n",
    "        mult.loc['USD'] = mult.loc['USD']/100 #Especial para los dolares\n",
    "        nav.append(sum(mult) / str_to_float(shares)[i]) #Obtiene NAV que es (suma de mult)/shares \n",
    "    return nav\n",
    "navA = nav(narch)\n",
    "navA"
   ]
  },
  {
   "cell_type": "code",
   "execution_count": null,
   "metadata": {},
   "outputs": [],
   "source": [
    "plt.plot(navA)\n",
    "plt.title('NAV per Share Original')\n",
    "plt.show()"
   ]
  },
  {
   "cell_type": "code",
   "execution_count": null,
   "metadata": {},
   "outputs": [],
   "source": [
    "plt.plot(Rend(narch,navA))\n",
    "plt.title('Rendimientos Original')\n",
    "plt.show()"
   ]
  },
  {
   "cell_type": "markdown",
   "metadata": {},
   "source": [
    "### <font color = teal> ESCENARIO B - SIN REBALANCEOS (P0)\n",
    "Mismas posiciones de Periodo 0.  - > [0]"
   ]
  },
  {
   "cell_type": "code",
   "execution_count": null,
   "metadata": {},
   "outputs": [],
   "source": [
    "#Buscando activos con datos faltantes de precios para buscarlos en quandl\n",
    "na_free = Prices.dropna()\n",
    "only_na = Prices[np.invert(Prices.index.isin(na_free.index))]\n",
    "idx_only_na = list(only_na.index)\n",
    "na_free.head() #only_na"
   ]
  },
  {
   "cell_type": "code",
   "execution_count": null,
   "metadata": {
    "scrolled": true
   },
   "outputs": [],
   "source": [
    "#descargando datos quandl y agrupando por fechas mensuales requeridas.\n",
    "prices = download_quandl(fechas, idx_only_na) #Descarga de datos sobre informacion que no se tiene\n",
    "prices_m = pd.DataFrame(index= fechas) #Data Frame con el indice de las fechas\n",
    "for i in prices.columns:\n",
    "    x = pd.DataFrame([prices[i].loc[fechas[z]] for z in range(len(fechas))],index=fechas)\n",
    "    prices_m[str(i)] = x\n",
    "prices_m = prices_m.T\n",
    "prices_m.columns = ['Holdings'+str(i)+'' for i in range(narch)]\n",
    "prices_m"
   ]
  },
  {
   "cell_type": "code",
   "execution_count": null,
   "metadata": {},
   "outputs": [],
   "source": [
    "#Agregando datos encontrados de Quandl.\n",
    "na_free = na_free.append(prices_m.dropna())\n",
    "na_free"
   ]
  },
  {
   "cell_type": "code",
   "execution_count": null,
   "metadata": {},
   "outputs": [],
   "source": [
    "#Para los que ya no se encontraron se pondrán los datos que estaban y se rellenaran los vacios con 0.\n",
    "faltantes = list(set(Prices.index)- set(na_free.index))\n",
    "faltantes = pd.DataFrame([Prices.loc[i] for i in faltantes]).fillna(0)\n",
    "na_free = na_free.append(faltantes)\n",
    "#Igualando a Prices ( es lo mismo pero ya con información completa)\n",
    "Prices_F = na_free\n",
    "Prices_F"
   ]
  },
  {
   "cell_type": "code",
   "execution_count": null,
   "metadata": {
    "scrolled": true
   },
   "outputs": [],
   "source": [
    "def nav1(precios,narch):\n",
    "    nav1 = []\n",
    "    for i in range(narch):\n",
    "        quitar = list(set(Prices_F.index)-set(tickers[0]))\n",
    "        mult = Prices_F['Holdings'+str(i)+''].drop(quitar) * Shares['Holdings'+str(0)+''].drop(quitar)\n",
    "        mult.loc['USD'] = mult.loc['USD']/100\n",
    "        nav1.append((sum(mult)) / str_to_float(shares)[i])\n",
    "    return nav1\n",
    "navB = nav1(Prices_F,narch)\n",
    "navB"
   ]
  },
  {
   "cell_type": "code",
   "execution_count": null,
   "metadata": {
    "scrolled": true
   },
   "outputs": [],
   "source": [
    "plt.plot(navA)\n",
    "plt.plot(navB)\n",
    "plt.title('NAVs')\n",
    "plt.show()"
   ]
  },
  {
   "cell_type": "code",
   "execution_count": null,
   "metadata": {},
   "outputs": [],
   "source": [
    "plt.plot(Rend(narch,navA))\n",
    "plt.plot(Rend(narch,navB))\n",
    "plt.title('Rendimientos')\n",
    "plt.show()"
   ]
  },
  {
   "cell_type": "markdown",
   "metadata": {},
   "source": [
    "### <font color = teal> ESCENARIO C -  REBALANCEO P1\n",
    "Mismas posiciones de Periodo 0, rebalanceo Periodo 1 - > [0,1]"
   ]
  },
  {
   "cell_type": "code",
   "execution_count": null,
   "metadata": {},
   "outputs": [],
   "source": [
    "def nav2(narch,preb):\n",
    "    nav2 = []\n",
    "    for i in range(preb):\n",
    "        quitar = list(set(Prices_F.index)-set(tickers[0]))\n",
    "        mult = Prices_F['Holdings'+str(i)+''].drop(quitar) * Shares['Holdings'+str(0)+''].drop(quitar)\n",
    "        mult.loc['USD'] = mult.loc['USD']/100\n",
    "        nav2.append((sum(mult)) / str_to_float(shares)[i])\n",
    "    for i in range(narch-preb):\n",
    "        quitar = list(set(Prices_F.index)-set(tickers[preb]))\n",
    "        mult = Prices_F['Holdings'+str(i)+''].drop(quitar) * Shares['Holdings'+str(preb)+''].drop(quitar)\n",
    "        mult.loc['USD'] = mult.loc['USD']/100\n",
    "        nav2.append((sum(mult)) / str_to_float(shares)[i])\n",
    "    return nav2\n",
    "navC = nav2(narch,1)\n",
    "navC"
   ]
  },
  {
   "cell_type": "markdown",
   "metadata": {},
   "source": [
    "### <font color = teal> ESCENARIO D-  REBALANCEO P2\n",
    "Mismas posiciones de Periodo 0, rebalanceo Periodo 2 - > [0,2]"
   ]
  },
  {
   "cell_type": "code",
   "execution_count": null,
   "metadata": {},
   "outputs": [],
   "source": [
    "navD = nav2(narch,2)\n",
    "navD"
   ]
  },
  {
   "cell_type": "markdown",
   "metadata": {},
   "source": [
    "### <font color = teal> ESCENARIO E -  REBALANCEO P3\n",
    "Mismas posiciones de Periodo 0, rebalanceo Periodo 3 - > [0,3]"
   ]
  },
  {
   "cell_type": "code",
   "execution_count": null,
   "metadata": {},
   "outputs": [],
   "source": [
    "navE = nav2(narch,3)\n",
    "navE"
   ]
  },
  {
   "cell_type": "markdown",
   "metadata": {},
   "source": [
    "### <font color = teal> ESCENARIO F -  REBALANCEO P4\n",
    "Mismas posiciones de Periodo 0, rebalanceo Periodo 4 - > [0,4]"
   ]
  },
  {
   "cell_type": "code",
   "execution_count": null,
   "metadata": {},
   "outputs": [],
   "source": [
    "navF = nav2(narch,4)\n",
    "navF"
   ]
  },
  {
   "cell_type": "markdown",
   "metadata": {},
   "source": [
    "### <font color = teal> ESCENARIO G -  REBALANCEO P5\n",
    "Mismas posiciones de Periodo 0, rebalanceo Periodo 5 - > [0,5]"
   ]
  },
  {
   "cell_type": "code",
   "execution_count": null,
   "metadata": {},
   "outputs": [],
   "source": [
    "navG = nav2(narch,5)\n",
    "navG"
   ]
  },
  {
   "cell_type": "markdown",
   "metadata": {},
   "source": [
    "### <font color = teal> ESCENARIO H -  REBALANCEO P6\n",
    "Mismas posiciones de Periodo 0, rebalanceo Periodo 6 - > [0,6]"
   ]
  },
  {
   "cell_type": "code",
   "execution_count": null,
   "metadata": {},
   "outputs": [],
   "source": [
    "navH = nav2(narch,6)\n",
    "navH"
   ]
  },
  {
   "cell_type": "markdown",
   "metadata": {},
   "source": [
    "### <font color = teal> ESCENARIO I -  REBALANCEO P7\n",
    "Mismas posiciones de Periodo 0, rebalanceo Periodo 7 - > [0,7]"
   ]
  },
  {
   "cell_type": "code",
   "execution_count": null,
   "metadata": {},
   "outputs": [],
   "source": [
    "navI = nav2(narch,7)\n",
    "navI"
   ]
  },
  {
   "cell_type": "markdown",
   "metadata": {},
   "source": [
    "### <font color = teal> ESCENARIO J -  REBALANCEO P8\n",
    "Mismas posiciones de Periodo 0, rebalanceo Periodo 8 - > [0,8]"
   ]
  },
  {
   "cell_type": "code",
   "execution_count": null,
   "metadata": {},
   "outputs": [],
   "source": [
    "navJ = nav2(narch,8)\n",
    "navJ"
   ]
  },
  {
   "cell_type": "markdown",
   "metadata": {},
   "source": [
    "### <font color = teal> ESCENARIO K -  REBALANCEO P9\n",
    "Mismas posiciones de Periodo 0, rebalanceo Periodo 9 - > [0,9]"
   ]
  },
  {
   "cell_type": "code",
   "execution_count": null,
   "metadata": {},
   "outputs": [],
   "source": [
    "navK = nav2(narch,9)\n",
    "navK"
   ]
  },
  {
   "cell_type": "markdown",
   "metadata": {},
   "source": [
    "### <font color = teal> ESCENARIO L -  REBALANCEO P10\n",
    "Mismas posiciones de Periodo 0, rebalanceo Periodo 10 - > [0,10]"
   ]
  },
  {
   "cell_type": "code",
   "execution_count": null,
   "metadata": {},
   "outputs": [],
   "source": [
    "navL = nav2(narch,10)\n",
    "navL"
   ]
  },
  {
   "cell_type": "markdown",
   "metadata": {},
   "source": [
    "### <font color = teal> ESCENARIO M -  REBALANCEO P11\n",
    "Mismas posiciones de Periodo 0, rebalanceo Periodo 11 - > [0,11]"
   ]
  },
  {
   "cell_type": "code",
   "execution_count": null,
   "metadata": {},
   "outputs": [],
   "source": [
    "navM = nav2(narch,11)\n",
    "navM"
   ]
  },
  {
   "cell_type": "markdown",
   "metadata": {},
   "source": [
    "### <font color = teal> ESCENARIO N -  REBALANCEO P12\n",
    "Mismas posiciones de Periodo 0, rebalanceo Periodo 12 - > [0,12]"
   ]
  },
  {
   "cell_type": "code",
   "execution_count": null,
   "metadata": {},
   "outputs": [],
   "source": [
    "navN = nav2(narch,12)\n",
    "navN"
   ]
  },
  {
   "cell_type": "markdown",
   "metadata": {},
   "source": [
    "### <font color = navy> TODO"
   ]
  },
  {
   "cell_type": "code",
   "execution_count": null,
   "metadata": {},
   "outputs": [],
   "source": [
    "NAVs = pd.DataFrame()\n",
    "Rends = pd.DataFrame()\n",
    "for i in range(narch):\n",
    "    NAVs['REB_p'+str(i)+''] = nav2(narch,i)\n",
    "    Rends['REB_p'+str(i)+''] = Rend(narch, nav2(narch,i))\n",
    "NAVs"
   ]
  },
  {
   "cell_type": "code",
   "execution_count": null,
   "metadata": {},
   "outputs": [],
   "source": [
    "Rends"
   ]
  },
  {
   "cell_type": "code",
   "execution_count": null,
   "metadata": {},
   "outputs": [],
   "source": [
    "Idx = NAVs.columns\n",
    "for i in range(len(Idx)):\n",
    "    plt.plot(NAVs['REB_p'+str(i)+''], label = Idx[i]) \n",
    "plt.plot(navA, label='ORIGINAL')\n",
    "plt.title('NAVs')\n",
    "plt.legend(bbox_to_anchor=(1.05, 1), loc=2, borderaxespad=0.)\n",
    "plt.show()"
   ]
  },
  {
   "cell_type": "code",
   "execution_count": null,
   "metadata": {},
   "outputs": [],
   "source": [
    "Idx = Rends.columns\n",
    "for i in range(len(Idx)):\n",
    "    plt.plot(Rends['REB_p'+str(i)+''], label = Idx[i]) \n",
    "plt.plot(Rend(narch,navA), label='ORIGINAL')\n",
    "plt.title('Rends')\n",
    "plt.legend(bbox_to_anchor=(1.05, 1), loc=2, borderaxespad=0.)\n",
    "plt.show()"
   ]
  },
  {
   "cell_type": "markdown",
   "metadata": {},
   "source": [
    "### <font color = navy> Mediad de desempeño"
   ]
  },
  {
   "cell_type": "code",
   "execution_count": null,
   "metadata": {},
   "outputs": [],
   "source": [
    "medidas_desempeño(narch,Rend(narch,navA),tl)"
   ]
  },
  {
   "cell_type": "code",
   "execution_count": null,
   "metadata": {},
   "outputs": [],
   "source": [
    "# Función para calcular el rendimiento de las series\n",
    "def Rend(narch,name):\n",
    "    h =[]\n",
    "    for i in range(narch-1):\n",
    "        y= np.log(name[i+1]/name[i])\n",
    "        h.append(y)\n",
    "    return h"
   ]
  },
  {
   "cell_type": "code",
   "execution_count": null,
   "metadata": {},
   "outputs": [],
   "source": [
    "#Función para calcular las medidas de desepeño ( Rendimiento, Variación y sharpe)\n",
    "def medidas_desempeño(narch,Rend,tl):\n",
    "    media = np.mean(Rend)\n",
    "    std = np.std(Rend)\n",
    "    sharpe = (media -tl[i]/100)/std\n",
    "    return media, std, sharpe"
   ]
  },
  {
   "cell_type": "code",
   "execution_count": null,
   "metadata": {},
   "outputs": [],
   "source": [
    "def medidas_desempeño(narch,name,tl):\n",
    "    h =[]\n",
    "    for i in range(narch-1):\n",
    "        y= np.log(name[i+1]/name[i])\n",
    "        h.append(y)\n",
    "    media = np.mean(h)\n",
    "    std = np.std(h)\n",
    "    sharpe = (media -tl)/std\n",
    "    return media, std, sharpe"
   ]
  },
  {
   "cell_type": "code",
   "execution_count": null,
   "metadata": {},
   "outputs": [],
   "source": [
    "h = pd.DataFrame(index=['Rendimiento','Volatilidad','Sharpe'])\n",
    "for i in range(narch):\n",
    "        nomp = 'REBp'+str(i)+''\n",
    "        h[nomp] = medidas_desempeño(narch,REBcomp[nomp],tl[i]/100)\n",
    "h = h.T\n",
    "h"
   ]
  },
  {
   "cell_type": "code",
   "execution_count": null,
   "metadata": {},
   "outputs": [],
   "source": [
    "#Idx = h.columns\n",
    "#for i in range(len(Idx)):\n",
    "#    plt.plot(h[h.columns[i]], label = Idx[i]) \n",
    "#plt.legend(bbox_to_anchor=(1.05, 1), loc=2, borderaxespad=0.)\n",
    "#plt.show()"
   ]
  },
  {
   "cell_type": "markdown",
   "metadata": {},
   "source": [
    "### <font color = navy> NAV (Net Asset Value) o VL (Valor liquidativo)\n",
    "La rentabilidad pasada no es indicativa de la rentabilidad futura y no debe ser el único factor que se considere a la hora de seleccionar un producto. Los datos de rentabilidad se basan en el valor liquidativo (Net Asset Value, NAV) del ETF que puede no ser el mismo que el precio de mercado del ETF. Los accionistas individuales pueden obtener rendimientos distintos de la rentabilidad del NAV.\n",
    "\n",
    "\n",
    "VL = P / N = Patrimonio neto del fondo(Valor de la cartera del fondo) / Número de participaciones del fondo.\n",
    "\n",
    "*El valor de la cartera de fondo es precios x shares.*\n",
    "*El número de participaciones del fondo falta sacarlo.*"
   ]
  },
  {
   "cell_type": "code",
   "execution_count": null,
   "metadata": {},
   "outputs": [],
   "source": [
    "nav_m = [info.loc[i]['NAV per Share'][0] for i in fechas]\n",
    "shares_out = [info.loc[i]['Shares Outstanding'][0] for i in fechas]\n",
    "info_m = pd.DataFrame(index=fechas)\n",
    "info_m['NAV per Share'] = nav_m\n",
    "info_m['Shares Outstanding'] = shares_out\n",
    "info_m"
   ]
  },
  {
   "cell_type": "code",
   "execution_count": null,
   "metadata": {},
   "outputs": [],
   "source": [
    "plt.plot(info_m['NAV per Share'])\n",
    "plt.title('NAV per Share')\n",
    "plt.show()"
   ]
  },
  {
   "cell_type": "markdown",
   "metadata": {},
   "source": [
    "### <font color = navy> Comparación de resultados: Rebalanceo vs. Mismas Posiciones"
   ]
  },
  {
   "cell_type": "markdown",
   "metadata": {},
   "source": [
    "..."
   ]
  },
  {
   "cell_type": "markdown",
   "metadata": {},
   "source": [
    "### <font color = navy> Conclusiones\n",
    "....."
   ]
  },
  {
   "cell_type": "markdown",
   "metadata": {},
   "source": [
    "### Bibliografía\n",
    "- https://www.portafolio.co/economia/finanzas/son-etf-293754\n",
    "\n",
    "- https://economipedia.com/definiciones/etf-fondos-cotizados.html\n",
    "\n",
    "- https://www.ishares.com/us/products/239508/#/\n",
    "\n",
    "- https://www.quandl.com/tools/python"
   ]
  }
 ],
 "metadata": {
  "kernelspec": {
   "display_name": "Python 3",
   "language": "python",
   "name": "python3"
  },
  "language_info": {
   "codemirror_mode": {
    "name": "ipython",
    "version": 3
   },
   "file_extension": ".py",
   "mimetype": "text/x-python",
   "name": "python",
   "nbconvert_exporter": "python",
   "pygments_lexer": "ipython3",
   "version": "3.7.1"
  }
 },
 "nbformat": 4,
 "nbformat_minor": 2
}
